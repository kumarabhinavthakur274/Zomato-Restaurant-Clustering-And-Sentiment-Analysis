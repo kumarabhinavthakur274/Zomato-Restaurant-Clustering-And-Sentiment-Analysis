{
  "nbformat": 4,
  "nbformat_minor": 0,
  "metadata": {
    "colab": {
      "provenance": [],
      "collapsed_sections": [
        "vncDsAP0Gaoa",
        "FJNUwmbgGyua",
        "w6K7xa23Elo4",
        "yQaldy8SH6Dl",
        "mDgbUHAGgjLW",
        "O_i_v8NEhb9l",
        "HhfV-JJviCcP",
        "Y3lxredqlCYt",
        "3RnN4peoiCZX",
        "x71ZqKXriCWQ",
        "7hBIi_osiCS2",
        "JlHwYmJAmNHm",
        "35m5QtbWiB9F",
        "PoPl-ycgm1ru",
        "H0kj-8xxnORC",
        "nA9Y7ga8ng1Z",
        "PBTbrJXOngz2",
        "u3PMJOP6ngxN",
        "dauF4eBmngu3",
        "bKJF3rekwFvQ",
        "MSa1f5Uengrz",
        "GF8Ens_Soomf",
        "0wOQAZs5pc--",
        "K5QZ13OEpz2H",
        "lQ7QKXXCp7Bj",
        "448CDAPjqfQr",
        "KSlN3yHqYklG",
        "t6dVpIINYklI",
        "ijmpgYnKYklI",
        "-JiQyfWJYklI",
        "EM7whBJCYoAo",
        "fge-S5ZAYoAp",
        "85gYPyotYoAp",
        "RoGjAbkUYoAp",
        "4Of9eVA-YrdM",
        "iky9q4vBYrdO",
        "F6T5p64dYrdO",
        "y-Ehk30pYrdP",
        "bamQiAODYuh1",
        "QHF8YVU7Yuh3",
        "GwzvFGzlYuh3",
        "qYpmQ266Yuh3",
        "OH-pJp9IphqM",
        "bbFf2-_FphqN",
        "_ouA3fa0phqN",
        "Seke61FWphqN",
        "PIIx-8_IphqN",
        "t27r6nlMphqO",
        "r2jJGEOYphqO",
        "b0JNsNcRphqO",
        "BZR9WyysphqO",
        "jj7wYXLtphqO",
        "eZrbJ2SmphqO",
        "rFu4xreNphqO",
        "YJ55k-q6phqO",
        "gCFgpxoyphqP",
        "OVtJsKN_phqQ",
        "lssrdh5qphqQ",
        "U2RJ9gkRphqQ",
        "1M8mcRywphqQ",
        "tgIPom80phqQ",
        "JMzcOPDDphqR",
        "x-EpHcCOp1ci",
        "X_VqEhTip1ck",
        "8zGJKyg5p1ck",
        "PVzmfK_Ep1ck",
        "n3dbpmDWp1ck",
        "ylSl6qgtp1ck",
        "ZWILFDl5p1ck",
        "M7G43BXep1ck",
        "Ag9LCva-p1cl",
        "E6MkPsBcp1cl",
        "2cELzS2fp1cl",
        "3MPXvC8up1cl",
        "NC_X3p0fY2L0",
        "UV0SzAkaZNRQ",
        "YPEH6qLeZNRQ",
        "q29F0dvdveiT",
        "EXh0U9oCveiU",
        "22aHeOlLveiV",
        "g-ATYxFrGrvw",
        "Yfr_Vlr8HBkt",
        "8yEUt7NnHlrM",
        "tEA2Xm5dHt1r",
        "I79__PHVH19G",
        "Ou-I18pAyIpj",
        "fF3858GYyt-u",
        "4_0_7-oCpUZd",
        "hwyV_J3ipUZe",
        "3yB-zSqbpUZe",
        "dEUvejAfpUZe",
        "Fd15vwWVpUZf",
        "bn_IUdTipZyH",
        "49K5P_iCpZyH",
        "Nff-vKELpZyI",
        "kLW572S8pZyI",
        "dWbDXHzopZyI",
        "yLjJCtPM0KBk",
        "xiyOF9F70UgQ",
        "7wuGOrhz0itI",
        "id1riN9m0vUs",
        "578E2V7j08f6",
        "89xtkJwZ18nB",
        "67NQN5KX2AMe",
        "Iwf50b-R2tYG",
        "GMQiZwjn3iu7",
        "WVIkgGqN3qsr",
        "XkPnILGE3zoT",
        "Hlsf0x5436Go",
        "mT9DMSJo4nBL",
        "c49ITxTc407N",
        "OeJFEK0N496M",
        "9ExmJH0g5HBk",
        "cJNqERVU536h",
        "k5UmGsbsOxih",
        "T0VqWOYE6DLQ",
        "qBMux9mC6MCf",
        "-oLEiFgy-5Pf",
        "C74aWNz2AliB",
        "2DejudWSA-a0",
        "pEMng2IbBLp7",
        "rAdphbQ9Bhjc",
        "TNVZ9zx19K6k",
        "nqoHp30x9hH9",
        "rMDnDkt2B6du",
        "yiiVWRdJDDil",
        "1UUpS68QDMuG",
        "kexQrXU-DjzY",
        "T5CmagL3EC8N",
        "BhH2vgX9EjGr",
        "qjKvONjwE8ra",
        "P1XJ9OREExlT",
        "VFOzZv6IFROw",
        "TIqpNgepFxVj",
        "VfCC591jGiD4",
        "OB4l2ZhMeS1U",
        "ArJBuiUVfxKd",
        "4qY1EAkEfxKe",
        "PiV4Ypx8fxKe",
        "TfvqoZmBfxKf",
        "dJ2tPlVmpsJ0",
        "JWYfwnehpsJ1",
        "-jK_YjpMpsJ2",
        "HAih1iBOpsJ2",
        "zVGeBEFhpsJ2",
        "bmKjuQ-FpsJ3",
        "Fze-IPXLpx6K",
        "7AN1z2sKpx6M",
        "9PIHJqyupx6M",
        "_-qAgymDpx6N",
        "Z-hykwinpx6N",
        "h_CCil-SKHpo",
        "cBFFvTBNJzUa",
        "HvGl1hHyA_VK",
        "EyNgTHvd2WFk",
        "KH5McJBi2d8v",
        "iW_Lq9qf2h6X",
        "-Kee-DAl2viO",
        "gCX9965dhzqZ",
        "gIfDvo9L0UH2"
      ],
      "include_colab_link": true
    },
    "kernelspec": {
      "name": "python3",
      "display_name": "Python 3"
    },
    "language_info": {
      "name": "python"
    },
    "gpuClass": "standard"
  },
  "cells": [
    {
      "cell_type": "markdown",
      "metadata": {
        "id": "view-in-github",
        "colab_type": "text"
      },
      "source": [
        "<a href=\"https://colab.research.google.com/github/kumarabhinavthakur274/Zomato-Restaurant-Clustering-And-Sentiment-Analysis/blob/main/Kumar_Abhinav_Zomato_Restaurant_Clustering_And_Sentiment_Analysis.ipynb\" target=\"_parent\"><img src=\"https://colab.research.google.com/assets/colab-badge.svg\" alt=\"Open In Colab\"/></a>"
      ]
    },
    {
      "cell_type": "markdown",
      "source": [
        "# **Project Name** - **Zomato-Restaurant-Clustering-And-Sentiment-Analysis**\n"
      ],
      "metadata": {
        "id": "vncDsAP0Gaoa"
      }
    },
    {
      "cell_type": "markdown",
      "source": [
        "##### **Project Type**    - Unsupervised Clustering\n",
        "##### **Contribution**    - Team\n",
        "##### **Team Member 1 -** - Kumar Abhinav\n",
        "##### **Team Member 2 -** - Saumya Dash\n"
      ],
      "metadata": {
        "id": "beRrZCGUAJYm"
      }
    },
    {
      "cell_type": "markdown",
      "source": [
        "# **Project Summary -**"
      ],
      "metadata": {
        "id": "FJNUwmbgGyua"
      }
    },
    {
      "cell_type": "markdown",
      "source": [
        "Write the summary here within 500-600 words."
      ],
      "metadata": {
        "id": "F6v_1wHtG2nS"
      }
    },
    {
      "cell_type": "markdown",
      "source": [
        "# **GitHub Link -**"
      ],
      "metadata": {
        "id": "w6K7xa23Elo4"
      }
    },
    {
      "cell_type": "markdown",
      "source": [
        "Provide your GitHub Link here."
      ],
      "metadata": {
        "id": "h1o69JH3Eqqn"
      }
    },
    {
      "cell_type": "markdown",
      "source": [
        "# **Problem Statement**\n"
      ],
      "metadata": {
        "id": "yQaldy8SH6Dl"
      }
    },
    {
      "cell_type": "markdown",
      "source": [
        "Zomato is an Indian restaurant aggregator and food delivery start-up founded by Deepinder Goyal and Pankaj Chaddah in 2008. Zomato provides information, menus and user-reviews of restaurants, and also has food delivery options from partner restaurants in select cities.\n",
        "\n",
        "India is quite famous for its diverse multi cuisine available in a large number of restaurants and hotel resorts, which is reminiscent of unity in diversity. Restaurant business in India is always evolving. More Indians are warming up to the idea of eating restaurant food whether by dining outside or getting food delivered. The growing number of restaurants in every state of India has been a motivation to inspect the data to get some insights, interesting facts and figures about the Indian food industry in each city. So, this project focuses on analysing the Zomato restaurant data for each city in India.\n",
        "\n",
        "The Project focuses on Customers and Company, you have  to analyze the sentiments of the reviews given by the customer in the data and made some useful conclusion in the form of Visualizations. Also, cluster the zomato restaurants into different segments. The data is vizualized as it becomes easy to analyse data at instant. The Analysis also solve some of the business cases that can directly help the customers finding the Best restaurant in their locality and for the company to grow up and work on the fields they are currently lagging in.\n",
        "\n",
        "This could help in clustering the restaurants into segments. Also the data has valuable information around cuisine and costing which can be used in cost vs. benefit analysis\n",
        "\n",
        "Data could be used for sentiment analysis. Also the metadata of reviewers can be used for identifying the critics in the industry. \n",
        "\n",
        "---\n",
        "\n",
        "\n",
        "\n",
        "\n",
        "### **Attribute Information:**\n",
        "\n",
        "**Zomato Restaurant Names and Games :**\n",
        "\n",
        "1. Name : Name of Restaurants\n",
        "\n",
        "2. Links : URL Links of Restaurants\n",
        "\n",
        "3. Cost : Per person estimated Cost of dining\n",
        "\n",
        "4. Collection : Tagging of Restaurants w.r.t. Zomato categories\n",
        "\n",
        "5. Cuisines : Cuisines served by Restaurants\n",
        "\n",
        "6. Timings : Restaurant Timings\n",
        "\n",
        "**Zomato Restaurant reviews**\n",
        "\n",
        "Merge this dataset with Names and Matadata and then use for sentiment analysis part\n",
        "\n",
        "1. Restaurant : Name of the Restaurant\n",
        "\n",
        "2. Reviewer : Name of the Reviewer\n",
        "\n",
        "3. Review : Review Text\n",
        "\n",
        "4. Rating : Rating Provided by Reviewer\n",
        "\n",
        "5. MetaData : Reviewer Metadata - No. of Reviews and followers\n",
        "\n",
        "6. Time: Date and Time of Review\n",
        "\n",
        "7. Pictures : No. of pictures posted with review"
      ],
      "metadata": {
        "id": "DpeJGUA3kjGy"
      }
    },
    {
      "cell_type": "markdown",
      "source": [
        "# **General Guidelines** : -  "
      ],
      "metadata": {
        "id": "mDgbUHAGgjLW"
      }
    },
    {
      "cell_type": "markdown",
      "source": [
        "1.   Well-structured, formatted, and commented code is required. \n",
        "2.   Exception Handling, Production Grade Code & Deployment Ready Code will be a plus. Those students will be awarded some additional credits. \n",
        "     \n",
        "     The additional credits will have advantages over other students during Star Student selection.\n",
        "       \n",
        "             [ Note: - Deployment Ready Code is defined as, the whole .ipynb notebook should be executable in one go\n",
        "                       without a single error logged. ]\n",
        "\n",
        "3.   Each and every logic should have proper comments.\n",
        "4. You may add as many number of charts you want. Make Sure for each and every chart the following format should be answered.\n",
        "        \n",
        "\n",
        "```\n",
        "# Chart visualization code\n",
        "```\n",
        "            \n",
        "\n",
        "*   Why did you pick the specific chart?\n",
        "*   What is/are the insight(s) found from the chart?\n",
        "* Will the gained insights help creating a positive business impact? \n",
        "Are there any insights that lead to negative growth? Justify with specific reason.\n",
        "\n",
        "5. You have to create at least 15 logical & meaningful charts having important insights.\n",
        "\n",
        "\n",
        "[ Hints : - Do the Vizualization in  a structured way while following \"UBM\" Rule. \n",
        "\n",
        "U - Univariate Analysis,\n",
        "\n",
        "B - Bivariate Analysis (Numerical - Categorical, Numerical - Numerical, Categorical - Categorical)\n",
        "\n",
        "M - Multivariate Analysis\n",
        " ]\n",
        "\n",
        "\n",
        "\n",
        "\n",
        "\n",
        "6. You may add more ml algorithms for model creation. Make sure for each and every algorithm, the following format should be answered.\n",
        "\n",
        "\n",
        "*   Explain the ML Model used and it's performance using Evaluation metric Score Chart.\n",
        "\n",
        "\n",
        "*   Cross- Validation & Hyperparameter Tuning\n",
        "\n",
        "*   Have you seen any improvement? Note down the improvement with updates Evaluation metric Score Chart.\n",
        "\n",
        "*   Explain each evaluation metric's indication towards business and the business impact pf the ML model used.\n",
        "\n",
        "\n",
        "\n",
        "\n",
        "\n",
        "\n",
        "\n",
        "\n",
        "\n",
        "\n",
        "\n",
        "\n",
        "\n",
        "\n",
        "\n",
        "\n",
        "\n",
        "\n"
      ],
      "metadata": {
        "id": "ZrxVaUj-hHfC"
      }
    },
    {
      "cell_type": "markdown",
      "source": [
        "# ***Let's Begin !***"
      ],
      "metadata": {
        "id": "O_i_v8NEhb9l"
      }
    },
    {
      "cell_type": "markdown",
      "source": [
        "## ***1. Know Your Data***"
      ],
      "metadata": {
        "id": "HhfV-JJviCcP"
      }
    },
    {
      "cell_type": "markdown",
      "source": [
        "### Import Libraries"
      ],
      "metadata": {
        "id": "Y3lxredqlCYt"
      }
    },
    {
      "cell_type": "code",
      "source": [
        "# ignore warnings\n",
        "import warnings    \n",
        "warnings.filterwarnings('ignore')\n",
        "\n",
        "# Modules for dataframe and ndarrays and maths\n",
        "import pandas as pd\n",
        "import numpy as np\n",
        "from datetime import datetime\n",
        "import math\n",
        "from scipy.stats import *\n",
        "\n",
        "\n",
        "# visualisation packages\n",
        "import matplotlib.pyplot as plt\n",
        "%matplotlib inline\n",
        "import seaborn as sns\n",
        "plt.style.use('fivethirtyeight')\n",
        "plt.rcParams.update({'figure.figsize':(15,6),'figure.dpi':70})"
      ],
      "metadata": {
        "id": "M8Vqi-pPk-HR"
      },
      "execution_count": 89,
      "outputs": []
    },
    {
      "cell_type": "markdown",
      "source": [
        "### Dataset Loading"
      ],
      "metadata": {
        "id": "3RnN4peoiCZX"
      }
    },
    {
      "cell_type": "code",
      "source": [
        "# mounting drive\n",
        "from google.colab import drive\n",
        "drive.mount('/content/drive')"
      ],
      "metadata": {
        "id": "4CkvbW_SlZ_R",
        "colab": {
          "base_uri": "https://localhost:8080/"
        },
        "outputId": "87c31634-ca92-453c-9e1b-6fede8c4d961"
      },
      "execution_count": 90,
      "outputs": [
        {
          "output_type": "stream",
          "name": "stdout",
          "text": [
            "Drive already mounted at /content/drive; to attempt to forcibly remount, call drive.mount(\"/content/drive\", force_remount=True).\n"
          ]
        }
      ]
    },
    {
      "cell_type": "code",
      "source": [
        "# uploading the datasets\n",
        "df1 = pd.read_csv('/content/drive/MyDrive/DriveHub/Zomato Restaurant names and Metadata.csv')\n",
        "df2 = pd.read_csv('/content/drive/MyDrive/DriveHub/Zomato Restaurant reviews.csv')"
      ],
      "metadata": {
        "id": "gcWxJTji7Qqa"
      },
      "execution_count": 91,
      "outputs": []
    },
    {
      "cell_type": "markdown",
      "source": [
        "### Dataset First View"
      ],
      "metadata": {
        "id": "x71ZqKXriCWQ"
      }
    },
    {
      "cell_type": "code",
      "source": [
        "# Dataset First Look\n",
        "df1.head()"
      ],
      "metadata": {
        "id": "LWNFOSvLl09H",
        "colab": {
          "base_uri": "https://localhost:8080/",
          "height": 0
        },
        "outputId": "fe4b6873-cddf-400c-c1ec-8aab9428270b"
      },
      "execution_count": 92,
      "outputs": [
        {
          "output_type": "execute_result",
          "data": {
            "text/plain": [
              "                             Name  \\\n",
              "0                 Beyond Flavours   \n",
              "1                        Paradise   \n",
              "2                        Flechazo   \n",
              "3  Shah Ghouse Hotel & Restaurant   \n",
              "4      Over The Moon Brew Company   \n",
              "\n",
              "                                               Links   Cost  \\\n",
              "0  https://www.zomato.com/hyderabad/beyond-flavou...    800   \n",
              "1  https://www.zomato.com/hyderabad/paradise-gach...    800   \n",
              "2  https://www.zomato.com/hyderabad/flechazo-gach...  1,300   \n",
              "3  https://www.zomato.com/hyderabad/shah-ghouse-h...    800   \n",
              "4  https://www.zomato.com/hyderabad/over-the-moon...  1,200   \n",
              "\n",
              "                                         Collections  \\\n",
              "0  Food Hygiene Rated Restaurants in Hyderabad, C...   \n",
              "1                                Hyderabad's Hottest   \n",
              "2                 Great Buffets, Hyderabad's Hottest   \n",
              "3                             Late Night Restaurants   \n",
              "4  Best Bars & Pubs, Food Hygiene Rated Restauran...   \n",
              "\n",
              "                                            Cuisines  \\\n",
              "0  Chinese, Continental, Kebab, European, South I...   \n",
              "1                     Biryani, North Indian, Chinese   \n",
              "2       Asian, Mediterranean, North Indian, Desserts   \n",
              "3  Biryani, North Indian, Chinese, Seafood, Bever...   \n",
              "4  Asian, Continental, North Indian, Chinese, Med...   \n",
              "\n",
              "                                             Timings  \n",
              "0      12noon to 3:30pm, 6:30pm to 11:30pm (Mon-Sun)  \n",
              "1                                     11 AM to 11 PM  \n",
              "2              11:30 AM to 4:30 PM, 6:30 PM to 11 PM  \n",
              "3                                    12 Noon to 2 AM  \n",
              "4  12noon to 11pm (Mon, Tue, Wed, Thu, Sun), 12no...  "
            ],
            "text/html": [
              "\n",
              "  <div id=\"df-6ba7373e-6a8f-49ac-a2f8-0291a2f88e65\">\n",
              "    <div class=\"colab-df-container\">\n",
              "      <div>\n",
              "<style scoped>\n",
              "    .dataframe tbody tr th:only-of-type {\n",
              "        vertical-align: middle;\n",
              "    }\n",
              "\n",
              "    .dataframe tbody tr th {\n",
              "        vertical-align: top;\n",
              "    }\n",
              "\n",
              "    .dataframe thead th {\n",
              "        text-align: right;\n",
              "    }\n",
              "</style>\n",
              "<table border=\"1\" class=\"dataframe\">\n",
              "  <thead>\n",
              "    <tr style=\"text-align: right;\">\n",
              "      <th></th>\n",
              "      <th>Name</th>\n",
              "      <th>Links</th>\n",
              "      <th>Cost</th>\n",
              "      <th>Collections</th>\n",
              "      <th>Cuisines</th>\n",
              "      <th>Timings</th>\n",
              "    </tr>\n",
              "  </thead>\n",
              "  <tbody>\n",
              "    <tr>\n",
              "      <th>0</th>\n",
              "      <td>Beyond Flavours</td>\n",
              "      <td>https://www.zomato.com/hyderabad/beyond-flavou...</td>\n",
              "      <td>800</td>\n",
              "      <td>Food Hygiene Rated Restaurants in Hyderabad, C...</td>\n",
              "      <td>Chinese, Continental, Kebab, European, South I...</td>\n",
              "      <td>12noon to 3:30pm, 6:30pm to 11:30pm (Mon-Sun)</td>\n",
              "    </tr>\n",
              "    <tr>\n",
              "      <th>1</th>\n",
              "      <td>Paradise</td>\n",
              "      <td>https://www.zomato.com/hyderabad/paradise-gach...</td>\n",
              "      <td>800</td>\n",
              "      <td>Hyderabad's Hottest</td>\n",
              "      <td>Biryani, North Indian, Chinese</td>\n",
              "      <td>11 AM to 11 PM</td>\n",
              "    </tr>\n",
              "    <tr>\n",
              "      <th>2</th>\n",
              "      <td>Flechazo</td>\n",
              "      <td>https://www.zomato.com/hyderabad/flechazo-gach...</td>\n",
              "      <td>1,300</td>\n",
              "      <td>Great Buffets, Hyderabad's Hottest</td>\n",
              "      <td>Asian, Mediterranean, North Indian, Desserts</td>\n",
              "      <td>11:30 AM to 4:30 PM, 6:30 PM to 11 PM</td>\n",
              "    </tr>\n",
              "    <tr>\n",
              "      <th>3</th>\n",
              "      <td>Shah Ghouse Hotel &amp; Restaurant</td>\n",
              "      <td>https://www.zomato.com/hyderabad/shah-ghouse-h...</td>\n",
              "      <td>800</td>\n",
              "      <td>Late Night Restaurants</td>\n",
              "      <td>Biryani, North Indian, Chinese, Seafood, Bever...</td>\n",
              "      <td>12 Noon to 2 AM</td>\n",
              "    </tr>\n",
              "    <tr>\n",
              "      <th>4</th>\n",
              "      <td>Over The Moon Brew Company</td>\n",
              "      <td>https://www.zomato.com/hyderabad/over-the-moon...</td>\n",
              "      <td>1,200</td>\n",
              "      <td>Best Bars &amp; Pubs, Food Hygiene Rated Restauran...</td>\n",
              "      <td>Asian, Continental, North Indian, Chinese, Med...</td>\n",
              "      <td>12noon to 11pm (Mon, Tue, Wed, Thu, Sun), 12no...</td>\n",
              "    </tr>\n",
              "  </tbody>\n",
              "</table>\n",
              "</div>\n",
              "      <button class=\"colab-df-convert\" onclick=\"convertToInteractive('df-6ba7373e-6a8f-49ac-a2f8-0291a2f88e65')\"\n",
              "              title=\"Convert this dataframe to an interactive table.\"\n",
              "              style=\"display:none;\">\n",
              "        \n",
              "  <svg xmlns=\"http://www.w3.org/2000/svg\" height=\"24px\"viewBox=\"0 0 24 24\"\n",
              "       width=\"24px\">\n",
              "    <path d=\"M0 0h24v24H0V0z\" fill=\"none\"/>\n",
              "    <path d=\"M18.56 5.44l.94 2.06.94-2.06 2.06-.94-2.06-.94-.94-2.06-.94 2.06-2.06.94zm-11 1L8.5 8.5l.94-2.06 2.06-.94-2.06-.94L8.5 2.5l-.94 2.06-2.06.94zm10 10l.94 2.06.94-2.06 2.06-.94-2.06-.94-.94-2.06-.94 2.06-2.06.94z\"/><path d=\"M17.41 7.96l-1.37-1.37c-.4-.4-.92-.59-1.43-.59-.52 0-1.04.2-1.43.59L10.3 9.45l-7.72 7.72c-.78.78-.78 2.05 0 2.83L4 21.41c.39.39.9.59 1.41.59.51 0 1.02-.2 1.41-.59l7.78-7.78 2.81-2.81c.8-.78.8-2.07 0-2.86zM5.41 20L4 18.59l7.72-7.72 1.47 1.35L5.41 20z\"/>\n",
              "  </svg>\n",
              "      </button>\n",
              "      \n",
              "  <style>\n",
              "    .colab-df-container {\n",
              "      display:flex;\n",
              "      flex-wrap:wrap;\n",
              "      gap: 12px;\n",
              "    }\n",
              "\n",
              "    .colab-df-convert {\n",
              "      background-color: #E8F0FE;\n",
              "      border: none;\n",
              "      border-radius: 50%;\n",
              "      cursor: pointer;\n",
              "      display: none;\n",
              "      fill: #1967D2;\n",
              "      height: 32px;\n",
              "      padding: 0 0 0 0;\n",
              "      width: 32px;\n",
              "    }\n",
              "\n",
              "    .colab-df-convert:hover {\n",
              "      background-color: #E2EBFA;\n",
              "      box-shadow: 0px 1px 2px rgba(60, 64, 67, 0.3), 0px 1px 3px 1px rgba(60, 64, 67, 0.15);\n",
              "      fill: #174EA6;\n",
              "    }\n",
              "\n",
              "    [theme=dark] .colab-df-convert {\n",
              "      background-color: #3B4455;\n",
              "      fill: #D2E3FC;\n",
              "    }\n",
              "\n",
              "    [theme=dark] .colab-df-convert:hover {\n",
              "      background-color: #434B5C;\n",
              "      box-shadow: 0px 1px 3px 1px rgba(0, 0, 0, 0.15);\n",
              "      filter: drop-shadow(0px 1px 2px rgba(0, 0, 0, 0.3));\n",
              "      fill: #FFFFFF;\n",
              "    }\n",
              "  </style>\n",
              "\n",
              "      <script>\n",
              "        const buttonEl =\n",
              "          document.querySelector('#df-6ba7373e-6a8f-49ac-a2f8-0291a2f88e65 button.colab-df-convert');\n",
              "        buttonEl.style.display =\n",
              "          google.colab.kernel.accessAllowed ? 'block' : 'none';\n",
              "\n",
              "        async function convertToInteractive(key) {\n",
              "          const element = document.querySelector('#df-6ba7373e-6a8f-49ac-a2f8-0291a2f88e65');\n",
              "          const dataTable =\n",
              "            await google.colab.kernel.invokeFunction('convertToInteractive',\n",
              "                                                     [key], {});\n",
              "          if (!dataTable) return;\n",
              "\n",
              "          const docLinkHtml = 'Like what you see? Visit the ' +\n",
              "            '<a target=\"_blank\" href=https://colab.research.google.com/notebooks/data_table.ipynb>data table notebook</a>'\n",
              "            + ' to learn more about interactive tables.';\n",
              "          element.innerHTML = '';\n",
              "          dataTable['output_type'] = 'display_data';\n",
              "          await google.colab.output.renderOutput(dataTable, element);\n",
              "          const docLink = document.createElement('div');\n",
              "          docLink.innerHTML = docLinkHtml;\n",
              "          element.appendChild(docLink);\n",
              "        }\n",
              "      </script>\n",
              "    </div>\n",
              "  </div>\n",
              "  "
            ]
          },
          "metadata": {},
          "execution_count": 92
        }
      ]
    },
    {
      "cell_type": "code",
      "source": [
        "df2.head()"
      ],
      "metadata": {
        "colab": {
          "base_uri": "https://localhost:8080/",
          "height": 0
        },
        "id": "CasWT_4T84yK",
        "outputId": "105dc4be-c113-4511-b42b-44701172a326"
      },
      "execution_count": 93,
      "outputs": [
        {
          "output_type": "execute_result",
          "data": {
            "text/plain": [
              "        Restaurant              Reviewer  \\\n",
              "0  Beyond Flavours     Rusha Chakraborty   \n",
              "1  Beyond Flavours  Anusha Tirumalaneedi   \n",
              "2  Beyond Flavours       Ashok Shekhawat   \n",
              "3  Beyond Flavours        Swapnil Sarkar   \n",
              "4  Beyond Flavours                Dileep   \n",
              "\n",
              "                                              Review Rating  \\\n",
              "0  The ambience was good, food was quite good . h...      5   \n",
              "1  Ambience is too good for a pleasant evening. S...      5   \n",
              "2  A must try.. great food great ambience. Thnx f...      5   \n",
              "3  Soumen das and Arun was a great guy. Only beca...      5   \n",
              "4  Food is good.we ordered Kodi drumsticks and ba...      5   \n",
              "\n",
              "                  Metadata             Time  Pictures  \n",
              "0   1 Review , 2 Followers  5/25/2019 15:54         0  \n",
              "1  3 Reviews , 2 Followers  5/25/2019 14:20         0  \n",
              "2  2 Reviews , 3 Followers  5/24/2019 22:54         0  \n",
              "3    1 Review , 1 Follower  5/24/2019 22:11         0  \n",
              "4  3 Reviews , 2 Followers  5/24/2019 21:37         0  "
            ],
            "text/html": [
              "\n",
              "  <div id=\"df-81dd9c26-0bdd-4c7a-99ac-4684ed111542\">\n",
              "    <div class=\"colab-df-container\">\n",
              "      <div>\n",
              "<style scoped>\n",
              "    .dataframe tbody tr th:only-of-type {\n",
              "        vertical-align: middle;\n",
              "    }\n",
              "\n",
              "    .dataframe tbody tr th {\n",
              "        vertical-align: top;\n",
              "    }\n",
              "\n",
              "    .dataframe thead th {\n",
              "        text-align: right;\n",
              "    }\n",
              "</style>\n",
              "<table border=\"1\" class=\"dataframe\">\n",
              "  <thead>\n",
              "    <tr style=\"text-align: right;\">\n",
              "      <th></th>\n",
              "      <th>Restaurant</th>\n",
              "      <th>Reviewer</th>\n",
              "      <th>Review</th>\n",
              "      <th>Rating</th>\n",
              "      <th>Metadata</th>\n",
              "      <th>Time</th>\n",
              "      <th>Pictures</th>\n",
              "    </tr>\n",
              "  </thead>\n",
              "  <tbody>\n",
              "    <tr>\n",
              "      <th>0</th>\n",
              "      <td>Beyond Flavours</td>\n",
              "      <td>Rusha Chakraborty</td>\n",
              "      <td>The ambience was good, food was quite good . h...</td>\n",
              "      <td>5</td>\n",
              "      <td>1 Review , 2 Followers</td>\n",
              "      <td>5/25/2019 15:54</td>\n",
              "      <td>0</td>\n",
              "    </tr>\n",
              "    <tr>\n",
              "      <th>1</th>\n",
              "      <td>Beyond Flavours</td>\n",
              "      <td>Anusha Tirumalaneedi</td>\n",
              "      <td>Ambience is too good for a pleasant evening. S...</td>\n",
              "      <td>5</td>\n",
              "      <td>3 Reviews , 2 Followers</td>\n",
              "      <td>5/25/2019 14:20</td>\n",
              "      <td>0</td>\n",
              "    </tr>\n",
              "    <tr>\n",
              "      <th>2</th>\n",
              "      <td>Beyond Flavours</td>\n",
              "      <td>Ashok Shekhawat</td>\n",
              "      <td>A must try.. great food great ambience. Thnx f...</td>\n",
              "      <td>5</td>\n",
              "      <td>2 Reviews , 3 Followers</td>\n",
              "      <td>5/24/2019 22:54</td>\n",
              "      <td>0</td>\n",
              "    </tr>\n",
              "    <tr>\n",
              "      <th>3</th>\n",
              "      <td>Beyond Flavours</td>\n",
              "      <td>Swapnil Sarkar</td>\n",
              "      <td>Soumen das and Arun was a great guy. Only beca...</td>\n",
              "      <td>5</td>\n",
              "      <td>1 Review , 1 Follower</td>\n",
              "      <td>5/24/2019 22:11</td>\n",
              "      <td>0</td>\n",
              "    </tr>\n",
              "    <tr>\n",
              "      <th>4</th>\n",
              "      <td>Beyond Flavours</td>\n",
              "      <td>Dileep</td>\n",
              "      <td>Food is good.we ordered Kodi drumsticks and ba...</td>\n",
              "      <td>5</td>\n",
              "      <td>3 Reviews , 2 Followers</td>\n",
              "      <td>5/24/2019 21:37</td>\n",
              "      <td>0</td>\n",
              "    </tr>\n",
              "  </tbody>\n",
              "</table>\n",
              "</div>\n",
              "      <button class=\"colab-df-convert\" onclick=\"convertToInteractive('df-81dd9c26-0bdd-4c7a-99ac-4684ed111542')\"\n",
              "              title=\"Convert this dataframe to an interactive table.\"\n",
              "              style=\"display:none;\">\n",
              "        \n",
              "  <svg xmlns=\"http://www.w3.org/2000/svg\" height=\"24px\"viewBox=\"0 0 24 24\"\n",
              "       width=\"24px\">\n",
              "    <path d=\"M0 0h24v24H0V0z\" fill=\"none\"/>\n",
              "    <path d=\"M18.56 5.44l.94 2.06.94-2.06 2.06-.94-2.06-.94-.94-2.06-.94 2.06-2.06.94zm-11 1L8.5 8.5l.94-2.06 2.06-.94-2.06-.94L8.5 2.5l-.94 2.06-2.06.94zm10 10l.94 2.06.94-2.06 2.06-.94-2.06-.94-.94-2.06-.94 2.06-2.06.94z\"/><path d=\"M17.41 7.96l-1.37-1.37c-.4-.4-.92-.59-1.43-.59-.52 0-1.04.2-1.43.59L10.3 9.45l-7.72 7.72c-.78.78-.78 2.05 0 2.83L4 21.41c.39.39.9.59 1.41.59.51 0 1.02-.2 1.41-.59l7.78-7.78 2.81-2.81c.8-.78.8-2.07 0-2.86zM5.41 20L4 18.59l7.72-7.72 1.47 1.35L5.41 20z\"/>\n",
              "  </svg>\n",
              "      </button>\n",
              "      \n",
              "  <style>\n",
              "    .colab-df-container {\n",
              "      display:flex;\n",
              "      flex-wrap:wrap;\n",
              "      gap: 12px;\n",
              "    }\n",
              "\n",
              "    .colab-df-convert {\n",
              "      background-color: #E8F0FE;\n",
              "      border: none;\n",
              "      border-radius: 50%;\n",
              "      cursor: pointer;\n",
              "      display: none;\n",
              "      fill: #1967D2;\n",
              "      height: 32px;\n",
              "      padding: 0 0 0 0;\n",
              "      width: 32px;\n",
              "    }\n",
              "\n",
              "    .colab-df-convert:hover {\n",
              "      background-color: #E2EBFA;\n",
              "      box-shadow: 0px 1px 2px rgba(60, 64, 67, 0.3), 0px 1px 3px 1px rgba(60, 64, 67, 0.15);\n",
              "      fill: #174EA6;\n",
              "    }\n",
              "\n",
              "    [theme=dark] .colab-df-convert {\n",
              "      background-color: #3B4455;\n",
              "      fill: #D2E3FC;\n",
              "    }\n",
              "\n",
              "    [theme=dark] .colab-df-convert:hover {\n",
              "      background-color: #434B5C;\n",
              "      box-shadow: 0px 1px 3px 1px rgba(0, 0, 0, 0.15);\n",
              "      filter: drop-shadow(0px 1px 2px rgba(0, 0, 0, 0.3));\n",
              "      fill: #FFFFFF;\n",
              "    }\n",
              "  </style>\n",
              "\n",
              "      <script>\n",
              "        const buttonEl =\n",
              "          document.querySelector('#df-81dd9c26-0bdd-4c7a-99ac-4684ed111542 button.colab-df-convert');\n",
              "        buttonEl.style.display =\n",
              "          google.colab.kernel.accessAllowed ? 'block' : 'none';\n",
              "\n",
              "        async function convertToInteractive(key) {\n",
              "          const element = document.querySelector('#df-81dd9c26-0bdd-4c7a-99ac-4684ed111542');\n",
              "          const dataTable =\n",
              "            await google.colab.kernel.invokeFunction('convertToInteractive',\n",
              "                                                     [key], {});\n",
              "          if (!dataTable) return;\n",
              "\n",
              "          const docLinkHtml = 'Like what you see? Visit the ' +\n",
              "            '<a target=\"_blank\" href=https://colab.research.google.com/notebooks/data_table.ipynb>data table notebook</a>'\n",
              "            + ' to learn more about interactive tables.';\n",
              "          element.innerHTML = '';\n",
              "          dataTable['output_type'] = 'display_data';\n",
              "          await google.colab.output.renderOutput(dataTable, element);\n",
              "          const docLink = document.createElement('div');\n",
              "          docLink.innerHTML = docLinkHtml;\n",
              "          element.appendChild(docLink);\n",
              "        }\n",
              "      </script>\n",
              "    </div>\n",
              "  </div>\n",
              "  "
            ]
          },
          "metadata": {},
          "execution_count": 93
        }
      ]
    },
    {
      "cell_type": "markdown",
      "source": [
        "### Dataset Rows & Columns count"
      ],
      "metadata": {
        "id": "7hBIi_osiCS2"
      }
    },
    {
      "cell_type": "code",
      "source": [
        "# Dataset Rows & Columns count\n",
        "df1.shape"
      ],
      "metadata": {
        "id": "Kllu7SJgmLij",
        "colab": {
          "base_uri": "https://localhost:8080/"
        },
        "outputId": "ca979f42-49c3-4365-914b-eed5dab0d420"
      },
      "execution_count": 94,
      "outputs": [
        {
          "output_type": "execute_result",
          "data": {
            "text/plain": [
              "(105, 6)"
            ]
          },
          "metadata": {},
          "execution_count": 94
        }
      ]
    },
    {
      "cell_type": "code",
      "source": [
        "df2.shape"
      ],
      "metadata": {
        "colab": {
          "base_uri": "https://localhost:8080/"
        },
        "id": "iK03wK1O9Qaz",
        "outputId": "3b20499a-4e97-49ab-cd6c-2116813ace60"
      },
      "execution_count": 95,
      "outputs": [
        {
          "output_type": "execute_result",
          "data": {
            "text/plain": [
              "(10000, 7)"
            ]
          },
          "metadata": {},
          "execution_count": 95
        }
      ]
    },
    {
      "cell_type": "markdown",
      "source": [
        "### Dataset Information"
      ],
      "metadata": {
        "id": "JlHwYmJAmNHm"
      }
    },
    {
      "cell_type": "code",
      "source": [
        "# Dataset Info\n",
        "df1.info()"
      ],
      "metadata": {
        "id": "e9hRXRi6meOf",
        "colab": {
          "base_uri": "https://localhost:8080/"
        },
        "outputId": "08dbf3bc-c856-4c29-fc94-a0276f9dfd9f"
      },
      "execution_count": 96,
      "outputs": [
        {
          "output_type": "stream",
          "name": "stdout",
          "text": [
            "<class 'pandas.core.frame.DataFrame'>\n",
            "RangeIndex: 105 entries, 0 to 104\n",
            "Data columns (total 6 columns):\n",
            " #   Column       Non-Null Count  Dtype \n",
            "---  ------       --------------  ----- \n",
            " 0   Name         105 non-null    object\n",
            " 1   Links        105 non-null    object\n",
            " 2   Cost         105 non-null    object\n",
            " 3   Collections  51 non-null     object\n",
            " 4   Cuisines     105 non-null    object\n",
            " 5   Timings      104 non-null    object\n",
            "dtypes: object(6)\n",
            "memory usage: 5.0+ KB\n"
          ]
        }
      ]
    },
    {
      "cell_type": "code",
      "source": [
        "df2.info()"
      ],
      "metadata": {
        "colab": {
          "base_uri": "https://localhost:8080/"
        },
        "id": "ur-wrmNu-BOQ",
        "outputId": "4115c62f-ac80-4936-a514-b790eb72acfb"
      },
      "execution_count": 97,
      "outputs": [
        {
          "output_type": "stream",
          "name": "stdout",
          "text": [
            "<class 'pandas.core.frame.DataFrame'>\n",
            "RangeIndex: 10000 entries, 0 to 9999\n",
            "Data columns (total 7 columns):\n",
            " #   Column      Non-Null Count  Dtype \n",
            "---  ------      --------------  ----- \n",
            " 0   Restaurant  10000 non-null  object\n",
            " 1   Reviewer    9962 non-null   object\n",
            " 2   Review      9955 non-null   object\n",
            " 3   Rating      9962 non-null   object\n",
            " 4   Metadata    9962 non-null   object\n",
            " 5   Time        9962 non-null   object\n",
            " 6   Pictures    10000 non-null  int64 \n",
            "dtypes: int64(1), object(6)\n",
            "memory usage: 547.0+ KB\n"
          ]
        }
      ]
    },
    {
      "cell_type": "markdown",
      "source": [
        "#### Duplicate Values"
      ],
      "metadata": {
        "id": "35m5QtbWiB9F"
      }
    },
    {
      "cell_type": "code",
      "source": [
        "# Dataset Duplicate Value Count\n",
        "print(df1.duplicated().sum())"
      ],
      "metadata": {
        "id": "1sLdpKYkmox0",
        "colab": {
          "base_uri": "https://localhost:8080/"
        },
        "outputId": "9e197698-b5fc-4594-ddf8-4a6b32711a17"
      },
      "execution_count": 98,
      "outputs": [
        {
          "output_type": "stream",
          "name": "stdout",
          "text": [
            "0\n"
          ]
        }
      ]
    },
    {
      "cell_type": "code",
      "source": [
        "# Dataset Duplicate Value Count\n",
        "print(df2.duplicated().sum())"
      ],
      "metadata": {
        "colab": {
          "base_uri": "https://localhost:8080/"
        },
        "id": "3XBTgYQj_J73",
        "outputId": "46ef22c1-f4d6-4136-d4dc-9cfca4a3da21"
      },
      "execution_count": 99,
      "outputs": [
        {
          "output_type": "stream",
          "name": "stdout",
          "text": [
            "36\n"
          ]
        }
      ]
    },
    {
      "cell_type": "code",
      "source": [
        "# droping duplicated rows from the user review dataset\n",
        "df2.drop_duplicates(inplace=True)"
      ],
      "metadata": {
        "id": "aCSY8pE2Be_S"
      },
      "execution_count": 100,
      "outputs": []
    },
    {
      "cell_type": "markdown",
      "source": [
        "#### Missing Values/Null Values"
      ],
      "metadata": {
        "id": "PoPl-ycgm1ru"
      }
    },
    {
      "cell_type": "code",
      "source": [
        "#Checking Null Values in first dataframe\n",
        "null_df1= pd.DataFrame({\"Total Values\": df1.shape[0] , \"Total Null values\": df1.isnull().sum(),\"%a of Null values\" : round((df1.isnull().sum()/ df1.shape[0])*100 , 2) })\n",
        "null_df1.sort_values(\"Total Null values\" , ascending = False)"
      ],
      "metadata": {
        "id": "GgHWkxvamxVg",
        "colab": {
          "base_uri": "https://localhost:8080/",
          "height": 0
        },
        "outputId": "28d4ca80-8b96-4bcd-bcba-013142dc3fb6"
      },
      "execution_count": 101,
      "outputs": [
        {
          "output_type": "execute_result",
          "data": {
            "text/plain": [
              "             Total Values  Total Null values  %a of Null values\n",
              "Collections           105                 54              51.43\n",
              "Timings               105                  1               0.95\n",
              "Name                  105                  0               0.00\n",
              "Links                 105                  0               0.00\n",
              "Cost                  105                  0               0.00\n",
              "Cuisines              105                  0               0.00"
            ],
            "text/html": [
              "\n",
              "  <div id=\"df-ff6dd426-bbc0-4a20-b326-0d6015ca7881\">\n",
              "    <div class=\"colab-df-container\">\n",
              "      <div>\n",
              "<style scoped>\n",
              "    .dataframe tbody tr th:only-of-type {\n",
              "        vertical-align: middle;\n",
              "    }\n",
              "\n",
              "    .dataframe tbody tr th {\n",
              "        vertical-align: top;\n",
              "    }\n",
              "\n",
              "    .dataframe thead th {\n",
              "        text-align: right;\n",
              "    }\n",
              "</style>\n",
              "<table border=\"1\" class=\"dataframe\">\n",
              "  <thead>\n",
              "    <tr style=\"text-align: right;\">\n",
              "      <th></th>\n",
              "      <th>Total Values</th>\n",
              "      <th>Total Null values</th>\n",
              "      <th>%a of Null values</th>\n",
              "    </tr>\n",
              "  </thead>\n",
              "  <tbody>\n",
              "    <tr>\n",
              "      <th>Collections</th>\n",
              "      <td>105</td>\n",
              "      <td>54</td>\n",
              "      <td>51.43</td>\n",
              "    </tr>\n",
              "    <tr>\n",
              "      <th>Timings</th>\n",
              "      <td>105</td>\n",
              "      <td>1</td>\n",
              "      <td>0.95</td>\n",
              "    </tr>\n",
              "    <tr>\n",
              "      <th>Name</th>\n",
              "      <td>105</td>\n",
              "      <td>0</td>\n",
              "      <td>0.00</td>\n",
              "    </tr>\n",
              "    <tr>\n",
              "      <th>Links</th>\n",
              "      <td>105</td>\n",
              "      <td>0</td>\n",
              "      <td>0.00</td>\n",
              "    </tr>\n",
              "    <tr>\n",
              "      <th>Cost</th>\n",
              "      <td>105</td>\n",
              "      <td>0</td>\n",
              "      <td>0.00</td>\n",
              "    </tr>\n",
              "    <tr>\n",
              "      <th>Cuisines</th>\n",
              "      <td>105</td>\n",
              "      <td>0</td>\n",
              "      <td>0.00</td>\n",
              "    </tr>\n",
              "  </tbody>\n",
              "</table>\n",
              "</div>\n",
              "      <button class=\"colab-df-convert\" onclick=\"convertToInteractive('df-ff6dd426-bbc0-4a20-b326-0d6015ca7881')\"\n",
              "              title=\"Convert this dataframe to an interactive table.\"\n",
              "              style=\"display:none;\">\n",
              "        \n",
              "  <svg xmlns=\"http://www.w3.org/2000/svg\" height=\"24px\"viewBox=\"0 0 24 24\"\n",
              "       width=\"24px\">\n",
              "    <path d=\"M0 0h24v24H0V0z\" fill=\"none\"/>\n",
              "    <path d=\"M18.56 5.44l.94 2.06.94-2.06 2.06-.94-2.06-.94-.94-2.06-.94 2.06-2.06.94zm-11 1L8.5 8.5l.94-2.06 2.06-.94-2.06-.94L8.5 2.5l-.94 2.06-2.06.94zm10 10l.94 2.06.94-2.06 2.06-.94-2.06-.94-.94-2.06-.94 2.06-2.06.94z\"/><path d=\"M17.41 7.96l-1.37-1.37c-.4-.4-.92-.59-1.43-.59-.52 0-1.04.2-1.43.59L10.3 9.45l-7.72 7.72c-.78.78-.78 2.05 0 2.83L4 21.41c.39.39.9.59 1.41.59.51 0 1.02-.2 1.41-.59l7.78-7.78 2.81-2.81c.8-.78.8-2.07 0-2.86zM5.41 20L4 18.59l7.72-7.72 1.47 1.35L5.41 20z\"/>\n",
              "  </svg>\n",
              "      </button>\n",
              "      \n",
              "  <style>\n",
              "    .colab-df-container {\n",
              "      display:flex;\n",
              "      flex-wrap:wrap;\n",
              "      gap: 12px;\n",
              "    }\n",
              "\n",
              "    .colab-df-convert {\n",
              "      background-color: #E8F0FE;\n",
              "      border: none;\n",
              "      border-radius: 50%;\n",
              "      cursor: pointer;\n",
              "      display: none;\n",
              "      fill: #1967D2;\n",
              "      height: 32px;\n",
              "      padding: 0 0 0 0;\n",
              "      width: 32px;\n",
              "    }\n",
              "\n",
              "    .colab-df-convert:hover {\n",
              "      background-color: #E2EBFA;\n",
              "      box-shadow: 0px 1px 2px rgba(60, 64, 67, 0.3), 0px 1px 3px 1px rgba(60, 64, 67, 0.15);\n",
              "      fill: #174EA6;\n",
              "    }\n",
              "\n",
              "    [theme=dark] .colab-df-convert {\n",
              "      background-color: #3B4455;\n",
              "      fill: #D2E3FC;\n",
              "    }\n",
              "\n",
              "    [theme=dark] .colab-df-convert:hover {\n",
              "      background-color: #434B5C;\n",
              "      box-shadow: 0px 1px 3px 1px rgba(0, 0, 0, 0.15);\n",
              "      filter: drop-shadow(0px 1px 2px rgba(0, 0, 0, 0.3));\n",
              "      fill: #FFFFFF;\n",
              "    }\n",
              "  </style>\n",
              "\n",
              "      <script>\n",
              "        const buttonEl =\n",
              "          document.querySelector('#df-ff6dd426-bbc0-4a20-b326-0d6015ca7881 button.colab-df-convert');\n",
              "        buttonEl.style.display =\n",
              "          google.colab.kernel.accessAllowed ? 'block' : 'none';\n",
              "\n",
              "        async function convertToInteractive(key) {\n",
              "          const element = document.querySelector('#df-ff6dd426-bbc0-4a20-b326-0d6015ca7881');\n",
              "          const dataTable =\n",
              "            await google.colab.kernel.invokeFunction('convertToInteractive',\n",
              "                                                     [key], {});\n",
              "          if (!dataTable) return;\n",
              "\n",
              "          const docLinkHtml = 'Like what you see? Visit the ' +\n",
              "            '<a target=\"_blank\" href=https://colab.research.google.com/notebooks/data_table.ipynb>data table notebook</a>'\n",
              "            + ' to learn more about interactive tables.';\n",
              "          element.innerHTML = '';\n",
              "          dataTable['output_type'] = 'display_data';\n",
              "          await google.colab.output.renderOutput(dataTable, element);\n",
              "          const docLink = document.createElement('div');\n",
              "          docLink.innerHTML = docLinkHtml;\n",
              "          element.appendChild(docLink);\n",
              "        }\n",
              "      </script>\n",
              "    </div>\n",
              "  </div>\n",
              "  "
            ]
          },
          "metadata": {},
          "execution_count": 101
        }
      ]
    },
    {
      "cell_type": "code",
      "source": [
        "# Visualizing the missing values\n",
        "plt.figure(figsize=(17, 5))\n",
        "sns.heatmap(df1.isnull(),cbar=True,cmap=\"Purples_r\")\n",
        "plt.xticks(rotation= 45)\n",
        "plt.title('Missing Values in Dataset')\n",
        "plt.show()"
      ],
      "metadata": {
        "colab": {
          "base_uri": "https://localhost:8080/",
          "height": 0
        },
        "id": "3ab_-whLcJec",
        "outputId": "e13706ea-ee97-472c-8033-a73c5cb36b1b"
      },
      "execution_count": 102,
      "outputs": [
        {
          "output_type": "display_data",
          "data": {
            "text/plain": [
              "<Figure size 1190x350 with 2 Axes>"
            ],
            "image/png": "[encoded data removed]"
          },
          "metadata": {}
        }
      ]
    },
    {
      "cell_type": "code",
      "source": [
        "#Checking Null Values in first dataframe\n",
        "null_df2= pd.DataFrame({\"Total Values\": df2.shape[0] , \"Total Null values\": df2.isnull().sum(),\"%a of Null values\" : round((df2.isnull().sum()/ df2.shape[0])*100 , 2) })\n",
        "null_df2.sort_values(\"Total Null values\" , ascending = False)"
      ],
      "metadata": {
        "colab": {
          "base_uri": "https://localhost:8080/",
          "height": 0
        },
        "id": "_qhw18tjbO2G",
        "outputId": "4d354d85-f38b-450a-ea23-bf2324772af8"
      },
      "execution_count": 103,
      "outputs": [
        {
          "output_type": "execute_result",
          "data": {
            "text/plain": [
              "            Total Values  Total Null values  %a of Null values\n",
              "Review              9964                  9               0.09\n",
              "Reviewer            9964                  2               0.02\n",
              "Rating              9964                  2               0.02\n",
              "Metadata            9964                  2               0.02\n",
              "Time                9964                  2               0.02\n",
              "Restaurant          9964                  0               0.00\n",
              "Pictures            9964                  0               0.00"
            ],
            "text/html": [
              "\n",
              "  <div id=\"df-af672089-9640-4b78-abc0-adf61976e111\">\n",
              "    <div class=\"colab-df-container\">\n",
              "      <div>\n",
              "<style scoped>\n",
              "    .dataframe tbody tr th:only-of-type {\n",
              "        vertical-align: middle;\n",
              "    }\n",
              "\n",
              "    .dataframe tbody tr th {\n",
              "        vertical-align: top;\n",
              "    }\n",
              "\n",
              "    .dataframe thead th {\n",
              "        text-align: right;\n",
              "    }\n",
              "</style>\n",
              "<table border=\"1\" class=\"dataframe\">\n",
              "  <thead>\n",
              "    <tr style=\"text-align: right;\">\n",
              "      <th></th>\n",
              "      <th>Total Values</th>\n",
              "      <th>Total Null values</th>\n",
              "      <th>%a of Null values</th>\n",
              "    </tr>\n",
              "  </thead>\n",
              "  <tbody>\n",
              "    <tr>\n",
              "      <th>Review</th>\n",
              "      <td>9964</td>\n",
              "      <td>9</td>\n",
              "      <td>0.09</td>\n",
              "    </tr>\n",
              "    <tr>\n",
              "      <th>Reviewer</th>\n",
              "      <td>9964</td>\n",
              "      <td>2</td>\n",
              "      <td>0.02</td>\n",
              "    </tr>\n",
              "    <tr>\n",
              "      <th>Rating</th>\n",
              "      <td>9964</td>\n",
              "      <td>2</td>\n",
              "      <td>0.02</td>\n",
              "    </tr>\n",
              "    <tr>\n",
              "      <th>Metadata</th>\n",
              "      <td>9964</td>\n",
              "      <td>2</td>\n",
              "      <td>0.02</td>\n",
              "    </tr>\n",
              "    <tr>\n",
              "      <th>Time</th>\n",
              "      <td>9964</td>\n",
              "      <td>2</td>\n",
              "      <td>0.02</td>\n",
              "    </tr>\n",
              "    <tr>\n",
              "      <th>Restaurant</th>\n",
              "      <td>9964</td>\n",
              "      <td>0</td>\n",
              "      <td>0.00</td>\n",
              "    </tr>\n",
              "    <tr>\n",
              "      <th>Pictures</th>\n",
              "      <td>9964</td>\n",
              "      <td>0</td>\n",
              "      <td>0.00</td>\n",
              "    </tr>\n",
              "  </tbody>\n",
              "</table>\n",
              "</div>\n",
              "      <button class=\"colab-df-convert\" onclick=\"convertToInteractive('df-af672089-9640-4b78-abc0-adf61976e111')\"\n",
              "              title=\"Convert this dataframe to an interactive table.\"\n",
              "              style=\"display:none;\">\n",
              "        \n",
              "  <svg xmlns=\"http://www.w3.org/2000/svg\" height=\"24px\"viewBox=\"0 0 24 24\"\n",
              "       width=\"24px\">\n",
              "    <path d=\"M0 0h24v24H0V0z\" fill=\"none\"/>\n",
              "    <path d=\"M18.56 5.44l.94 2.06.94-2.06 2.06-.94-2.06-.94-.94-2.06-.94 2.06-2.06.94zm-11 1L8.5 8.5l.94-2.06 2.06-.94-2.06-.94L8.5 2.5l-.94 2.06-2.06.94zm10 10l.94 2.06.94-2.06 2.06-.94-2.06-.94-.94-2.06-.94 2.06-2.06.94z\"/><path d=\"M17.41 7.96l-1.37-1.37c-.4-.4-.92-.59-1.43-.59-.52 0-1.04.2-1.43.59L10.3 9.45l-7.72 7.72c-.78.78-.78 2.05 0 2.83L4 21.41c.39.39.9.59 1.41.59.51 0 1.02-.2 1.41-.59l7.78-7.78 2.81-2.81c.8-.78.8-2.07 0-2.86zM5.41 20L4 18.59l7.72-7.72 1.47 1.35L5.41 20z\"/>\n",
              "  </svg>\n",
              "      </button>\n",
              "      \n",
              "  <style>\n",
              "    .colab-df-container {\n",
              "      display:flex;\n",
              "      flex-wrap:wrap;\n",
              "      gap: 12px;\n",
              "    }\n",
              "\n",
              "    .colab-df-convert {\n",
              "      background-color: #E8F0FE;\n",
              "      border: none;\n",
              "      border-radius: 50%;\n",
              "      cursor: pointer;\n",
              "      display: none;\n",
              "      fill: #1967D2;\n",
              "      height: 32px;\n",
              "      padding: 0 0 0 0;\n",
              "      width: 32px;\n",
              "    }\n",
              "\n",
              "    .colab-df-convert:hover {\n",
              "      background-color: #E2EBFA;\n",
              "      box-shadow: 0px 1px 2px rgba(60, 64, 67, 0.3), 0px 1px 3px 1px rgba(60, 64, 67, 0.15);\n",
              "      fill: #174EA6;\n",
              "    }\n",
              "\n",
              "    [theme=dark] .colab-df-convert {\n",
              "      background-color: #3B4455;\n",
              "      fill: #D2E3FC;\n",
              "    }\n",
              "\n",
              "    [theme=dark] .colab-df-convert:hover {\n",
              "      background-color: #434B5C;\n",
              "      box-shadow: 0px 1px 3px 1px rgba(0, 0, 0, 0.15);\n",
              "      filter: drop-shadow(0px 1px 2px rgba(0, 0, 0, 0.3));\n",
              "      fill: #FFFFFF;\n",
              "    }\n",
              "  </style>\n",
              "\n",
              "      <script>\n",
              "        const buttonEl =\n",
              "          document.querySelector('#df-af672089-9640-4b78-abc0-adf61976e111 button.colab-df-convert');\n",
              "        buttonEl.style.display =\n",
              "          google.colab.kernel.accessAllowed ? 'block' : 'none';\n",
              "\n",
              "        async function convertToInteractive(key) {\n",
              "          const element = document.querySelector('#df-af672089-9640-4b78-abc0-adf61976e111');\n",
              "          const dataTable =\n",
              "            await google.colab.kernel.invokeFunction('convertToInteractive',\n",
              "                                                     [key], {});\n",
              "          if (!dataTable) return;\n",
              "\n",
              "          const docLinkHtml = 'Like what you see? Visit the ' +\n",
              "            '<a target=\"_blank\" href=https://colab.research.google.com/notebooks/data_table.ipynb>data table notebook</a>'\n",
              "            + ' to learn more about interactive tables.';\n",
              "          element.innerHTML = '';\n",
              "          dataTable['output_type'] = 'display_data';\n",
              "          await google.colab.output.renderOutput(dataTable, element);\n",
              "          const docLink = document.createElement('div');\n",
              "          docLink.innerHTML = docLinkHtml;\n",
              "          element.appendChild(docLink);\n",
              "        }\n",
              "      </script>\n",
              "    </div>\n",
              "  </div>\n",
              "  "
            ]
          },
          "metadata": {},
          "execution_count": 103
        }
      ]
    },
    {
      "cell_type": "code",
      "source": [
        "# Visualisation of null values \n",
        "null = df2.isnull().sum().reset_index()\n",
        "null.rename(columns = {'index':'columns', 0:'null'}, inplace = True)\n",
        "sns.barplot(x = 'columns',\n",
        "             y = 'null',\n",
        "            data = null)\n",
        "plt.xticks(rotation= 45)\n",
        "plt.show()"
      ],
      "metadata": {
        "id": "3q5wnI3om9sJ",
        "colab": {
          "base_uri": "https://localhost:8080/",
          "height": 0
        },
        "outputId": "1b781bb1-31ab-4a35-8a72-04cf33d7aa5e"
      },
      "execution_count": 104,
      "outputs": [
        {
          "output_type": "display_data",
          "data": {
            "text/plain": [
              "<Figure size 1050x420 with 1 Axes>"
            ],
            "image/png": "[encoded data removed]"
          },
          "metadata": {}
        }
      ]
    },
    {
      "cell_type": "markdown",
      "source": [
        "**What did you know about your dataset?**"
      ],
      "metadata": {
        "id": "H0kj-8xxnORC"
      }
    },
    {
      "cell_type": "markdown",
      "source": [
        "As per our intial overview of data we have following observation:\n",
        "* We have 2 datasets zomato restaurant names and metadata(df1) and zomato restaurant reviews data(df2).\n",
        "* There are 105 rows in df1 and 6 columns in the df1 namely 'Name', 'Links', 'Cost', 'Collections', 'Cuisines'and 'Timings'.\n",
        "* There are 10000 rows in df1 and 7 columns in the df2 namely 'Restaurant', 'Reviewer', 'Review', 'Rating', 'Metadata', 'Time' and 'Pictures'\n",
        "* Majority of the columns are textual.\n",
        "* There are 36 duplicated instances in df2 and no duplicated instances in df1.\n",
        "* We noticed that there were 2 columns Collections(54) and Timmings(1) in df1 whereas 4 columns Reviewer(9), Review(2), Rating(2), Metadata(2) and Time(2) in df2.\n",
        "\n"
      ],
      "metadata": {
        "id": "gfoNAAC-nUe_"
      }
    },
    {
      "cell_type": "markdown",
      "source": [
        "## ***2. Understanding Your Variables***"
      ],
      "metadata": {
        "id": "nA9Y7ga8ng1Z"
      }
    },
    {
      "cell_type": "code",
      "source": [
        "# Dataset Columns\n",
        "df1.columns"
      ],
      "metadata": {
        "id": "j7xfkqrt5Ag5",
        "colab": {
          "base_uri": "https://localhost:8080/"
        },
        "outputId": "37cbebfa-cc39-43a9-c5fc-ad7aed0864ad"
      },
      "execution_count": 105,
      "outputs": [
        {
          "output_type": "execute_result",
          "data": {
            "text/plain": [
              "Index(['Name', 'Links', 'Cost', 'Collections', 'Cuisines', 'Timings'], dtype='object')"
            ]
          },
          "metadata": {},
          "execution_count": 105
        }
      ]
    },
    {
      "cell_type": "code",
      "source": [
        "# Dataset Columns\n",
        "df1.columns"
      ],
      "metadata": {
        "colab": {
          "base_uri": "https://localhost:8080/"
        },
        "id": "fhz7w3AeghxL",
        "outputId": "8f397a37-c881-4705-b563-c86739097b0b"
      },
      "execution_count": 106,
      "outputs": [
        {
          "output_type": "execute_result",
          "data": {
            "text/plain": [
              "Index(['Name', 'Links', 'Cost', 'Collections', 'Cuisines', 'Timings'], dtype='object')"
            ]
          },
          "metadata": {},
          "execution_count": 106
        }
      ]
    },
    {
      "cell_type": "code",
      "source": [
        "# Dataset Describe\n",
        "df1.describe(include='all').round(2)"
      ],
      "metadata": {
        "id": "DnOaZdaE5Q5t",
        "colab": {
          "base_uri": "https://localhost:8080/",
          "height": 175
        },
        "outputId": "fde28198-2683-4ec7-89a0-a5780e4fac74"
      },
      "execution_count": 107,
      "outputs": [
        {
          "output_type": "execute_result",
          "data": {
            "text/plain": [
              "                   Name                                              Links  \\\n",
              "count               105                                                105   \n",
              "unique              105                                                105   \n",
              "top     Beyond Flavours  https://www.zomato.com/hyderabad/beyond-flavou...   \n",
              "freq                  1                                                  1   \n",
              "\n",
              "       Cost                                  Collections  \\\n",
              "count   105                                           51   \n",
              "unique   29                                           42   \n",
              "top     500  Food Hygiene Rated Restaurants in Hyderabad   \n",
              "freq     13                                            4   \n",
              "\n",
              "                     Cuisines         Timings  \n",
              "count                     105             104  \n",
              "unique                     92              77  \n",
              "top     North Indian, Chinese  11 AM to 11 PM  \n",
              "freq                        4               6  "
            ],
            "text/html": [
              "\n",
              "  <div id=\"df-b26460fc-7df8-4092-a1c5-fc6fcf4faeba\">\n",
              "    <div class=\"colab-df-container\">\n",
              "      <div>\n",
              "<style scoped>\n",
              "    .dataframe tbody tr th:only-of-type {\n",
              "        vertical-align: middle;\n",
              "    }\n",
              "\n",
              "    .dataframe tbody tr th {\n",
              "        vertical-align: top;\n",
              "    }\n",
              "\n",
              "    .dataframe thead th {\n",
              "        text-align: right;\n",
              "    }\n",
              "</style>\n",
              "<table border=\"1\" class=\"dataframe\">\n",
              "  <thead>\n",
              "    <tr style=\"text-align: right;\">\n",
              "      <th></th>\n",
              "      <th>Name</th>\n",
              "      <th>Links</th>\n",
              "      <th>Cost</th>\n",
              "      <th>Collections</th>\n",
              "      <th>Cuisines</th>\n",
              "      <th>Timings</th>\n",
              "    </tr>\n",
              "  </thead>\n",
              "  <tbody>\n",
              "    <tr>\n",
              "      <th>count</th>\n",
              "      <td>105</td>\n",
              "      <td>105</td>\n",
              "      <td>105</td>\n",
              "      <td>51</td>\n",
              "      <td>105</td>\n",
              "      <td>104</td>\n",
              "    </tr>\n",
              "    <tr>\n",
              "      <th>unique</th>\n",
              "      <td>105</td>\n",
              "      <td>105</td>\n",
              "      <td>29</td>\n",
              "      <td>42</td>\n",
              "      <td>92</td>\n",
              "      <td>77</td>\n",
              "    </tr>\n",
              "    <tr>\n",
              "      <th>top</th>\n",
              "      <td>Beyond Flavours</td>\n",
              "      <td>https://www.zomato.com/hyderabad/beyond-flavou...</td>\n",
              "      <td>500</td>\n",
              "      <td>Food Hygiene Rated Restaurants in Hyderabad</td>\n",
              "      <td>North Indian, Chinese</td>\n",
              "      <td>11 AM to 11 PM</td>\n",
              "    </tr>\n",
              "    <tr>\n",
              "      <th>freq</th>\n",
              "      <td>1</td>\n",
              "      <td>1</td>\n",
              "      <td>13</td>\n",
              "      <td>4</td>\n",
              "      <td>4</td>\n",
              "      <td>6</td>\n",
              "    </tr>\n",
              "  </tbody>\n",
              "</table>\n",
              "</div>\n",
              "      <button class=\"colab-df-convert\" onclick=\"convertToInteractive('df-b26460fc-7df8-4092-a1c5-fc6fcf4faeba')\"\n",
              "              title=\"Convert this dataframe to an interactive table.\"\n",
              "              style=\"display:none;\">\n",
              "        \n",
              "  <svg xmlns=\"http://www.w3.org/2000/svg\" height=\"24px\"viewBox=\"0 0 24 24\"\n",
              "       width=\"24px\">\n",
              "    <path d=\"M0 0h24v24H0V0z\" fill=\"none\"/>\n",
              "    <path d=\"M18.56 5.44l.94 2.06.94-2.06 2.06-.94-2.06-.94-.94-2.06-.94 2.06-2.06.94zm-11 1L8.5 8.5l.94-2.06 2.06-.94-2.06-.94L8.5 2.5l-.94 2.06-2.06.94zm10 10l.94 2.06.94-2.06 2.06-.94-2.06-.94-.94-2.06-.94 2.06-2.06.94z\"/><path d=\"M17.41 7.96l-1.37-1.37c-.4-.4-.92-.59-1.43-.59-.52 0-1.04.2-1.43.59L10.3 9.45l-7.72 7.72c-.78.78-.78 2.05 0 2.83L4 21.41c.39.39.9.59 1.41.59.51 0 1.02-.2 1.41-.59l7.78-7.78 2.81-2.81c.8-.78.8-2.07 0-2.86zM5.41 20L4 18.59l7.72-7.72 1.47 1.35L5.41 20z\"/>\n",
              "  </svg>\n",
              "      </button>\n",
              "      \n",
              "  <style>\n",
              "    .colab-df-container {\n",
              "      display:flex;\n",
              "      flex-wrap:wrap;\n",
              "      gap: 12px;\n",
              "    }\n",
              "\n",
              "    .colab-df-convert {\n",
              "      background-color: #E8F0FE;\n",
              "      border: none;\n",
              "      border-radius: 50%;\n",
              "      cursor: pointer;\n",
              "      display: none;\n",
              "      fill: #1967D2;\n",
              "      height: 32px;\n",
              "      padding: 0 0 0 0;\n",
              "      width: 32px;\n",
              "    }\n",
              "\n",
              "    .colab-df-convert:hover {\n",
              "      background-color: #E2EBFA;\n",
              "      box-shadow: 0px 1px 2px rgba(60, 64, 67, 0.3), 0px 1px 3px 1px rgba(60, 64, 67, 0.15);\n",
              "      fill: #174EA6;\n",
              "    }\n",
              "\n",
              "    [theme=dark] .colab-df-convert {\n",
              "      background-color: #3B4455;\n",
              "      fill: #D2E3FC;\n",
              "    }\n",
              "\n",
              "    [theme=dark] .colab-df-convert:hover {\n",
              "      background-color: #434B5C;\n",
              "      box-shadow: 0px 1px 3px 1px rgba(0, 0, 0, 0.15);\n",
              "      filter: drop-shadow(0px 1px 2px rgba(0, 0, 0, 0.3));\n",
              "      fill: #FFFFFF;\n",
              "    }\n",
              "  </style>\n",
              "\n",
              "      <script>\n",
              "        const buttonEl =\n",
              "          document.querySelector('#df-b26460fc-7df8-4092-a1c5-fc6fcf4faeba button.colab-df-convert');\n",
              "        buttonEl.style.display =\n",
              "          google.colab.kernel.accessAllowed ? 'block' : 'none';\n",
              "\n",
              "        async function convertToInteractive(key) {\n",
              "          const element = document.querySelector('#df-b26460fc-7df8-4092-a1c5-fc6fcf4faeba');\n",
              "          const dataTable =\n",
              "            await google.colab.kernel.invokeFunction('convertToInteractive',\n",
              "                                                     [key], {});\n",
              "          if (!dataTable) return;\n",
              "\n",
              "          const docLinkHtml = 'Like what you see? Visit the ' +\n",
              "            '<a target=\"_blank\" href=https://colab.research.google.com/notebooks/data_table.ipynb>data table notebook</a>'\n",
              "            + ' to learn more about interactive tables.';\n",
              "          element.innerHTML = '';\n",
              "          dataTable['output_type'] = 'display_data';\n",
              "          await google.colab.output.renderOutput(dataTable, element);\n",
              "          const docLink = document.createElement('div');\n",
              "          docLink.innerHTML = docLinkHtml;\n",
              "          element.appendChild(docLink);\n",
              "        }\n",
              "      </script>\n",
              "    </div>\n",
              "  </div>\n",
              "  "
            ]
          },
          "metadata": {},
          "execution_count": 107
        }
      ]
    },
    {
      "cell_type": "code",
      "source": [
        "# Dataset Describe\n",
        "df2.describe(include='all').round(2)"
      ],
      "metadata": {
        "colab": {
          "base_uri": "https://localhost:8080/",
          "height": 394
        },
        "id": "H3RU3BQchOGv",
        "outputId": "9eecd2e9-b104-47a2-f4d4-1f251cece896"
      },
      "execution_count": 108,
      "outputs": [
        {
          "output_type": "execute_result",
          "data": {
            "text/plain": [
              "             Restaurant     Reviewer Review Rating  Metadata             Time  \\\n",
              "count              9964         9962   9955   9962      9962             9962   \n",
              "unique              100         7446   9364     10      2477             9782   \n",
              "top     Beyond Flavours  Parijat Ray   good      5  1 Review  7/29/2018 20:34   \n",
              "freq                100           13    237   3832       919                3   \n",
              "mean                NaN          NaN    NaN    NaN       NaN              NaN   \n",
              "std                 NaN          NaN    NaN    NaN       NaN              NaN   \n",
              "min                 NaN          NaN    NaN    NaN       NaN              NaN   \n",
              "25%                 NaN          NaN    NaN    NaN       NaN              NaN   \n",
              "50%                 NaN          NaN    NaN    NaN       NaN              NaN   \n",
              "75%                 NaN          NaN    NaN    NaN       NaN              NaN   \n",
              "max                 NaN          NaN    NaN    NaN       NaN              NaN   \n",
              "\n",
              "        Pictures  \n",
              "count    9964.00  \n",
              "unique       NaN  \n",
              "top          NaN  \n",
              "freq         NaN  \n",
              "mean        0.75  \n",
              "std         2.57  \n",
              "min         0.00  \n",
              "25%         0.00  \n",
              "50%         0.00  \n",
              "75%         0.00  \n",
              "max        64.00  "
            ],
            "text/html": [
              "\n",
              "  <div id=\"df-76441259-96ca-4544-824f-8eb4a4454461\">\n",
              "    <div class=\"colab-df-container\">\n",
              "      <div>\n",
              "<style scoped>\n",
              "    .dataframe tbody tr th:only-of-type {\n",
              "        vertical-align: middle;\n",
              "    }\n",
              "\n",
              "    .dataframe tbody tr th {\n",
              "        vertical-align: top;\n",
              "    }\n",
              "\n",
              "    .dataframe thead th {\n",
              "        text-align: right;\n",
              "    }\n",
              "</style>\n",
              "<table border=\"1\" class=\"dataframe\">\n",
              "  <thead>\n",
              "    <tr style=\"text-align: right;\">\n",
              "      <th></th>\n",
              "      <th>Restaurant</th>\n",
              "      <th>Reviewer</th>\n",
              "      <th>Review</th>\n",
              "      <th>Rating</th>\n",
              "      <th>Metadata</th>\n",
              "      <th>Time</th>\n",
              "      <th>Pictures</th>\n",
              "    </tr>\n",
              "  </thead>\n",
              "  <tbody>\n",
              "    <tr>\n",
              "      <th>count</th>\n",
              "      <td>9964</td>\n",
              "      <td>9962</td>\n",
              "      <td>9955</td>\n",
              "      <td>9962</td>\n",
              "      <td>9962</td>\n",
              "      <td>9962</td>\n",
              "      <td>9964.00</td>\n",
              "    </tr>\n",
              "    <tr>\n",
              "      <th>unique</th>\n",
              "      <td>100</td>\n",
              "      <td>7446</td>\n",
              "      <td>9364</td>\n",
              "      <td>10</td>\n",
              "      <td>2477</td>\n",
              "      <td>9782</td>\n",
              "      <td>NaN</td>\n",
              "    </tr>\n",
              "    <tr>\n",
              "      <th>top</th>\n",
              "      <td>Beyond Flavours</td>\n",
              "      <td>Parijat Ray</td>\n",
              "      <td>good</td>\n",
              "      <td>5</td>\n",
              "      <td>1 Review</td>\n",
              "      <td>7/29/2018 20:34</td>\n",
              "      <td>NaN</td>\n",
              "    </tr>\n",
              "    <tr>\n",
              "      <th>freq</th>\n",
              "      <td>100</td>\n",
              "      <td>13</td>\n",
              "      <td>237</td>\n",
              "      <td>3832</td>\n",
              "      <td>919</td>\n",
              "      <td>3</td>\n",
              "      <td>NaN</td>\n",
              "    </tr>\n",
              "    <tr>\n",
              "      <th>mean</th>\n",
              "      <td>NaN</td>\n",
              "      <td>NaN</td>\n",
              "      <td>NaN</td>\n",
              "      <td>NaN</td>\n",
              "      <td>NaN</td>\n",
              "      <td>NaN</td>\n",
              "      <td>0.75</td>\n",
              "    </tr>\n",
              "    <tr>\n",
              "      <th>std</th>\n",
              "      <td>NaN</td>\n",
              "      <td>NaN</td>\n",
              "      <td>NaN</td>\n",
              "      <td>NaN</td>\n",
              "      <td>NaN</td>\n",
              "      <td>NaN</td>\n",
              "      <td>2.57</td>\n",
              "    </tr>\n",
              "    <tr>\n",
              "      <th>min</th>\n",
              "      <td>NaN</td>\n",
              "      <td>NaN</td>\n",
              "      <td>NaN</td>\n",
              "      <td>NaN</td>\n",
              "      <td>NaN</td>\n",
              "      <td>NaN</td>\n",
              "      <td>0.00</td>\n",
              "    </tr>\n",
              "    <tr>\n",
              "      <th>25%</th>\n",
              "      <td>NaN</td>\n",
              "      <td>NaN</td>\n",
              "      <td>NaN</td>\n",
              "      <td>NaN</td>\n",
              "      <td>NaN</td>\n",
              "      <td>NaN</td>\n",
              "      <td>0.00</td>\n",
              "    </tr>\n",
              "    <tr>\n",
              "      <th>50%</th>\n",
              "      <td>NaN</td>\n",
              "      <td>NaN</td>\n",
              "      <td>NaN</td>\n",
              "      <td>NaN</td>\n",
              "      <td>NaN</td>\n",
              "      <td>NaN</td>\n",
              "      <td>0.00</td>\n",
              "    </tr>\n",
              "    <tr>\n",
              "      <th>75%</th>\n",
              "      <td>NaN</td>\n",
              "      <td>NaN</td>\n",
              "      <td>NaN</td>\n",
              "      <td>NaN</td>\n",
              "      <td>NaN</td>\n",
              "      <td>NaN</td>\n",
              "      <td>0.00</td>\n",
              "    </tr>\n",
              "    <tr>\n",
              "      <th>max</th>\n",
              "      <td>NaN</td>\n",
              "      <td>NaN</td>\n",
              "      <td>NaN</td>\n",
              "      <td>NaN</td>\n",
              "      <td>NaN</td>\n",
              "      <td>NaN</td>\n",
              "      <td>64.00</td>\n",
              "    </tr>\n",
              "  </tbody>\n",
              "</table>\n",
              "</div>\n",
              "      <button class=\"colab-df-convert\" onclick=\"convertToInteractive('df-76441259-96ca-4544-824f-8eb4a4454461')\"\n",
              "              title=\"Convert this dataframe to an interactive table.\"\n",
              "              style=\"display:none;\">\n",
              "        \n",
              "  <svg xmlns=\"http://www.w3.org/2000/svg\" height=\"24px\"viewBox=\"0 0 24 24\"\n",
              "       width=\"24px\">\n",
              "    <path d=\"M0 0h24v24H0V0z\" fill=\"none\"/>\n",
              "    <path d=\"M18.56 5.44l.94 2.06.94-2.06 2.06-.94-2.06-.94-.94-2.06-.94 2.06-2.06.94zm-11 1L8.5 8.5l.94-2.06 2.06-.94-2.06-.94L8.5 2.5l-.94 2.06-2.06.94zm10 10l.94 2.06.94-2.06 2.06-.94-2.06-.94-.94-2.06-.94 2.06-2.06.94z\"/><path d=\"M17.41 7.96l-1.37-1.37c-.4-.4-.92-.59-1.43-.59-.52 0-1.04.2-1.43.59L10.3 9.45l-7.72 7.72c-.78.78-.78 2.05 0 2.83L4 21.41c.39.39.9.59 1.41.59.51 0 1.02-.2 1.41-.59l7.78-7.78 2.81-2.81c.8-.78.8-2.07 0-2.86zM5.41 20L4 18.59l7.72-7.72 1.47 1.35L5.41 20z\"/>\n",
              "  </svg>\n",
              "      </button>\n",
              "      \n",
              "  <style>\n",
              "    .colab-df-container {\n",
              "      display:flex;\n",
              "      flex-wrap:wrap;\n",
              "      gap: 12px;\n",
              "    }\n",
              "\n",
              "    .colab-df-convert {\n",
              "      background-color: #E8F0FE;\n",
              "      border: none;\n",
              "      border-radius: 50%;\n",
              "      cursor: pointer;\n",
              "      display: none;\n",
              "      fill: #1967D2;\n",
              "      height: 32px;\n",
              "      padding: 0 0 0 0;\n",
              "      width: 32px;\n",
              "    }\n",
              "\n",
              "    .colab-df-convert:hover {\n",
              "      background-color: #E2EBFA;\n",
              "      box-shadow: 0px 1px 2px rgba(60, 64, 67, 0.3), 0px 1px 3px 1px rgba(60, 64, 67, 0.15);\n",
              "      fill: #174EA6;\n",
              "    }\n",
              "\n",
              "    [theme=dark] .colab-df-convert {\n",
              "      background-color: #3B4455;\n",
              "      fill: #D2E3FC;\n",
              "    }\n",
              "\n",
              "    [theme=dark] .colab-df-convert:hover {\n",
              "      background-color: #434B5C;\n",
              "      box-shadow: 0px 1px 3px 1px rgba(0, 0, 0, 0.15);\n",
              "      filter: drop-shadow(0px 1px 2px rgba(0, 0, 0, 0.3));\n",
              "      fill: #FFFFFF;\n",
              "    }\n",
              "  </style>\n",
              "\n",
              "      <script>\n",
              "        const buttonEl =\n",
              "          document.querySelector('#df-76441259-96ca-4544-824f-8eb4a4454461 button.colab-df-convert');\n",
              "        buttonEl.style.display =\n",
              "          google.colab.kernel.accessAllowed ? 'block' : 'none';\n",
              "\n",
              "        async function convertToInteractive(key) {\n",
              "          const element = document.querySelector('#df-76441259-96ca-4544-824f-8eb4a4454461');\n",
              "          const dataTable =\n",
              "            await google.colab.kernel.invokeFunction('convertToInteractive',\n",
              "                                                     [key], {});\n",
              "          if (!dataTable) return;\n",
              "\n",
              "          const docLinkHtml = 'Like what you see? Visit the ' +\n",
              "            '<a target=\"_blank\" href=https://colab.research.google.com/notebooks/data_table.ipynb>data table notebook</a>'\n",
              "            + ' to learn more about interactive tables.';\n",
              "          element.innerHTML = '';\n",
              "          dataTable['output_type'] = 'display_data';\n",
              "          await google.colab.output.renderOutput(dataTable, element);\n",
              "          const docLink = document.createElement('div');\n",
              "          docLink.innerHTML = docLinkHtml;\n",
              "          element.appendChild(docLink);\n",
              "        }\n",
              "      </script>\n",
              "    </div>\n",
              "  </div>\n",
              "  "
            ]
          },
          "metadata": {},
          "execution_count": 108
        }
      ]
    },
    {
      "cell_type": "markdown",
      "source": [
        "### Variables Description "
      ],
      "metadata": {
        "id": "PBTbrJXOngz2"
      }
    },
    {
      "cell_type": "markdown",
      "source": [
        "Answer Here"
      ],
      "metadata": {
        "id": "aJV4KIxSnxay"
      }
    },
    {
      "cell_type": "markdown",
      "source": [
        "### Check Unique Values for each variable."
      ],
      "metadata": {
        "id": "u3PMJOP6ngxN"
      }
    },
    {
      "cell_type": "code",
      "source": [
        "list_df1 = ['Name', 'Links', 'Cost', 'Collections', 'Cuisines', 'Timings']\n",
        "list_df2 = ['Restaurant', 'Reviewer', 'Review', 'Rating', 'Metadata', 'Time',\n",
        "       'Pictures']"
      ],
      "metadata": {
        "id": "h6QfEYucriAi"
      },
      "execution_count": 109,
      "outputs": []
    },
    {
      "cell_type": "code",
      "source": [
        "# Check Unique Values for each variable.\n",
        "print(\"Unique values in these Retaurenat dataset in each columns: \\n\")\n",
        "for i in list(df1.columns):\n",
        "  print(f'Unique values in {i}---------->>  {df1[i].unique()}')\n",
        "  print('-----------------------------------------------------------------------------------------------------------------')"
      ],
      "metadata": {
        "id": "zms12Yq5n-jE",
        "colab": {
          "base_uri": "https://localhost:8080/"
        },
        "outputId": "6a04b251-10a8-4f7b-e54e-bef41e301eec"
      },
      "execution_count": 110,
      "outputs": [
        {
          "output_type": "stream",
          "name": "stdout",
          "text": [
            "Unique values in these Retaurenat dataset in each columns: \n",
            "\n",
            "Unique values in Name---------->>  ['Beyond Flavours' 'Paradise' 'Flechazo' 'Shah Ghouse Hotel & Restaurant'\n",
            " 'Over The Moon Brew Company' \"The Fisherman's Wharf\" 'eat.fit'\n",
            " 'Shah Ghouse Spl Shawarma' 'Hyper Local' 'Cream Stone'\n",
            " \"Sardarji's Chaats & More\" 'Barbeque Nation' 'Absolute Sizzlers'\n",
            " 'The Lal Street - Bar Exchange' \"AB's - Absolute Barbecues\" 'KFC'\n",
            " 'NorFest - The Dhaba' 'Hotel Zara Hi-Fi' '10 Downing Street'\n",
            " 'Pakwaan Grand' '13 Dhaba'\n",
            " \"Jonathan's Kitchen - Holiday Inn Express & Suites\" 'B-Dubs' 'Amul'\n",
            " 'SKYHY' 'Tiki Shack' 'Mustang Terrace Lounge'\n",
            " \"3B's - Buddies, Bar & Barbecue\" 'Behrouz Biryani' 'Hunger Maggi Point'\n",
            " 'Pot Pourri' 'Pista House' 'Marsala Food Company' 'Club Rogue'\n",
            " 'Mazzo - Marriott Executive Apartments' 'Green Bawarchi Restaurant'\n",
            " 'Banana Leaf Multicuisine Restaurant' 'Kritunga Restaurant'\n",
            " 'The Glass Onion' 'Deli 9 Bistro' 'Frio Bistro' 'Karachi Bakery'\n",
            " 'Karachi Cafe' 'The Foodie Monster Kitchen' 'La La Land - Bar & Kitchen'\n",
            " 'Owm Nom Nom' 'Ulavacharu' 'Shanghai Chef 2' \"Udipi's Upahar\"\n",
            " 'Mathura Vilas' 'Gal Punjab Di' 'Hitech Bawarchi Food Zone'\n",
            " 'Biryanis And More' 'Diners Pavilion' 'Asian Meal Box' 'Cafe Eclat'\n",
            " 'Feast - Sheraton Hyderabad Hotel' 'Being Hungry' 'Tempteys' 'KS Bakers'\n",
            " 'PourHouse7' 'Prism Club & Kitchen'\n",
            " 'Shree Santosh Dhaba Family Restaurant' 'Dine O China' 'Hyderabad Chefs'\n",
            " 'Komatose - Holiday Inn Express & Suites' 'Aromas@11SIX'\n",
            " 'Yum Yum Tree - The Arabian Food Court' 'The Tilt Bar Republic'\n",
            " 'The Indi Grill' 'Urban Asia - Kitchen & Bar' 'Eat India Company'\n",
            " 'Labonel' 'Driven Cafe' 'Faasos' 'Royal Spicy Restaurant'\n",
            " 'The Old Madras Baking Company' 'Squeeze @ The Lime' 'Khaan Saab'\n",
            " 'Olive Garden' 'Tandoori Food Works' 'Delhi-39' 'Al Saba Restaurant'\n",
            " \"GD's\" 'T Grill' 'Momos Delight' 'The Chocolate Room'\n",
            " 'American Wild Wings' \"Domino's Pizza\" 'Mohammedia Shawarma'\n",
            " 'Arena Eleven' 'Cascade - Radisson Hyderabad Hitec City'\n",
            " 'Collage - Hyatt Hyderabad Gachibowli' \"Zing's Northeast Kitchen\"\n",
            " \"Dunkin' Donuts\" 'Desi Bytes' 'Hyderabadi Daawat'\n",
            " 'Zega - Sheraton Hyderabad Hotel' 'Triptify' 'Chinese Pavilion'\n",
            " 'IndiBlaze' 'Sweet Basket' 'Angaara Counts 3' 'Wich Please'\n",
            " 'Republic Of Noodles - Lemon Tree Hotel']\n",
            "-----------------------------------------------------------------------------------------------------------------\n",
            "Unique values in Links---------->>  ['https://www.zomato.com/hyderabad/beyond-flavours-gachibowli'\n",
            " 'https://www.zomato.com/hyderabad/paradise-gachibowli'\n",
            " 'https://www.zomato.com/hyderabad/flechazo-gachibowli'\n",
            " 'https://www.zomato.com/hyderabad/shah-ghouse-hotel-restaurant-gachibowli'\n",
            " 'https://www.zomato.com/hyderabad/over-the-moon-brew-company-gachibowli'\n",
            " 'https://www.zomato.com/hyderabad/the-fishermans-wharf-gachibowli'\n",
            " 'https://www.zomato.com/hyderabad/eat-fit-gachibowli'\n",
            " 'https://www.zomato.com/hyderabad/shah-ghouse-spl-shawarma-gachibowli'\n",
            " 'https://www.zomato.com/hyderabad/hyper-local-gachibowli'\n",
            " 'https://www.zomato.com/hyderabad/cream-stone-gachibowli'\n",
            " 'https://www.zomato.com/hyderabad/sardarjis-chaats-more-gachibowli'\n",
            " 'https://www.zomato.com/hyderabad/barbeque-nation-gachibowli'\n",
            " 'https://www.zomato.com/hyderabad/absolute-sizzlers-gachibowli'\n",
            " 'https://www.zomato.com/hyderabad/the-lal-street-bar-exchange-gachibowli'\n",
            " 'https://www.zomato.com/hyderabad/abs-absolute-barbecues-gachibowli'\n",
            " 'https://www.zomato.com/hyderabad/kfc-gachibowli'\n",
            " 'https://www.zomato.com/hyderabad/norfest-the-dhaba-gachibowli'\n",
            " 'https://www.zomato.com/hyderabad/hotel-zara-gachibowli'\n",
            " 'https://www.zomato.com/hyderabad/10-downing-street-gachibowli'\n",
            " 'https://www.zomato.com/hyderabad/pakwaan-grand-gachibowli'\n",
            " 'https://www.zomato.com/hyderabad/13-dhaba-gachibowli'\n",
            " 'https://www.zomato.com/hyderabad/jonathans-kitchen-holiday-inn-express-suites-gachibowli'\n",
            " 'https://www.zomato.com/hyderabad/b-dubs-gachibowli'\n",
            " 'https://www.zomato.com/hyderabad/amul-gachibowli'\n",
            " 'https://www.zomato.com/hyderabad/skyhy-gachibowli'\n",
            " 'https://www.zomato.com/hyderabad/tiki-shack-gachibowli'\n",
            " 'https://www.zomato.com/hyderabad/mustang-terrace-lounge-gachibowli'\n",
            " 'https://www.zomato.com/hyderabad/3bs-buddies-bar-barbecue-gachibowli'\n",
            " 'https://www.zomato.com/hyderabad/behrouz-biryani-gachibowli'\n",
            " 'https://www.zomato.com/hyderabad/hunger-maggi-point-gachibowli'\n",
            " 'https://www.zomato.com/hyderabad/pot-pourri-gachibowli'\n",
            " 'https://www.zomato.com/hyderabad/pista-house-2-gachibowli'\n",
            " 'https://www.zomato.com/hyderabad/marsala-food-company-gachibowli'\n",
            " 'https://www.zomato.com/hyderabad/club-rogue-gachibowli'\n",
            " 'https://www.zomato.com/hyderabad/mazzo-marriott-executive-apartments-gachibowli'\n",
            " 'https://www.zomato.com/hyderabad/green-bawarchi-restaurant-gachibowli'\n",
            " 'https://www.zomato.com/hyderabad/banana-leaf-multicuisine-restaurant-gachibowli'\n",
            " 'https://www.zomato.com/hyderabad/kritunga-restaurant-gachibowli'\n",
            " 'https://www.zomato.com/hyderabad/the-glass-onion-gachibowli'\n",
            " 'https://www.zomato.com/hyderabad/deli-9-bistro-gachibowli'\n",
            " 'https://www.zomato.com/hyderabad/frio-bistro-gachibowli'\n",
            " 'https://www.zomato.com/hyderabad/karachi-bakery-gachibowli'\n",
            " 'https://www.zomato.com/hyderabad/karachi-cafe-gachibowli'\n",
            " 'https://www.zomato.com/hyderabad/the-foodie-monster-kitchen-gachibowli'\n",
            " 'https://www.zomato.com/hyderabad/la-la-land-bar-kitchen-gachibowli'\n",
            " 'https://www.zomato.com/hyderabad/owm-nom-nom-gachibowli'\n",
            " 'https://www.zomato.com/hyderabad/ulavacharu-gachibowli'\n",
            " 'https://www.zomato.com/hyderabad/shanghai-chef-2-gachibowli'\n",
            " 'https://www.zomato.com/hyderabad/udipis-upahar-gachibowli'\n",
            " 'https://www.zomato.com/hyderabad/mathura-vilas-gachibowli'\n",
            " 'https://www.zomato.com/hyderabad/gal-punjab-di-gachibowli'\n",
            " 'https://www.zomato.com/hyderabad/hitech-bawarchi-food-zone-gachibowli'\n",
            " 'https://www.zomato.com/hyderabad/biryanis-and-more-gachibowli'\n",
            " 'https://www.zomato.com/hyderabad/diners-pavilion-gachibowli'\n",
            " 'https://www.zomato.com/hyderabad/asian-meal-box-gachibowli'\n",
            " 'https://www.zomato.com/hyderabad/cafe-eclat-gachibowli'\n",
            " 'https://www.zomato.com/hyderabad/feast-sheraton-hyderabad-hotel-gachibowli'\n",
            " 'https://www.zomato.com/hyderabad/being-hungry-gachibowli'\n",
            " 'https://www.zomato.com/hyderabad/tempteys-gachibowli'\n",
            " 'https://www.zomato.com/hyderabad/ks-bakers-gachibowli'\n",
            " 'https://www.zomato.com/hyderabad/pourhouse7-gachibowli'\n",
            " 'https://www.zomato.com/hyderabad/prism-club-kitchen-gachibowli'\n",
            " 'https://www.zomato.com/hyderabad/shree-santosh-dhaba-family-restaurant-gachibowli'\n",
            " 'https://www.zomato.com/hyderabad/dine-o-china-gachibowli'\n",
            " 'https://www.zomato.com/hyderabad/hyderabad-chefs-gachibowli'\n",
            " 'https://www.zomato.com/hyderabad/komatose-holiday-inn-express-suites-gachibowli'\n",
            " 'https://www.zomato.com/hyderabad/aromas11six-gachibowli'\n",
            " 'https://www.zomato.com/hyderabad/yum-yum-tree-the-arabian-food-court-gachibowli'\n",
            " 'https://www.zomato.com/thetiltbarrepublic'\n",
            " 'https://www.zomato.com/hyderabad/the-indi-grill-gachibowli'\n",
            " 'https://www.zomato.com/hyderabad/urban-asia-kitchen-bar-gachibowli'\n",
            " 'https://www.zomato.com/hyderabad/eat-india-company-gachibowli'\n",
            " 'https://www.zomato.com/hyderabad/labonel-gachibowli'\n",
            " 'https://www.zomato.com/hyderabad/driven-cafe-gachibowli'\n",
            " 'https://www.zomato.com/hyderabad/faasos-gachibowli'\n",
            " 'https://www.zomato.com/hyderabad/royal-spicy-restaurant-gachibowli'\n",
            " 'https://www.zomato.com/hyderabad/the-old-madras-baking-company-gachibowli'\n",
            " 'https://www.zomato.com/hyderabad/squeeze-the-lime-gachibowli'\n",
            " 'https://www.zomato.com/hyderabad/khaan-saab-gachibowli'\n",
            " 'https://www.zomato.com/hyderabad/olive-garden-gachibowli'\n",
            " 'https://www.zomato.com/hyderabad/tandoori-food-works-gachibowli'\n",
            " 'https://www.zomato.com/hyderabad/delhi-39-gachibowli'\n",
            " 'https://www.zomato.com/hyderabad/al-saba-restaurant-gachibowli'\n",
            " 'https://www.zomato.com/hyderabad/gds-gachibowli'\n",
            " 'https://www.zomato.com/hyderabad/t-grill-gachibowli'\n",
            " 'https://www.zomato.com/hyderabad/momos-delight-gachibowli'\n",
            " 'https://www.zomato.com/hyderabad/the-chocolate-room-gachibowli'\n",
            " 'https://www.zomato.com/hyderabad/american-wild-wings-gachibowli'\n",
            " 'https://www.zomato.com/hyderabad/dominos-pizza-4-gachibowli'\n",
            " 'https://www.zomato.com/hyderabad/mohammedia-shawarma-gachibowli'\n",
            " 'https://www.zomato.com/hyderabad/arena-eleven-gachibowli'\n",
            " 'https://www.zomato.com/hyderabad/cascade-radisson-hyderabad-hitec-city-gachibowli'\n",
            " 'https://www.zomato.com/hyderabad/collage-hyatt-hyderabad-gachibowli-gachibowli'\n",
            " 'https://www.zomato.com/hyderabad/zings-northeast-kitchen-gachibowli'\n",
            " 'https://www.zomato.com/hyderabad/dunkin-donuts-gachibowli'\n",
            " 'https://www.zomato.com/hyderabad/desi-bytes-gachibowli'\n",
            " 'https://www.zomato.com/hyderabad/hyderabadi-daawat-1-gachibowli'\n",
            " 'https://www.zomato.com/hyderabad/zega-sheraton-hyderabad-hotel-gachibowli'\n",
            " 'https://www.zomato.com/hyderabad/triptify-gachibowli'\n",
            " 'https://www.zomato.com/hyderabad/chinese-pavilion-gachibowli'\n",
            " 'https://www.zomato.com/hyderabad/indiblaze-gachibowli'\n",
            " 'https://www.zomato.com/hyderabad/sweet-basket-gachibowli'\n",
            " 'https://www.zomato.com/hyderabad/angaara-counts-3-gachibowli'\n",
            " 'https://www.zomato.com/hyderabad/wich-please-1-gachibowli'\n",
            " 'https://www.zomato.com/hyderabad/republic-of-noodles-lemon-tree-hotel-gachibowli']\n",
            "-----------------------------------------------------------------------------------------------------------------\n",
            "Unique values in Cost---------->>  ['800' '1,300' '1,200' '1,500' '500' '300' '1,000' '350' '400' '1,600'\n",
            " '750' '550' '1,900' '450' '150' '1,400' '1,100' '600' '200' '900' '700'\n",
            " '1,700' '2,500' '850' '650' '1,800' '2,800' '1,750' '250']\n",
            "-----------------------------------------------------------------------------------------------------------------\n",
            "Unique values in Collections---------->>  ['Food Hygiene Rated Restaurants in Hyderabad, Corporate Favorites, Great Buffets, Top-Rated, Gold Curated, Live Sports Screenings'\n",
            " \"Hyderabad's Hottest\" \"Great Buffets, Hyderabad's Hottest\"\n",
            " 'Late Night Restaurants'\n",
            " \"Best Bars & Pubs, Food Hygiene Rated Restaurants in Hyderabad, Top-Rated, Gold Curated, Hyderabad's Hottest\"\n",
            " \"Sunday Brunches, Corporate Favorites, Great Buffets, Hyderabad's Hottest, Food Hygiene Rated Restaurants in Hyderabad, Top-Rated, Gold Curated\"\n",
            " 'Food Hygiene Rated Restaurants in Hyderabad' nan\n",
            " 'Great Buffets, Live Sports Screenings, Best Bars & Pubs, Trending This Week'\n",
            " 'Frozen Delights' 'Street Food, Veggie Friendly, Pocket Friendly'\n",
            " 'Barbecue & Grill' 'Great Buffets'\n",
            " 'Corporate Favorites, Happy Hours, Live Sports Screenings, Rooftops, Trending This Week'\n",
            " \"Barbecue & Grill, Great Buffets, Corporate Favorites, Hyderabad's Hottest\"\n",
            " 'Trending This Week' 'Veggie Friendly' 'Great Italian, Sunday Brunches'\n",
            " 'Live Sports Screenings, Gigs and Events'\n",
            " 'Rooftops, Live Sports Screenings, Best Bars & Pubs'\n",
            " 'Barbecue & Grill, Live Sports Screenings' 'Haleem'\n",
            " 'Mandi, Great Buffets, The ‘Must Visit’ Eateries'\n",
            " 'Top-Rated, Gold Curated, Fancy and Fun' 'Fancy and Fun'\n",
            " 'Great Breakfasts, Late Night Restaurants, Best shawarmas'\n",
            " 'Great Buffets, Trending This Week' 'Function Venues, Regional Favorites'\n",
            " 'Pan-Asian Delicacies' 'Veggie Friendly, Terrific Thalis'\n",
            " 'Great Buffets, Live Sports Screenings' 'Sneak Peek Hyderabad'\n",
            " 'Sunday Brunches, Great Breakfasts, Function Venues, Ramzan Mubarak'\n",
            " 'Best Milkshakes'\n",
            " 'Happy Hours, Top Drinking Destinations, Corporate Favorites'\n",
            " 'Sneak Peek Hyderabad, Best Bars & Pubs, Gigs and Events'\n",
            " 'Happy Hours, Top-Rated, Gold Curated'\n",
            " 'Gigs and Events, Corporate Favorites'\n",
            " \"Food Hygiene Rated Restaurants in Hyderabad, Great Buffets, Hyderabad's Hottest\"\n",
            " 'Best Bakeries' 'New on Gold' 'Brilliant Biryanis' 'Sunday Brunches']\n",
            "-----------------------------------------------------------------------------------------------------------------\n",
            "Unique values in Cuisines---------->>  ['Chinese, Continental, Kebab, European, South Indian, North Indian'\n",
            " 'Biryani, North Indian, Chinese'\n",
            " 'Asian, Mediterranean, North Indian, Desserts'\n",
            " 'Biryani, North Indian, Chinese, Seafood, Beverages'\n",
            " 'Asian, Continental, North Indian, Chinese, Mediterranean'\n",
            " 'Seafood, Goan, North Indian, Continental, Asian'\n",
            " 'Healthy Food, North Indian, Continental, South Indian' 'Lebanese'\n",
            " 'American, Chinese, North Indian, Kebab, South Indian'\n",
            " 'Ice Cream, Desserts' 'Street Food, North Indian, Fast Food'\n",
            " 'Mediterranean, North Indian, Kebab, BBQ'\n",
            " 'Continental, American, Chinese' 'North Indian, Italian, Finger Food'\n",
            " 'European, Mediterranean, North Indian' 'Burger, Fast Food'\n",
            " 'North Indian' 'Chinese, North Indian'\n",
            " 'North Indian, Chinese, Continental' 'North Indian, Chinese, Biryani'\n",
            " 'North Indian, Japanese, Italian, Salad, Sushi' 'American' 'Continental'\n",
            " 'Mexican, Italian, North Indian, Chinese, Salad'\n",
            " 'North Indian, Mediterranean, European' 'Mughlai, Biryani' 'Fast Food'\n",
            " 'Andhra, South Indian, North Indian'\n",
            " 'Bakery, North Indian, Mughlai, Juices, Chinese'\n",
            " 'Arabian, North Indian, Chinese' 'North Indian, Fast Food'\n",
            " 'Italian, North Indian, South Indian, Asian'\n",
            " 'Biryani, South Indian, North Indian, Chinese, Andhra'\n",
            " 'Andhra, Biryani, Hyderabadi, North Indian'\n",
            " 'North Indian, Continental, Italian, Asian' 'Cafe, Continental, Desserts'\n",
            " 'European, Italian, Continental, Spanish' 'Bakery, Fast Food, Desserts'\n",
            " 'Cafe, Desserts, Fast Food' 'American, Wraps, Desserts'\n",
            " 'Finger Food, North Indian, Kebab, Chinese'\n",
            " 'Chinese, Biryani, Andhra, North Indian' 'Andhra, North Indian, Chinese'\n",
            " 'Chinese, Thai, Indonesian, Asian' 'South Indian, North Indian, Chinese'\n",
            " 'North Indian, Continental' 'North Indian, Biryani, Chinese'\n",
            " 'Chinese, Continental, Italian' 'Asian' 'Cafe, Bakery'\n",
            " 'Modern Indian, Asian, Continental, Italian' 'North Indian, Chinese'\n",
            " 'Desserts, Beverages' 'Bakery, Desserts, Fast Food'\n",
            " 'North Indian, Continental, Chinese, Italian'\n",
            " 'Kebab, Continental, Italian, North Indian'\n",
            " 'North Indian, Chinese, Fast Food' 'Chinese, Asian, Momos'\n",
            " 'North Indian, Chinese, Japanese, Sushi'\n",
            " 'North Indian, Chinese, Mughlai, Biryani' 'North Indian, Hyderabadi'\n",
            " 'North Indian, Continental, Italian' 'BBQ, Asian, Modern Indian'\n",
            " 'Asian, Thai, Chinese, Sushi, Momos' 'North Indian, Mughlai, Beverages'\n",
            " 'Bakery, Desserts' 'Cafe, Fast Food, Beverages'\n",
            " 'Fast Food, Biryani, Desserts' 'North Indian, South Indian' 'Bakery'\n",
            " 'Italian, North Indian, Chinese, Salad' 'North Indian, Mughlai'\n",
            " 'North Indian, Chinese, Continental, Biryani'\n",
            " 'North Indian, Burger, Kebab'\n",
            " 'North Indian, Chinese, Seafood, Biryani, Hyderabadi' 'Burger, American'\n",
            " 'North Indian, Andhra, Biryani, Chinese' 'Momos' 'Cafe, Desserts'\n",
            " 'American, Fast Food, Salad, Burger' 'Fast Food, Pizza'\n",
            " 'Street Food, Arabian' 'North Indian, Italian, Continental, Asian'\n",
            " 'Continental, Italian, North Indian, Chinese, Asian'\n",
            " 'North Eastern, Momos' 'Desserts, Cafe, Beverages, Burger, Fast Food'\n",
            " 'Hyderabadi, Chinese, Mughlai' 'Asian, Sushi' 'Chinese, Seafood'\n",
            " 'Fast Food, Salad' 'Bakery, Mithai' 'Thai, Asian, Chinese, Malaysian']\n",
            "-----------------------------------------------------------------------------------------------------------------\n",
            "Unique values in Timings---------->>  ['12noon to 3:30pm, 6:30pm to 11:30pm (Mon-Sun)' '11 AM to 11 PM'\n",
            " '11:30 AM to 4:30 PM, 6:30 PM to 11 PM' '12 Noon to 2 AM'\n",
            " '12noon to 11pm (Mon, Tue, Wed, Thu, Sun), 12noon to 12midnight (Fri-Sat)'\n",
            " '12Noon to 3:30PM, 4PM to 6:30PM, 7PM to 11:30PM (Mon, Tue, Wed, Thu, Sun), 12Noon to 3:30PM, 4PM to 6:30PM, 7PM to 12Midnight (Fri-Sat)'\n",
            " '7 AM to 10 PM' '12 Noon to 12 Midnight'\n",
            " '10 AM to 1 AM (Mon-Thu), 10 AM to 1:30 AM (Fri-Sun)'\n",
            " '12 Noon to 3:30 PM, 7 PM to 10:30 PM'\n",
            " '12 Noon to 3:30 PM, 6:30 PM to 11:30 PM' '11:30 AM to 1 AM'\n",
            " '12noon to 12midnight (Mon-Sun)'\n",
            " '12 Noon to 4:30 PM, 6:30 PM to 11:30 PM' '12 Noon to 10:30 PM'\n",
            " '12 Noon to 11 PM' '12:30 PM to 10 PM (Tue-Sun), Mon Closed'\n",
            " '11:30 AM to 3 PM, 7 PM to 11 PM'\n",
            " '11am to 11:30pm (Mon, Tue, Wed, Thu, Sun), 11am to 12midnight (Fri-Sat)'\n",
            " '10 AM to 5 AM'\n",
            " '12 Noon to 12 Midnight (Mon-Thu, Sun), 12 Noon to 1 AM (Fri-Sat)'\n",
            " '12Noon to 11PM (Mon-Thu),12Noon to 11:30PM (Fri-Sun)'\n",
            " '12 Noon to 11:30 PM (Mon-Wed), 12 Noon to 1 AM (Fri-Sat), 12 Noon to 12 Midnight (Sun), Thu Closed'\n",
            " '12 Noon to 4 PM, 6:30 PM to 11:30 PM' '10 AM to 1 AM'\n",
            " '4:30 PM to 5:30 AM' nan '11 AM to 12 Midnight'\n",
            " '12noon to 4pm, 7pm to 12midnight (Mon-Sun)'\n",
            " '6am to 12midnight (Mon-Sun)' '12:30 PM to 3:30 PM, 7 PM to 10:40 PM'\n",
            " '12 Noon to 4 PM, 7 PM to 11 PM' '12noon to 11pm (Mon-Sun)'\n",
            " '10 AM to 10 PM' '7 AM to 1 AM' '12 Noon to 11:30 PM'\n",
            " '12Noon to 11:30PM (Mon-Sun)' '6 AM to 10:30 PM'\n",
            " '11:30 AM to 3:30 PM, 6:45 PM to 11:30 PM'\n",
            " '11:55 AM to 4 PM, 7 PM to 11:15 PM'\n",
            " '12noon to 4:30pm, 6:30pm to 11:30pm (Mon, Tue, Wed, Fri, Sat), Closed (Thu),12noon to 12midnight (Sun)'\n",
            " '12noon to 12midnight (Mon, Tue, Wed, Thu, Sun), 12noon to 1am (Fri-Sat)'\n",
            " '8 AM to 11:30 PM'\n",
            " '6:30am to 10:30am, 12:30pm to 3pm, 7pm to 11pm (Mon),6:30am to 10:30am, 12:30pm to 3pm, 7:30pm to 11pm (Tue-Sat),6:30am to 10:30am, 12:30pm to 3:30pm, 7pm to 11pm (Sun)'\n",
            " '12 Noon to 3 PM, 7 PM to 11:30 PM' '9 AM to 10 PM'\n",
            " '5pm to 12midnight (Mon-Sun)' '11 AM to 11:30 PM'\n",
            " '11:30AM to 11PM (Mon-Sun)' '1 PM to 11 PM' '11:30 AM to 12 Midnight'\n",
            " '12 Noon to 3 PM, 7 PM to 11 PM' '11 AM to 8 PM (Mon-Sat), Sun Closed'\n",
            " '4 AM to 12 Midnight' '9 AM to 1 AM' '10:30 AM to 11 PM' '7 AM to 11 PM'\n",
            " '7 AM to 10:30 AM, 12:30 PM to 3:30 PM, 7 PM to 11 PM'\n",
            " '12 Noon to 3:30 PM, 7 PM to 11:30 PM'\n",
            " '12 Noon to 3:30 PM, 7 PM to 11 PM' '11am to 11pm (Mon-Sun)'\n",
            " '6 AM to 11:30 PM' '11:30 AM to 5 AM'\n",
            " '12:30 PM to 3:30 PM, 7 PM to 11 PM' '6pm to 2am (Mon-Sun)'\n",
            " '10 AM to 12 Midnight' '12 Noon to 4 AM' '1 PM to 1 AM' '24 Hours'\n",
            " '24 Hours (Mon-Sun)' '11:30 AM to 4 PM, 7 PM to 11 PM' '10 AM to 11 PM'\n",
            " '1 PM to 2 AM (Mon, Wed-Sun), Tue Closed' '12:30pm to 11:30pm (Mon-Sun)'\n",
            " '12Noon to 2AM (Mon-Sun)'\n",
            " '10 AM to 10 PM (Mon-Thu), 8 AM to 10:30 PM (Fri-Sun)'\n",
            " '8am to 12:30AM (Mon-Sun)' '11:30 AM to 3 PM, 7 PM to 12 Midnight']\n",
            "-----------------------------------------------------------------------------------------------------------------\n"
          ]
        }
      ]
    },
    {
      "cell_type": "code",
      "source": [
        "# Check Unique Values in each columns of review dataset.\n",
        "print(\"Unique values in these Retaurenat dataset in each columns: \\n\")\n",
        "for i in list(df2.columns):\n",
        "  print(f'Unique values in {i}---------->>  {df2[i].unique()}')\n",
        "  print(\"--------------------------------------------------------------------------------------------------------\")"
      ],
      "metadata": {
        "colab": {
          "base_uri": "https://localhost:8080/"
        },
        "id": "fLM_NhB9tvpP",
        "outputId": "5f444964-2add-438d-fba6-693c86cc826a"
      },
      "execution_count": 111,
      "outputs": [
        {
          "output_type": "stream",
          "name": "stdout",
          "text": [
            "Unique values in these Retaurenat dataset in each columns: \n",
            "\n",
            "Unique values in Restaurant---------->>  ['Beyond Flavours' 'Paradise' 'Flechazo' 'Shah Ghouse Hotel & Restaurant'\n",
            " 'Over The Moon Brew Company' \"The Fisherman's Wharf\" 'eat.fit'\n",
            " 'Shah Ghouse Spl Shawarma' 'Hyper Local' 'Cream Stone'\n",
            " \"Sardarji's Chaats & More\" 'Barbeque Nation' 'Absolute Sizzlers'\n",
            " 'The Lal Street - Bar Exchange' \"AB's - Absolute Barbecues\" 'KFC'\n",
            " 'NorFest - The Dhaba' 'Hotel Zara Hi-Fi' '10 Downing Street'\n",
            " 'Pakwaan Grand' '13 Dhaba'\n",
            " \"Jonathan's Kitchen - Holiday Inn Express & Suites\" 'B-Dubs' 'Amul'\n",
            " 'SKYHY' 'Tiki Shack' 'Mustang Terrace Lounge'\n",
            " \"3B's - Buddies, Bar & Barbecue\" 'Behrouz Biryani' 'Hunger Maggi Point'\n",
            " 'Pot Pourri' 'Pista House' 'Marsala Food Company' 'Club Rogue'\n",
            " 'Mazzo - Marriott Executive Apartments' 'Green Bawarchi Restaurant'\n",
            " 'Banana Leaf Multicuisine Restaurant' 'Kritunga Restaurant'\n",
            " 'The Glass Onion' 'Deli 9 Bistro' 'Frio Bistro' 'Karachi Bakery'\n",
            " 'Karachi Cafe' 'The Foodie Monster Kitchen' 'La La Land - Bar & Kitchen'\n",
            " 'Owm Nom Nom' 'Ulavacharu' 'Shanghai Chef 2' \"Udipi's Upahar\"\n",
            " 'Mathura Vilas' 'Gal Punjab Di' 'Hitech Bawarchi Food Zone'\n",
            " 'Biryanis And More' 'Diners Pavilion' 'Asian Meal Box' 'Cafe Eclat'\n",
            " 'Feast - Sheraton Hyderabad Hotel' 'Being Hungry' 'Tempteys' 'KS Bakers'\n",
            " 'PourHouse7' 'Prism Club & Kitchen'\n",
            " 'Shree Santosh Dhaba Family Restaurant' 'Dine O China' 'Hyderabad Chefs'\n",
            " 'Komatose - Holiday Inn Express & Suites' 'Aromas@11SIX'\n",
            " 'Yum Yum Tree - The Arabian Food Court' 'The Tilt Bar Republic'\n",
            " 'The Indi Grill' 'Urban Asia - Kitchen & Bar' 'Eat India Company'\n",
            " 'Labonel' 'Driven Cafe' 'Faasos' 'Royal Spicy Restaurant'\n",
            " 'The Old Madras Baking Company' 'Squeeze @ The Lime' 'Khaan Saab'\n",
            " 'Olive Garden' 'Tandoori Food Works' 'Delhi-39' 'Al Saba Restaurant'\n",
            " \"GD's\" 'T Grill' 'Momos Delight' 'The Chocolate Room'\n",
            " 'American Wild Wings' \"Domino's Pizza\" 'Mohammedia Shawarma'\n",
            " 'Arena Eleven' 'Cascade - Radisson Hyderabad Hitec City'\n",
            " 'Collage - Hyatt Hyderabad Gachibowli' \"Zing's Northeast Kitchen\"\n",
            " \"Dunkin' Donuts\" 'Desi Bytes' 'Hyderabadi Daawat'\n",
            " 'Zega - Sheraton Hyderabad Hotel' 'Triptify' 'Chinese Pavilion']\n",
            "--------------------------------------------------------------------------------------------------------\n",
            "Unique values in Reviewer---------->>  ['Rusha Chakraborty' 'Anusha Tirumalaneedi' 'Ashok Shekhawat' ...\n",
            " 'Ramandeep' 'Nayana Shanbhag' 'Bhargava Krishna']\n",
            "--------------------------------------------------------------------------------------------------------\n",
            "Unique values in Review---------->>  ['The ambience was good, food was quite good . had Saturday lunch , which was cost effective .\\nGood place for a sate brunch. One can also chill with friends and or parents.\\nWaiter Soumen Das was really courteous and helpful.'\n",
            " 'Ambience is too good for a pleasant evening. Service is very prompt. Food is good. Over all a good experience. Soumen Das - kudos to the service'\n",
            " 'A must try.. great food great ambience. Thnx for the service by Pradeep and Subroto. My personal recommendation is Penne Alfredo Pasta:) ....... Also the music in the background is amazing.'\n",
            " ...\n",
            " 'Bad rating is mainly because of \"Chicken Bone found in Veg food\" and is not acceptable for a Vegetarian.\\n\\nTo satiate Cravings for chinese food we headed to Chinese Pavilion and there was also a voucher available in Little app for Luncheon tray for Rs 310 (Veg) [well do not bother for the voucher as the price for Veg Luncheon tray is Rs 275/- + taxes in the restaurant itself).\\n\\nThe ambiance is decent and since it was noon, not many tables occupied so it was pretty quite.\\n\\nIt was Thrusday special (Veg):\\nHot and Sour soup: was just OK - well it had sprouts which were crunchy in your mouth: something different.\\nKimchi - salad (personally i\\'m never fond of it)\\nPotato in plum sauce - this was very good and well made\\nBrocolli, Baby corn, Mushroom in spicy sauce - this dish lived to its name \\'too spicy\\'; but was fine with fried rice\\nVeg hakka noodles - was good\\nVeg fried rice\\n\\nOverall the food tasted good until a piece of chicken BONE came into my friend\\'s (he is pure vegetarian) mouth while eating noodles. It was such a disappointment and complete experience was ruined.\\nWell Management did apologise but surely they cannot put things correct and were offering of not using coupon but we surely don\\'t want to visit the place again. I requested to see their kitchen if they really segregate pans for Veg/Non-veg cooking which Manager declined which makes me believe they don\\'t.\\n\\nStaff and service are fine but they really need to improve the segregation of Veg and Non-veg as in Indian Culture it means a lot.\\n\\nUploaded photos with the bone found.'\n",
            " 'I personally love and prefer Chinese Food. Had been here couple of times with my husband.\\n\\nThe ambiance of the place is very good. The entrance has some carvings and the walls were very nicely decorated. The server was very polite\\n\\nWhen it comes to food this place does not disappoint.This is a small/comfy restaurant that is surprisingly not very crowded even on weekends. \\n\\nWe went there for our anniversary celebrations and it was just perfect. No crowd, we got the attention and service we were looking for.'\n",
            " \"Checked in here to try some delicious chinese food here, seen non-veg luncheon tray menu ans tried the same which they are charging 300+ taxes..\\nStarted with manchow soup and liked it instantly.. Thereafter luncheon tray had came with pepper chicken starter, kimchi (salad), wolly chicken, egg fried rice and egg hakka noodles.. Taste is fine and didn't liked eating egg hakka noodles and egg fried rice at a time.. Badly missed dessert along with tray! (Dnt mind for extra price..)\\nValue for money and fine ambience.\"]\n",
            "--------------------------------------------------------------------------------------------------------\n",
            "Unique values in Rating---------->>  ['5' '4' '1' '3' '2' '3.5' '4.5' '2.5' '1.5' 'Like' nan]\n",
            "--------------------------------------------------------------------------------------------------------\n",
            "Unique values in Metadata---------->>  ['1 Review , 2 Followers' '3 Reviews , 2 Followers'\n",
            " '2 Reviews , 3 Followers' ... '65 Reviews , 423 Followers'\n",
            " '13 Reviews , 144 Followers' '472 Reviews , 1302 Followers']\n",
            "--------------------------------------------------------------------------------------------------------\n",
            "Unique values in Time---------->>  ['5/25/2019 15:54' '5/25/2019 14:20' '5/24/2019 22:54' ...\n",
            " '6/3/2016 10:37' '5/31/2016 17:22' '5/31/2016 16:41']\n",
            "--------------------------------------------------------------------------------------------------------\n",
            "Unique values in Pictures---------->>  [ 0  8  1  7  2  6  3  5  9  4 16 26 10 15 22 11 14 13 21 52 18 20 27 19\n",
            " 12 41 42 37 28 17 25 24 34 64 23 32]\n",
            "--------------------------------------------------------------------------------------------------------\n"
          ]
        }
      ]
    },
    {
      "cell_type": "markdown",
      "source": [
        "## 3. ***Data Wrangling***"
      ],
      "metadata": {
        "id": "dauF4eBmngu3"
      }
    },
    {
      "cell_type": "markdown",
      "source": [
        "### Data Wrangling Code"
      ],
      "metadata": {
        "id": "bKJF3rekwFvQ"
      }
    },
    {
      "cell_type": "markdown",
      "source": [
        "**Timings**"
      ],
      "metadata": {
        "id": "sZk1H--Iv1m_"
      }
    },
    {
      "cell_type": "code",
      "source": [
        "#Impute one missing timing row with the mode\n",
        "df1['Timings'].fillna(df1['Timings'].mode()[0],inplace=True)"
      ],
      "metadata": {
        "id": "wk-9a2fpoLcV"
      },
      "execution_count": 112,
      "outputs": []
    },
    {
      "cell_type": "markdown",
      "source": [
        "**Collections**"
      ],
      "metadata": {
        "id": "Ysl8LG-2wPcV"
      }
    },
    {
      "cell_type": "code",
      "source": [
        "#droping collections column \n",
        "df1.drop('Collections', axis=1, inplace=True)"
      ],
      "metadata": {
        "id": "Ojr2w64_v7RG"
      },
      "execution_count": 113,
      "outputs": []
    },
    {
      "cell_type": "markdown",
      "source": [
        "**Cost**"
      ],
      "metadata": {
        "id": "MBEIWB0aJp8X"
      }
    },
    {
      "cell_type": "code",
      "source": [
        "# changing cost datatype\n",
        "df1['Cost'] = df1['Cost'].str.replace(',','')\n",
        "df1['Cost'] = df1['Cost'].astype('int')"
      ],
      "metadata": {
        "id": "CIsgPqmazDW9"
      },
      "execution_count": 114,
      "outputs": []
    },
    {
      "cell_type": "markdown",
      "source": [
        "**Review**"
      ],
      "metadata": {
        "id": "vBpmWOhgLSza"
      }
    },
    {
      "cell_type": "code",
      "source": [
        "#dropping null rows in reviews first\n",
        "df2.dropna(subset = [\"Review\"], inplace=True)"
      ],
      "metadata": {
        "id": "ALaRyLf7KAdw"
      },
      "execution_count": 115,
      "outputs": []
    },
    {
      "cell_type": "markdown",
      "source": [
        "**Rating**"
      ],
      "metadata": {
        "id": "KPiBX_bVLZgH"
      }
    },
    {
      "cell_type": "code",
      "source": [
        "#like should not be here\n",
        "# correcting and changing the datatype\n",
        "df2['Rating'] = df2['Rating'].replace('Like','4')\n",
        "df2['Rating'] = df2['Rating'].astype('float')"
      ],
      "metadata": {
        "id": "Uf1IK9A7KaH1"
      },
      "execution_count": 116,
      "outputs": []
    },
    {
      "cell_type": "markdown",
      "source": [
        "**Time**"
      ],
      "metadata": {
        "id": "IEALCUQTMSQy"
      }
    },
    {
      "cell_type": "code",
      "source": [
        "df2['Time'] = pd.to_datetime(df2['Time'])"
      ],
      "metadata": {
        "id": "_vGkaygEMPXK"
      },
      "execution_count": 117,
      "outputs": []
    },
    {
      "cell_type": "code",
      "source": [
        "df1.info()"
      ],
      "metadata": {
        "colab": {
          "base_uri": "https://localhost:8080/"
        },
        "id": "RcI-LY22Ma5Z",
        "outputId": "c942d42d-bf49-4de8-fe1d-c9a7423983a8"
      },
      "execution_count": 118,
      "outputs": [
        {
          "output_type": "stream",
          "name": "stdout",
          "text": [
            "<class 'pandas.core.frame.DataFrame'>\n",
            "RangeIndex: 105 entries, 0 to 104\n",
            "Data columns (total 5 columns):\n",
            " #   Column    Non-Null Count  Dtype \n",
            "---  ------    --------------  ----- \n",
            " 0   Name      105 non-null    object\n",
            " 1   Links     105 non-null    object\n",
            " 2   Cost      105 non-null    int64 \n",
            " 3   Cuisines  105 non-null    object\n",
            " 4   Timings   105 non-null    object\n",
            "dtypes: int64(1), object(4)\n",
            "memory usage: 4.2+ KB\n"
          ]
        }
      ]
    },
    {
      "cell_type": "code",
      "source": [
        "df2.info()"
      ],
      "metadata": {
        "colab": {
          "base_uri": "https://localhost:8080/"
        },
        "id": "GGDP8qYAMpCV",
        "outputId": "cff08807-3668-4a94-9fdb-542df4133441"
      },
      "execution_count": 119,
      "outputs": [
        {
          "output_type": "stream",
          "name": "stdout",
          "text": [
            "<class 'pandas.core.frame.DataFrame'>\n",
            "Int64Index: 9955 entries, 0 to 9999\n",
            "Data columns (total 7 columns):\n",
            " #   Column      Non-Null Count  Dtype         \n",
            "---  ------      --------------  -----         \n",
            " 0   Restaurant  9955 non-null   object        \n",
            " 1   Reviewer    9955 non-null   object        \n",
            " 2   Review      9955 non-null   object        \n",
            " 3   Rating      9955 non-null   float64       \n",
            " 4   Metadata    9955 non-null   object        \n",
            " 5   Time        9955 non-null   datetime64[ns]\n",
            " 6   Pictures    9955 non-null   int64         \n",
            "dtypes: datetime64[ns](1), float64(1), int64(1), object(4)\n",
            "memory usage: 622.2+ KB\n"
          ]
        }
      ]
    },
    {
      "cell_type": "markdown",
      "source": [
        "**Cuisins**"
      ],
      "metadata": {
        "id": "fC4axwrlZC0M"
      }
    },
    {
      "cell_type": "code",
      "source": [
        "#We will consider the count of cuisines list as in Cuisines there are values seperated by comma\n",
        "list_of_cuisins = df1.Cuisines.str.split(', ')\n",
        "\n",
        "df1['Cuisines_list'] = pd.Series()\n",
        "\n",
        "for i in range(len(df1)):\n",
        "  df1['Cuisines_list'][i] = list_of_cuisins[i]"
      ],
      "metadata": {
        "id": "kJIrpJp3Y-9j"
      },
      "execution_count": 120,
      "outputs": []
    },
    {
      "cell_type": "code",
      "source": [
        "df1['Total Cuisines'] = df1['Cuisines_list'].apply(lambda x : len(x))\n",
        "df1.drop(['Cuisines'],axis=1,inplace=True)"
      ],
      "metadata": {
        "id": "oPqqkV_0ju5o"
      },
      "execution_count": 121,
      "outputs": []
    },
    {
      "cell_type": "code",
      "source": [
        "df1.head(1)"
      ],
      "metadata": {
        "colab": {
          "base_uri": "https://localhost:8080/",
          "height": 81
        },
        "id": "K0EkkK_zj3yx",
        "outputId": "29b615ea-addd-40fe-862a-6853f8abdcd1"
      },
      "execution_count": 122,
      "outputs": [
        {
          "output_type": "execute_result",
          "data": {
            "text/plain": [
              "              Name                                              Links  Cost  \\\n",
              "0  Beyond Flavours  https://www.zomato.com/hyderabad/beyond-flavou...   800   \n",
              "\n",
              "                                         Timings  \\\n",
              "0  12noon to 3:30pm, 6:30pm to 11:30pm (Mon-Sun)   \n",
              "\n",
              "                                       Cuisines_list  Total Cuisines  \n",
              "0  [Chinese, Continental, Kebab, European, South ...               6  "
            ],
            "text/html": [
              "\n",
              "  <div id=\"df-0b3a6efe-3ce7-4c73-acc9-acfbcd76c7c1\">\n",
              "    <div class=\"colab-df-container\">\n",
              "      <div>\n",
              "<style scoped>\n",
              "    .dataframe tbody tr th:only-of-type {\n",
              "        vertical-align: middle;\n",
              "    }\n",
              "\n",
              "    .dataframe tbody tr th {\n",
              "        vertical-align: top;\n",
              "    }\n",
              "\n",
              "    .dataframe thead th {\n",
              "        text-align: right;\n",
              "    }\n",
              "</style>\n",
              "<table border=\"1\" class=\"dataframe\">\n",
              "  <thead>\n",
              "    <tr style=\"text-align: right;\">\n",
              "      <th></th>\n",
              "      <th>Name</th>\n",
              "      <th>Links</th>\n",
              "      <th>Cost</th>\n",
              "      <th>Timings</th>\n",
              "      <th>Cuisines_list</th>\n",
              "      <th>Total Cuisines</th>\n",
              "    </tr>\n",
              "  </thead>\n",
              "  <tbody>\n",
              "    <tr>\n",
              "      <th>0</th>\n",
              "      <td>Beyond Flavours</td>\n",
              "      <td>https://www.zomato.com/hyderabad/beyond-flavou...</td>\n",
              "      <td>800</td>\n",
              "      <td>12noon to 3:30pm, 6:30pm to 11:30pm (Mon-Sun)</td>\n",
              "      <td>[Chinese, Continental, Kebab, European, South ...</td>\n",
              "      <td>6</td>\n",
              "    </tr>\n",
              "  </tbody>\n",
              "</table>\n",
              "</div>\n",
              "      <button class=\"colab-df-convert\" onclick=\"convertToInteractive('df-0b3a6efe-3ce7-4c73-acc9-acfbcd76c7c1')\"\n",
              "              title=\"Convert this dataframe to an interactive table.\"\n",
              "              style=\"display:none;\">\n",
              "        \n",
              "  <svg xmlns=\"http://www.w3.org/2000/svg\" height=\"24px\"viewBox=\"0 0 24 24\"\n",
              "       width=\"24px\">\n",
              "    <path d=\"M0 0h24v24H0V0z\" fill=\"none\"/>\n",
              "    <path d=\"M18.56 5.44l.94 2.06.94-2.06 2.06-.94-2.06-.94-.94-2.06-.94 2.06-2.06.94zm-11 1L8.5 8.5l.94-2.06 2.06-.94-2.06-.94L8.5 2.5l-.94 2.06-2.06.94zm10 10l.94 2.06.94-2.06 2.06-.94-2.06-.94-.94-2.06-.94 2.06-2.06.94z\"/><path d=\"M17.41 7.96l-1.37-1.37c-.4-.4-.92-.59-1.43-.59-.52 0-1.04.2-1.43.59L10.3 9.45l-7.72 7.72c-.78.78-.78 2.05 0 2.83L4 21.41c.39.39.9.59 1.41.59.51 0 1.02-.2 1.41-.59l7.78-7.78 2.81-2.81c.8-.78.8-2.07 0-2.86zM5.41 20L4 18.59l7.72-7.72 1.47 1.35L5.41 20z\"/>\n",
              "  </svg>\n",
              "      </button>\n",
              "      \n",
              "  <style>\n",
              "    .colab-df-container {\n",
              "      display:flex;\n",
              "      flex-wrap:wrap;\n",
              "      gap: 12px;\n",
              "    }\n",
              "\n",
              "    .colab-df-convert {\n",
              "      background-color: #E8F0FE;\n",
              "      border: none;\n",
              "      border-radius: 50%;\n",
              "      cursor: pointer;\n",
              "      display: none;\n",
              "      fill: #1967D2;\n",
              "      height: 32px;\n",
              "      padding: 0 0 0 0;\n",
              "      width: 32px;\n",
              "    }\n",
              "\n",
              "    .colab-df-convert:hover {\n",
              "      background-color: #E2EBFA;\n",
              "      box-shadow: 0px 1px 2px rgba(60, 64, 67, 0.3), 0px 1px 3px 1px rgba(60, 64, 67, 0.15);\n",
              "      fill: #174EA6;\n",
              "    }\n",
              "\n",
              "    [theme=dark] .colab-df-convert {\n",
              "      background-color: #3B4455;\n",
              "      fill: #D2E3FC;\n",
              "    }\n",
              "\n",
              "    [theme=dark] .colab-df-convert:hover {\n",
              "      background-color: #434B5C;\n",
              "      box-shadow: 0px 1px 3px 1px rgba(0, 0, 0, 0.15);\n",
              "      filter: drop-shadow(0px 1px 2px rgba(0, 0, 0, 0.3));\n",
              "      fill: #FFFFFF;\n",
              "    }\n",
              "  </style>\n",
              "\n",
              "      <script>\n",
              "        const buttonEl =\n",
              "          document.querySelector('#df-0b3a6efe-3ce7-4c73-acc9-acfbcd76c7c1 button.colab-df-convert');\n",
              "        buttonEl.style.display =\n",
              "          google.colab.kernel.accessAllowed ? 'block' : 'none';\n",
              "\n",
              "        async function convertToInteractive(key) {\n",
              "          const element = document.querySelector('#df-0b3a6efe-3ce7-4c73-acc9-acfbcd76c7c1');\n",
              "          const dataTable =\n",
              "            await google.colab.kernel.invokeFunction('convertToInteractive',\n",
              "                                                     [key], {});\n",
              "          if (!dataTable) return;\n",
              "\n",
              "          const docLinkHtml = 'Like what you see? Visit the ' +\n",
              "            '<a target=\"_blank\" href=https://colab.research.google.com/notebooks/data_table.ipynb>data table notebook</a>'\n",
              "            + ' to learn more about interactive tables.';\n",
              "          element.innerHTML = '';\n",
              "          dataTable['output_type'] = 'display_data';\n",
              "          await google.colab.output.renderOutput(dataTable, element);\n",
              "          const docLink = document.createElement('div');\n",
              "          docLink.innerHTML = docLinkHtml;\n",
              "          element.appendChild(docLink);\n",
              "        }\n",
              "      </script>\n",
              "    </div>\n",
              "  </div>\n",
              "  "
            ]
          },
          "metadata": {},
          "execution_count": 122
        }
      ]
    },
    {
      "cell_type": "markdown",
      "source": [
        "**Links**"
      ],
      "metadata": {
        "id": "BZNR-jydiZ4H"
      }
    },
    {
      "cell_type": "code",
      "source": [
        "# link value\n",
        "df1.loc[0,'Links']"
      ],
      "metadata": {
        "colab": {
          "base_uri": "https://localhost:8080/",
          "height": 36
        },
        "id": "ln6te1hvcuzp",
        "outputId": "45b806ba-322d-46ce-eddc-ed49ca02cd98"
      },
      "execution_count": 123,
      "outputs": [
        {
          "output_type": "execute_result",
          "data": {
            "text/plain": [
              "'https://www.zomato.com/hyderabad/beyond-flavours-gachibowli'"
            ],
            "application/vnd.google.colaboratory.intrinsic+json": {
              "type": "string"
            }
          },
          "metadata": {},
          "execution_count": 123
        }
      ]
    },
    {
      "cell_type": "code",
      "source": [
        "#function to extract location of the restaurant\n",
        "def location(link):\n",
        "  link_elements = link.split(\"/\")\n",
        "  return link_elements[3]\n",
        "\n",
        "#create a location feature\n",
        "df1['Location'] = df1['Links'].apply(location)"
      ],
      "metadata": {
        "id": "xuAERrlJfcnJ"
      },
      "execution_count": 124,
      "outputs": []
    },
    {
      "cell_type": "code",
      "source": [
        "df1.Location.value_counts()"
      ],
      "metadata": {
        "colab": {
          "base_uri": "https://localhost:8080/"
        },
        "id": "9YPKbNvXh-Pc",
        "outputId": "061f903a-3e5e-4285-a367-31c00cd16836"
      },
      "execution_count": 125,
      "outputs": [
        {
          "output_type": "execute_result",
          "data": {
            "text/plain": [
              "hyderabad             104\n",
              "thetiltbarrepublic      1\n",
              "Name: Location, dtype: int64"
            ]
          },
          "metadata": {},
          "execution_count": 125
        }
      ]
    },
    {
      "cell_type": "code",
      "source": [
        "# doppings links after extracting location\n",
        "df1.drop(['Links'],axis=1,inplace=True)"
      ],
      "metadata": {
        "id": "V8vFk6E_imcv"
      },
      "execution_count": 126,
      "outputs": []
    },
    {
      "cell_type": "markdown",
      "source": [
        "**Metadata**"
      ],
      "metadata": {
        "id": "EioXRsxmnxJ2"
      }
    },
    {
      "cell_type": "code",
      "source": [
        "df2['No. of Reviews'],df2['Followers']=df2['Metadata'].str.split(',').str\n",
        "df2['No. of Reviews'] = pd.to_numeric(df2['No. of Reviews'].str.split(' ').str[0])\n",
        "df2['Followers'] = pd.to_numeric(df2['Followers'].str.split(' ').str[1])\n",
        "df2 = df2.drop(['Metadata'], axis = 1)\n",
        "df2.dtypes"
      ],
      "metadata": {
        "colab": {
          "base_uri": "https://localhost:8080/"
        },
        "id": "m83CuOvpmW5-",
        "outputId": "e3bbc2af-bd59-49ed-afdf-2fe4dceda51b"
      },
      "execution_count": 127,
      "outputs": [
        {
          "output_type": "execute_result",
          "data": {
            "text/plain": [
              "Restaurant                object\n",
              "Reviewer                  object\n",
              "Review                    object\n",
              "Rating                   float64\n",
              "Time              datetime64[ns]\n",
              "Pictures                   int64\n",
              "No. of Reviews             int64\n",
              "Followers                float64\n",
              "dtype: object"
            ]
          },
          "metadata": {},
          "execution_count": 127
        }
      ]
    },
    {
      "cell_type": "markdown",
      "source": [
        "### What all manipulations have you done and insights you found?"
      ],
      "metadata": {
        "id": "MSa1f5Uengrz"
      }
    },
    {
      "cell_type": "markdown",
      "source": [
        "Answer Here."
      ],
      "metadata": {
        "id": "LbyXE7I1olp8"
      }
    },
    {
      "cell_type": "markdown",
      "source": [
        "## ***4. Data Vizualization, Storytelling & Experimenting with charts : Understand the relationships between variables***"
      ],
      "metadata": {
        "id": "GF8Ens_Soomf"
      }
    },
    {
      "cell_type": "markdown",
      "source": [
        "#### **Chart - 1 - Univariate Analysis**"
      ],
      "metadata": {
        "id": "0wOQAZs5pc--"
      }
    },
    {
      "cell_type": "code",
      "source": [
        "#distribution of Cost of Dining \n",
        "sns.distplot(x=df1['Cost'])\n",
        "plt.xlabel('Estimated Cost of dining',size=8)\n",
        "plt.title('Distribution Estimated Cost of dining',size=10)"
      ],
      "metadata": {
        "colab": {
          "base_uri": "https://localhost:8080/",
          "height": 433
        },
        "id": "vMyB9pa1W98y",
        "outputId": "3d69ca15-e2dc-4a78-f645-020d16c545cc"
      },
      "execution_count": 128,
      "outputs": [
        {
          "output_type": "execute_result",
          "data": {
            "text/plain": [
              "Text(0.5, 1.0, 'Distribution Estimated Cost of dining')"
            ]
          },
          "metadata": {},
          "execution_count": 128
        },
        {
          "output_type": "display_data",
          "data": {
            "text/plain": [
              "<Figure size 1050x420 with 1 Axes>"
            ],
            "image/png": "[encoded data removed]"
          },
          "metadata": {}
        }
      ]
    },
    {
      "cell_type": "markdown",
      "source": [
        "##### 1. Why did you pick the specific chart?"
      ],
      "metadata": {
        "id": "K5QZ13OEpz2H"
      }
    },
    {
      "cell_type": "markdown",
      "source": [
        "Answer Here."
      ],
      "metadata": {
        "id": "XESiWehPqBRc"
      }
    },
    {
      "cell_type": "markdown",
      "source": [
        "##### 2. What is/are the insight(s) found from the chart?"
      ],
      "metadata": {
        "id": "lQ7QKXXCp7Bj"
      }
    },
    {
      "cell_type": "markdown",
      "source": [
        "Answer Here"
      ],
      "metadata": {
        "id": "C_j1G7yiqdRP"
      }
    },
    {
      "cell_type": "markdown",
      "source": [
        "##### 3. Will the gained insights help creating a positive business impact? \n",
        "Are there any insights that lead to negative growth? Justify with specific reason."
      ],
      "metadata": {
        "id": "448CDAPjqfQr"
      }
    },
    {
      "cell_type": "markdown",
      "source": [
        "Answer Here"
      ],
      "metadata": {
        "id": "3cspy4FjqxJW"
      }
    },
    {
      "cell_type": "markdown",
      "source": [
        "#### Chart - 2"
      ],
      "metadata": {
        "id": "KSlN3yHqYklG"
      }
    },
    {
      "cell_type": "code",
      "source": [
        "# frequency distribution of Ratings\n",
        "sns.histplot(x= df2['Rating'])\n",
        "plt.xlabel('Rating',size=8)\n",
        "plt.title('Count of Restuarants as per the Ratings',size=10)"
      ],
      "metadata": {
        "id": "R4YgtaqtYklH",
        "colab": {
          "base_uri": "https://localhost:8080/",
          "height": 433
        },
        "outputId": "72ebd52c-d795-4810-f6e4-b961e20e7395"
      },
      "execution_count": 129,
      "outputs": [
        {
          "output_type": "execute_result",
          "data": {
            "text/plain": [
              "Text(0.5, 1.0, 'Count of Restuarants as per the Ratings')"
            ]
          },
          "metadata": {},
          "execution_count": 129
        },
        {
          "output_type": "display_data",
          "data": {
            "text/plain": [
              "<Figure size 1050x420 with 1 Axes>"
            ],
            "image/png": "[encoded data removed]"
          },
          "metadata": {}
        }
      ]
    },
    {
      "cell_type": "markdown",
      "source": [
        "##### 1. Why did you pick the specific chart?"
      ],
      "metadata": {
        "id": "t6dVpIINYklI"
      }
    },
    {
      "cell_type": "markdown",
      "source": [
        "Answer Here."
      ],
      "metadata": {
        "id": "5aaW0BYyYklI"
      }
    },
    {
      "cell_type": "markdown",
      "source": [
        "##### 2. What is/are the insight(s) found from the chart?"
      ],
      "metadata": {
        "id": "ijmpgYnKYklI"
      }
    },
    {
      "cell_type": "markdown",
      "source": [
        "Answer Here"
      ],
      "metadata": {
        "id": "PSx9atu2YklI"
      }
    },
    {
      "cell_type": "markdown",
      "source": [
        "##### 3. Will the gained insights help creating a positive business impact? \n",
        "Are there any insights that lead to negative growth? Justify with specific reason."
      ],
      "metadata": {
        "id": "-JiQyfWJYklI"
      }
    },
    {
      "cell_type": "markdown",
      "source": [
        "Answer Here"
      ],
      "metadata": {
        "id": "BcBbebzrYklV"
      }
    },
    {
      "cell_type": "markdown",
      "source": [
        "#### Chart - 3"
      ],
      "metadata": {
        "id": "EM7whBJCYoAo"
      }
    },
    {
      "cell_type": "code",
      "source": [
        "# Chart - 3 visualization code\n",
        "df_merged= df1.merge(df2, how='inner', left_on='Name', right_on='Restaurant')\n",
        "df_merged.head(1)"
      ],
      "metadata": {
        "id": "t6GMdE67YoAp",
        "colab": {
          "base_uri": "https://localhost:8080/",
          "height": 177
        },
        "outputId": "25078fba-2dcd-4999-85cf-44dbd7aac7b6"
      },
      "execution_count": 130,
      "outputs": [
        {
          "output_type": "execute_result",
          "data": {
            "text/plain": [
              "              Name  Cost                                        Timings  \\\n",
              "0  Beyond Flavours   800  12noon to 3:30pm, 6:30pm to 11:30pm (Mon-Sun)   \n",
              "\n",
              "                                       Cuisines_list  Total Cuisines  \\\n",
              "0  [Chinese, Continental, Kebab, European, South ...               6   \n",
              "\n",
              "    Location       Restaurant           Reviewer  \\\n",
              "0  hyderabad  Beyond Flavours  Rusha Chakraborty   \n",
              "\n",
              "                                              Review  Rating  \\\n",
              "0  The ambience was good, food was quite good . h...     5.0   \n",
              "\n",
              "                 Time  Pictures  No. of Reviews  Followers  \n",
              "0 2019-05-25 15:54:00         0               1        2.0  "
            ],
            "text/html": [
              "\n",
              "  <div id=\"df-400cfa83-11b5-4ad6-970a-11576aaf3607\">\n",
              "    <div class=\"colab-df-container\">\n",
              "      <div>\n",
              "<style scoped>\n",
              "    .dataframe tbody tr th:only-of-type {\n",
              "        vertical-align: middle;\n",
              "    }\n",
              "\n",
              "    .dataframe tbody tr th {\n",
              "        vertical-align: top;\n",
              "    }\n",
              "\n",
              "    .dataframe thead th {\n",
              "        text-align: right;\n",
              "    }\n",
              "</style>\n",
              "<table border=\"1\" class=\"dataframe\">\n",
              "  <thead>\n",
              "    <tr style=\"text-align: right;\">\n",
              "      <th></th>\n",
              "      <th>Name</th>\n",
              "      <th>Cost</th>\n",
              "      <th>Timings</th>\n",
              "      <th>Cuisines_list</th>\n",
              "      <th>Total Cuisines</th>\n",
              "      <th>Location</th>\n",
              "      <th>Restaurant</th>\n",
              "      <th>Reviewer</th>\n",
              "      <th>Review</th>\n",
              "      <th>Rating</th>\n",
              "      <th>Time</th>\n",
              "      <th>Pictures</th>\n",
              "      <th>No. of Reviews</th>\n",
              "      <th>Followers</th>\n",
              "    </tr>\n",
              "  </thead>\n",
              "  <tbody>\n",
              "    <tr>\n",
              "      <th>0</th>\n",
              "      <td>Beyond Flavours</td>\n",
              "      <td>800</td>\n",
              "      <td>12noon to 3:30pm, 6:30pm to 11:30pm (Mon-Sun)</td>\n",
              "      <td>[Chinese, Continental, Kebab, European, South ...</td>\n",
              "      <td>6</td>\n",
              "      <td>hyderabad</td>\n",
              "      <td>Beyond Flavours</td>\n",
              "      <td>Rusha Chakraborty</td>\n",
              "      <td>The ambience was good, food was quite good . h...</td>\n",
              "      <td>5.0</td>\n",
              "      <td>2019-05-25 15:54:00</td>\n",
              "      <td>0</td>\n",
              "      <td>1</td>\n",
              "      <td>2.0</td>\n",
              "    </tr>\n",
              "  </tbody>\n",
              "</table>\n",
              "</div>\n",
              "      <button class=\"colab-df-convert\" onclick=\"convertToInteractive('df-400cfa83-11b5-4ad6-970a-11576aaf3607')\"\n",
              "              title=\"Convert this dataframe to an interactive table.\"\n",
              "              style=\"display:none;\">\n",
              "        \n",
              "  <svg xmlns=\"http://www.w3.org/2000/svg\" height=\"24px\"viewBox=\"0 0 24 24\"\n",
              "       width=\"24px\">\n",
              "    <path d=\"M0 0h24v24H0V0z\" fill=\"none\"/>\n",
              "    <path d=\"M18.56 5.44l.94 2.06.94-2.06 2.06-.94-2.06-.94-.94-2.06-.94 2.06-2.06.94zm-11 1L8.5 8.5l.94-2.06 2.06-.94-2.06-.94L8.5 2.5l-.94 2.06-2.06.94zm10 10l.94 2.06.94-2.06 2.06-.94-2.06-.94-.94-2.06-.94 2.06-2.06.94z\"/><path d=\"M17.41 7.96l-1.37-1.37c-.4-.4-.92-.59-1.43-.59-.52 0-1.04.2-1.43.59L10.3 9.45l-7.72 7.72c-.78.78-.78 2.05 0 2.83L4 21.41c.39.39.9.59 1.41.59.51 0 1.02-.2 1.41-.59l7.78-7.78 2.81-2.81c.8-.78.8-2.07 0-2.86zM5.41 20L4 18.59l7.72-7.72 1.47 1.35L5.41 20z\"/>\n",
              "  </svg>\n",
              "      </button>\n",
              "      \n",
              "  <style>\n",
              "    .colab-df-container {\n",
              "      display:flex;\n",
              "      flex-wrap:wrap;\n",
              "      gap: 12px;\n",
              "    }\n",
              "\n",
              "    .colab-df-convert {\n",
              "      background-color: #E8F0FE;\n",
              "      border: none;\n",
              "      border-radius: 50%;\n",
              "      cursor: pointer;\n",
              "      display: none;\n",
              "      fill: #1967D2;\n",
              "      height: 32px;\n",
              "      padding: 0 0 0 0;\n",
              "      width: 32px;\n",
              "    }\n",
              "\n",
              "    .colab-df-convert:hover {\n",
              "      background-color: #E2EBFA;\n",
              "      box-shadow: 0px 1px 2px rgba(60, 64, 67, 0.3), 0px 1px 3px 1px rgba(60, 64, 67, 0.15);\n",
              "      fill: #174EA6;\n",
              "    }\n",
              "\n",
              "    [theme=dark] .colab-df-convert {\n",
              "      background-color: #3B4455;\n",
              "      fill: #D2E3FC;\n",
              "    }\n",
              "\n",
              "    [theme=dark] .colab-df-convert:hover {\n",
              "      background-color: #434B5C;\n",
              "      box-shadow: 0px 1px 3px 1px rgba(0, 0, 0, 0.15);\n",
              "      filter: drop-shadow(0px 1px 2px rgba(0, 0, 0, 0.3));\n",
              "      fill: #FFFFFF;\n",
              "    }\n",
              "  </style>\n",
              "\n",
              "      <script>\n",
              "        const buttonEl =\n",
              "          document.querySelector('#df-400cfa83-11b5-4ad6-970a-11576aaf3607 button.colab-df-convert');\n",
              "        buttonEl.style.display =\n",
              "          google.colab.kernel.accessAllowed ? 'block' : 'none';\n",
              "\n",
              "        async function convertToInteractive(key) {\n",
              "          const element = document.querySelector('#df-400cfa83-11b5-4ad6-970a-11576aaf3607');\n",
              "          const dataTable =\n",
              "            await google.colab.kernel.invokeFunction('convertToInteractive',\n",
              "                                                     [key], {});\n",
              "          if (!dataTable) return;\n",
              "\n",
              "          const docLinkHtml = 'Like what you see? Visit the ' +\n",
              "            '<a target=\"_blank\" href=https://colab.research.google.com/notebooks/data_table.ipynb>data table notebook</a>'\n",
              "            + ' to learn more about interactive tables.';\n",
              "          element.innerHTML = '';\n",
              "          dataTable['output_type'] = 'display_data';\n",
              "          await google.colab.output.renderOutput(dataTable, element);\n",
              "          const docLink = document.createElement('div');\n",
              "          docLink.innerHTML = docLinkHtml;\n",
              "          element.appendChild(docLink);\n",
              "        }\n",
              "      </script>\n",
              "    </div>\n",
              "  </div>\n",
              "  "
            ]
          },
          "metadata": {},
          "execution_count": 130
        }
      ]
    },
    {
      "cell_type": "code",
      "source": [
        "sns.boxplot(df_merged.Rating, df_merged.Cost)\n",
        "plt.show()"
      ],
      "metadata": {
        "colab": {
          "base_uri": "https://localhost:8080/",
          "height": 407
        },
        "id": "UmBaDLWAwwZz",
        "outputId": "8ae9299e-7999-45bf-e8dd-341dd3ae8385"
      },
      "execution_count": 131,
      "outputs": [
        {
          "output_type": "display_data",
          "data": {
            "text/plain": [
              "<Figure size 1050x420 with 1 Axes>"
            ],
            "image/png": "[encoded data removed]"
          },
          "metadata": {}
        }
      ]
    },
    {
      "cell_type": "markdown",
      "source": [
        "##### 1. Why did you pick the specific chart?"
      ],
      "metadata": {
        "id": "fge-S5ZAYoAp"
      }
    },
    {
      "cell_type": "markdown",
      "source": [
        "Answer Here."
      ],
      "metadata": {
        "id": "5dBItgRVYoAp"
      }
    },
    {
      "cell_type": "markdown",
      "source": [
        "##### 2. What is/are the insight(s) found from the chart?"
      ],
      "metadata": {
        "id": "85gYPyotYoAp"
      }
    },
    {
      "cell_type": "markdown",
      "source": [
        "Answer Here"
      ],
      "metadata": {
        "id": "4jstXR6OYoAp"
      }
    },
    {
      "cell_type": "markdown",
      "source": [
        "##### 3. Will the gained insights help creating a positive business impact? \n",
        "Are there any insights that lead to negative growth? Justify with specific reason."
      ],
      "metadata": {
        "id": "RoGjAbkUYoAp"
      }
    },
    {
      "cell_type": "markdown",
      "source": [
        "Answer Here"
      ],
      "metadata": {
        "id": "zfJ8IqMcYoAp"
      }
    },
    {
      "cell_type": "markdown",
      "source": [
        "#### Chart - 4"
      ],
      "metadata": {
        "id": "4Of9eVA-YrdM"
      }
    },
    {
      "cell_type": "code",
      "source": [
        "# average cost of each restaurant\n",
        "avg_cost_vs_rest= df1.groupby(['Name'])['Cost'].mean().sort_values(ascending=False).reset_index()\n",
        "avg_cost_vs_rest.sort_values(by = 'Cost',ascending = False,inplace = True)\n",
        "\n",
        "# plotting bar chart for average cost in each restaurant\n",
        "fig = plt.figure(figsize=[20,6])\n",
        "sns.barplot(data=avg_cost_vs_rest, x='Name', y= 'Cost',palette = 'dark')\n",
        "plt.title(\"Average cost of dining in each restaurant\")\n",
        "plt.xlabel('Restaurant Name')\n",
        "plt.xticks(rotation=90)\n",
        "plt.ylabel('Cost')\n",
        "plt.show()"
      ],
      "metadata": {
        "id": "irlUoxc8YrdO",
        "colab": {
          "base_uri": "https://localhost:8080/",
          "height": 751
        },
        "outputId": "1cf7ff22-2970-4674-d58e-c5099c0d8e13"
      },
      "execution_count": 188,
      "outputs": [
        {
          "output_type": "display_data",
          "data": {
            "text/plain": [
              "<Figure size 1400x420 with 1 Axes>"
            ],
            "image/png": "[encoded data removed]"
          },
          "metadata": {}
        }
      ]
    },
    {
      "cell_type": "markdown",
      "source": [
        "##### 1. Why did you pick the specific chart?"
      ],
      "metadata": {
        "id": "iky9q4vBYrdO"
      }
    },
    {
      "cell_type": "markdown",
      "source": [
        "Answer Here."
      ],
      "metadata": {
        "id": "aJRCwT6DYrdO"
      }
    },
    {
      "cell_type": "markdown",
      "source": [
        "##### 2. What is/are the insight(s) found from the chart?"
      ],
      "metadata": {
        "id": "F6T5p64dYrdO"
      }
    },
    {
      "cell_type": "markdown",
      "source": [
        "Answer Here"
      ],
      "metadata": {
        "id": "Xx8WAJvtYrdO"
      }
    },
    {
      "cell_type": "markdown",
      "source": [
        "##### 3. Will the gained insights help creating a positive business impact? \n",
        "Are there any insights that lead to negative growth? Justify with specific reason."
      ],
      "metadata": {
        "id": "y-Ehk30pYrdP"
      }
    },
    {
      "cell_type": "markdown",
      "source": [
        "Answer Here"
      ],
      "metadata": {
        "id": "jLNxxz7MYrdP"
      }
    },
    {
      "cell_type": "markdown",
      "source": [
        "#### Chart - 5"
      ],
      "metadata": {
        "id": "bamQiAODYuh1"
      }
    },
    {
      "cell_type": "code",
      "source": [
        "# Chart - 5 visualization code \n",
        "diff_cuisines = {} \n",
        "for names in list(df1['Cuisines_list']): \n",
        "    for name in names:\n",
        "        if (name in diff_cuisines):\n",
        "            diff_cuisines[name]+=1\n",
        "        else:  \n",
        "            diff_cuisines[name]=1 \n",
        "cuisines_df = pd.DataFrame(diff_cuisines.values(), diff_cuisines.keys(),columns = {'cuisines_counts'}).reset_index()\n",
        "cuisines_df.sort_values(by = 'cuisines_counts',ascending = False,inplace = True) \n",
        "cuisines_df.rename(columns={'index':'cuisines_name', 'cuisines_name':'cuisines_counts'},inplace=True)\n",
        "\n",
        "# plotting bar chart for Number of restaurants serving various cuisines\n",
        "fig = plt.figure(figsize=[15,6])\n",
        "sns.barplot(data=cuisines_df, x='cuisines_name', y= 'cuisines_counts',palette ='icefire')\n",
        "plt.title(\"Number of restaurants serving various cuisines\")\n",
        "plt.xlabel('Cuisines', fontsize=20)\n",
        "plt.xticks(rotation=90, fontsize=20)\n",
        "plt.ylabel('No of Restaurants' , fontsize=20)"
      ],
      "metadata": {
        "id": "TIJwrbroYuh3",
        "colab": {
          "base_uri": "https://localhost:8080/",
          "height": 578
        },
        "outputId": "9c87738e-d7a7-477e-89c4-1f0cc7bc6796"
      },
      "execution_count": 198,
      "outputs": [
        {
          "output_type": "execute_result",
          "data": {
            "text/plain": [
              "Text(0, 0.5, 'No of Restaurants')"
            ]
          },
          "metadata": {},
          "execution_count": 198
        },
        {
          "output_type": "display_data",
          "data": {
            "text/plain": [
              "<Figure size 1050x420 with 1 Axes>"
            ],
            "image/png": "[encoded data removed]"
          },
          "metadata": {}
        }
      ]
    },
    {
      "cell_type": "markdown",
      "source": [
        "##### 1. Why did you pick the specific chart?"
      ],
      "metadata": {
        "id": "QHF8YVU7Yuh3"
      }
    },
    {
      "cell_type": "markdown",
      "source": [
        "Answer Here."
      ],
      "metadata": {
        "id": "dcxuIMRPYuh3"
      }
    },
    {
      "cell_type": "markdown",
      "source": [
        "##### 2. What is/are the insight(s) found from the chart?"
      ],
      "metadata": {
        "id": "GwzvFGzlYuh3"
      }
    },
    {
      "cell_type": "markdown",
      "source": [
        "Answer Here"
      ],
      "metadata": {
        "id": "uyqkiB8YYuh3"
      }
    },
    {
      "cell_type": "markdown",
      "source": [
        "##### 3. Will the gained insights help creating a positive business impact? \n",
        "Are there any insights that lead to negative growth? Justify with specific reason."
      ],
      "metadata": {
        "id": "qYpmQ266Yuh3"
      }
    },
    {
      "cell_type": "markdown",
      "source": [
        "Answer Here"
      ],
      "metadata": {
        "id": "_WtzZ_hCYuh4"
      }
    },
    {
      "cell_type": "markdown",
      "source": [
        "#### Chart - 6"
      ],
      "metadata": {
        "id": "OH-pJp9IphqM"
      }
    },
    {
      "cell_type": "code",
      "source": [
        "#Will check best restaurants in terms of rating\n",
        "top_restaurants= df2.groupby(['Restaurant'])['Rating'].mean().sort_values(ascending=False).reset_index()\n",
        "sns.barplot(x='Rating', y='Restaurant', data=top_restaurants.sort_values(ascending=False, by='Rating')[:10],palette ='deep' )\n",
        "plt.title('10 Most Rated Restaurant')\n",
        "\n",
        "plt.show()"
      ],
      "metadata": {
        "id": "kuRf4wtuphqN",
        "colab": {
          "base_uri": "https://localhost:8080/",
          "height": 541
        },
        "outputId": "08e47434-9e2a-4ca4-8803-84129910974d"
      },
      "execution_count": 204,
      "outputs": [
        {
          "output_type": "display_data",
          "data": {
            "text/plain": [
              "<Figure size 840x560 with 1 Axes>"
            ],
            "image/png": "[encoded data removed]"
          },
          "metadata": {}
        }
      ]
    },
    {
      "cell_type": "markdown",
      "source": [
        "##### 1. Why did you pick the specific chart?"
      ],
      "metadata": {
        "id": "bbFf2-_FphqN"
      }
    },
    {
      "cell_type": "markdown",
      "source": [
        "Answer Here."
      ],
      "metadata": {
        "id": "loh7H2nzphqN"
      }
    },
    {
      "cell_type": "markdown",
      "source": [
        "##### 2. What is/are the insight(s) found from the chart?"
      ],
      "metadata": {
        "id": "_ouA3fa0phqN"
      }
    },
    {
      "cell_type": "markdown",
      "source": [
        "Answer Here"
      ],
      "metadata": {
        "id": "VECbqPI7phqN"
      }
    },
    {
      "cell_type": "markdown",
      "source": [
        "##### 3. Will the gained insights help creating a positive business impact? \n",
        "Are there any insights that lead to negative growth? Justify with specific reason."
      ],
      "metadata": {
        "id": "Seke61FWphqN"
      }
    },
    {
      "cell_type": "markdown",
      "source": [
        "Answer Here"
      ],
      "metadata": {
        "id": "DW4_bGpfphqN"
      }
    },
    {
      "cell_type": "markdown",
      "source": [
        "#### Chart - 7"
      ],
      "metadata": {
        "id": "PIIx-8_IphqN"
      }
    },
    {
      "cell_type": "code",
      "source": [
        "# top 10 most expensive restaurant\n",
        "sns.barplot(x='Cost', y='Name', data=df1.sort_values(ascending=False, by='Cost')[:10],palette ='deep')\n",
        "plt.title('10 Most Expensive Restaurant')\n",
        "plt.show()"
      ],
      "metadata": {
        "id": "lqAIGUfyphqO",
        "colab": {
          "base_uri": "https://localhost:8080/",
          "height": 541
        },
        "outputId": "4a6fb7b0-26d2-49f0-aa66-84b4fc2a776f"
      },
      "execution_count": 209,
      "outputs": [
        {
          "output_type": "display_data",
          "data": {
            "text/plain": [
              "<Figure size 840x560 with 1 Axes>"
            ],
            "image/png": "[encoded data removed]"
          },
          "metadata": {}
        }
      ]
    },
    {
      "cell_type": "markdown",
      "source": [
        "##### 1. Why did you pick the specific chart?"
      ],
      "metadata": {
        "id": "t27r6nlMphqO"
      }
    },
    {
      "cell_type": "markdown",
      "source": [
        "Answer Here."
      ],
      "metadata": {
        "id": "iv6ro40sphqO"
      }
    },
    {
      "cell_type": "markdown",
      "source": [
        "##### 2. What is/are the insight(s) found from the chart?"
      ],
      "metadata": {
        "id": "r2jJGEOYphqO"
      }
    },
    {
      "cell_type": "markdown",
      "source": [
        "Answer Here"
      ],
      "metadata": {
        "id": "Po6ZPi4hphqO"
      }
    },
    {
      "cell_type": "markdown",
      "source": [
        "##### 3. Will the gained insights help creating a positive business impact? \n",
        "Are there any insights that lead to negative growth? Justify with specific reason."
      ],
      "metadata": {
        "id": "b0JNsNcRphqO"
      }
    },
    {
      "cell_type": "markdown",
      "source": [
        "Answer Here"
      ],
      "metadata": {
        "id": "xvSq8iUTphqO"
      }
    },
    {
      "cell_type": "markdown",
      "source": [
        "#### Chart - 8"
      ],
      "metadata": {
        "id": "BZR9WyysphqO"
      }
    },
    {
      "cell_type": "code",
      "source": [
        "# Chart - 8 visualization code"
      ],
      "metadata": {
        "id": "TdPTWpAVphqO"
      },
      "execution_count": 136,
      "outputs": []
    },
    {
      "cell_type": "markdown",
      "source": [
        "##### 1. Why did you pick the specific chart?"
      ],
      "metadata": {
        "id": "jj7wYXLtphqO"
      }
    },
    {
      "cell_type": "markdown",
      "source": [
        "Answer Here."
      ],
      "metadata": {
        "id": "Ob8u6rCTphqO"
      }
    },
    {
      "cell_type": "markdown",
      "source": [
        "##### 2. What is/are the insight(s) found from the chart?"
      ],
      "metadata": {
        "id": "eZrbJ2SmphqO"
      }
    },
    {
      "cell_type": "markdown",
      "source": [
        "Answer Here"
      ],
      "metadata": {
        "id": "mZtgC_hjphqO"
      }
    },
    {
      "cell_type": "markdown",
      "source": [
        "##### 3. Will the gained insights help creating a positive business impact? \n",
        "Are there any insights that lead to negative growth? Justify with specific reason."
      ],
      "metadata": {
        "id": "rFu4xreNphqO"
      }
    },
    {
      "cell_type": "markdown",
      "source": [
        "Answer Here"
      ],
      "metadata": {
        "id": "ey_0qi68phqO"
      }
    },
    {
      "cell_type": "markdown",
      "source": [
        "#### Chart - 9"
      ],
      "metadata": {
        "id": "YJ55k-q6phqO"
      }
    },
    {
      "cell_type": "code",
      "source": [
        "# Chart - 9 visualization code"
      ],
      "metadata": {
        "id": "B2aS4O1ophqO"
      },
      "execution_count": 137,
      "outputs": []
    },
    {
      "cell_type": "markdown",
      "source": [
        "##### 1. Why did you pick the specific chart?"
      ],
      "metadata": {
        "id": "gCFgpxoyphqP"
      }
    },
    {
      "cell_type": "markdown",
      "source": [
        "Answer Here."
      ],
      "metadata": {
        "id": "TVxDimi2phqP"
      }
    },
    {
      "cell_type": "markdown",
      "source": [
        "##### 2. What is/are the insight(s) found from the chart?"
      ],
      "metadata": {
        "id": "OVtJsKN_phqQ"
      }
    },
    {
      "cell_type": "markdown",
      "source": [
        "Answer Here"
      ],
      "metadata": {
        "id": "ngGi97qjphqQ"
      }
    },
    {
      "cell_type": "markdown",
      "source": [
        "##### 3. Will the gained insights help creating a positive business impact? \n",
        "Are there any insights that lead to negative growth? Justify with specific reason."
      ],
      "metadata": {
        "id": "lssrdh5qphqQ"
      }
    },
    {
      "cell_type": "markdown",
      "source": [
        "Answer Here"
      ],
      "metadata": {
        "id": "tBpY5ekJphqQ"
      }
    },
    {
      "cell_type": "markdown",
      "source": [
        "#### Chart - 10"
      ],
      "metadata": {
        "id": "U2RJ9gkRphqQ"
      }
    },
    {
      "cell_type": "code",
      "source": [
        "# Chart - 10 visualization code"
      ],
      "metadata": {
        "id": "GM7a4YP4phqQ"
      },
      "execution_count": 138,
      "outputs": []
    },
    {
      "cell_type": "markdown",
      "source": [
        "##### 1. Why did you pick the specific chart?"
      ],
      "metadata": {
        "id": "1M8mcRywphqQ"
      }
    },
    {
      "cell_type": "markdown",
      "source": [
        "Answer Here."
      ],
      "metadata": {
        "id": "8agQvks0phqQ"
      }
    },
    {
      "cell_type": "markdown",
      "source": [
        "##### 2. What is/are the insight(s) found from the chart?"
      ],
      "metadata": {
        "id": "tgIPom80phqQ"
      }
    },
    {
      "cell_type": "markdown",
      "source": [
        "Answer Here"
      ],
      "metadata": {
        "id": "Qp13pnNzphqQ"
      }
    },
    {
      "cell_type": "markdown",
      "source": [
        "##### 3. Will the gained insights help creating a positive business impact? \n",
        "Are there any insights that lead to negative growth? Justify with specific reason."
      ],
      "metadata": {
        "id": "JMzcOPDDphqR"
      }
    },
    {
      "cell_type": "markdown",
      "source": [
        "Answer Here"
      ],
      "metadata": {
        "id": "R4Ka1PC2phqR"
      }
    },
    {
      "cell_type": "markdown",
      "source": [
        "#### Chart - 11"
      ],
      "metadata": {
        "id": "x-EpHcCOp1ci"
      }
    },
    {
      "cell_type": "code",
      "source": [
        "# Chart - 11 visualization code"
      ],
      "metadata": {
        "id": "mAQTIvtqp1cj"
      },
      "execution_count": 139,
      "outputs": []
    },
    {
      "cell_type": "markdown",
      "source": [
        "##### 1. Why did you pick the specific chart?"
      ],
      "metadata": {
        "id": "X_VqEhTip1ck"
      }
    },
    {
      "cell_type": "markdown",
      "source": [
        "Answer Here."
      ],
      "metadata": {
        "id": "-vsMzt_np1ck"
      }
    },
    {
      "cell_type": "markdown",
      "source": [
        "##### 2. What is/are the insight(s) found from the chart?"
      ],
      "metadata": {
        "id": "8zGJKyg5p1ck"
      }
    },
    {
      "cell_type": "markdown",
      "source": [
        "Answer Here"
      ],
      "metadata": {
        "id": "ZYdMsrqVp1ck"
      }
    },
    {
      "cell_type": "markdown",
      "source": [
        "##### 3. Will the gained insights help creating a positive business impact? \n",
        "Are there any insights that lead to negative growth? Justify with specific reason."
      ],
      "metadata": {
        "id": "PVzmfK_Ep1ck"
      }
    },
    {
      "cell_type": "markdown",
      "source": [
        "Answer Here"
      ],
      "metadata": {
        "id": "druuKYZpp1ck"
      }
    },
    {
      "cell_type": "markdown",
      "source": [
        "#### Chart - 12"
      ],
      "metadata": {
        "id": "n3dbpmDWp1ck"
      }
    },
    {
      "cell_type": "code",
      "source": [
        "# Chart - 12 visualization code"
      ],
      "metadata": {
        "id": "bwevp1tKp1ck"
      },
      "execution_count": 140,
      "outputs": []
    },
    {
      "cell_type": "markdown",
      "source": [
        "##### 1. Why did you pick the specific chart?"
      ],
      "metadata": {
        "id": "ylSl6qgtp1ck"
      }
    },
    {
      "cell_type": "markdown",
      "source": [
        "Answer Here."
      ],
      "metadata": {
        "id": "m2xqNkiQp1ck"
      }
    },
    {
      "cell_type": "markdown",
      "source": [
        "##### 2. What is/are the insight(s) found from the chart?"
      ],
      "metadata": {
        "id": "ZWILFDl5p1ck"
      }
    },
    {
      "cell_type": "markdown",
      "source": [
        "Answer Here"
      ],
      "metadata": {
        "id": "x-lUsV2mp1ck"
      }
    },
    {
      "cell_type": "markdown",
      "source": [
        "##### 3. Will the gained insights help creating a positive business impact? \n",
        "Are there any insights that lead to negative growth? Justify with specific reason."
      ],
      "metadata": {
        "id": "M7G43BXep1ck"
      }
    },
    {
      "cell_type": "markdown",
      "source": [
        "Answer Here"
      ],
      "metadata": {
        "id": "5wwDJXsLp1cl"
      }
    },
    {
      "cell_type": "markdown",
      "source": [
        "#### Chart - 13"
      ],
      "metadata": {
        "id": "Ag9LCva-p1cl"
      }
    },
    {
      "cell_type": "code",
      "source": [
        "# Chart - 13 visualization code"
      ],
      "metadata": {
        "id": "EUfxeq9-p1cl"
      },
      "execution_count": 141,
      "outputs": []
    },
    {
      "cell_type": "markdown",
      "source": [
        "##### 1. Why did you pick the specific chart?"
      ],
      "metadata": {
        "id": "E6MkPsBcp1cl"
      }
    },
    {
      "cell_type": "markdown",
      "source": [
        "Answer Here."
      ],
      "metadata": {
        "id": "V22bRsFWp1cl"
      }
    },
    {
      "cell_type": "markdown",
      "source": [
        "##### 2. What is/are the insight(s) found from the chart?"
      ],
      "metadata": {
        "id": "2cELzS2fp1cl"
      }
    },
    {
      "cell_type": "markdown",
      "source": [
        "Answer Here"
      ],
      "metadata": {
        "id": "ozQPc2_Ip1cl"
      }
    },
    {
      "cell_type": "markdown",
      "source": [
        "##### 3. Will the gained insights help creating a positive business impact? \n",
        "Are there any insights that lead to negative growth? Justify with specific reason."
      ],
      "metadata": {
        "id": "3MPXvC8up1cl"
      }
    },
    {
      "cell_type": "markdown",
      "source": [
        "Answer Here"
      ],
      "metadata": {
        "id": "GL8l1tdLp1cl"
      }
    },
    {
      "cell_type": "markdown",
      "source": [
        "#### Chart - 14 - Correlation Heatmap"
      ],
      "metadata": {
        "id": "NC_X3p0fY2L0"
      }
    },
    {
      "cell_type": "code",
      "source": [
        "# Correlation Heatmap visualization code"
      ],
      "metadata": {
        "id": "xyC9zolEZNRQ"
      },
      "execution_count": 142,
      "outputs": []
    },
    {
      "cell_type": "markdown",
      "source": [
        "##### 1. Why did you pick the specific chart?"
      ],
      "metadata": {
        "id": "UV0SzAkaZNRQ"
      }
    },
    {
      "cell_type": "markdown",
      "source": [
        "Answer Here."
      ],
      "metadata": {
        "id": "DVPuT8LYZNRQ"
      }
    },
    {
      "cell_type": "markdown",
      "source": [
        "##### 2. What is/are the insight(s) found from the chart?"
      ],
      "metadata": {
        "id": "YPEH6qLeZNRQ"
      }
    },
    {
      "cell_type": "markdown",
      "source": [
        "Answer Here"
      ],
      "metadata": {
        "id": "bfSqtnDqZNRR"
      }
    },
    {
      "cell_type": "markdown",
      "source": [
        "#### Chart - 15 - Pair Plot "
      ],
      "metadata": {
        "id": "q29F0dvdveiT"
      }
    },
    {
      "cell_type": "code",
      "source": [
        "# Pair Plot visualization code"
      ],
      "metadata": {
        "id": "o58-TEIhveiU"
      },
      "execution_count": 143,
      "outputs": []
    },
    {
      "cell_type": "markdown",
      "source": [
        "##### 1. Why did you pick the specific chart?"
      ],
      "metadata": {
        "id": "EXh0U9oCveiU"
      }
    },
    {
      "cell_type": "markdown",
      "source": [
        "Answer Here."
      ],
      "metadata": {
        "id": "eMmPjTByveiU"
      }
    },
    {
      "cell_type": "markdown",
      "source": [
        "##### 2. What is/are the insight(s) found from the chart?"
      ],
      "metadata": {
        "id": "22aHeOlLveiV"
      }
    },
    {
      "cell_type": "markdown",
      "source": [
        "Answer Here"
      ],
      "metadata": {
        "id": "uPQ8RGwHveiV"
      }
    },
    {
      "cell_type": "markdown",
      "source": [
        "## ***5. Hypothesis Testing***"
      ],
      "metadata": {
        "id": "g-ATYxFrGrvw"
      }
    },
    {
      "cell_type": "markdown",
      "source": [
        "### Based on your chart experiments, define three hypothetical statements from the dataset. In the next three questions, perform hypothesis testing to obtain final conclusion about the statements through your code and statistical testing."
      ],
      "metadata": {
        "id": "Yfr_Vlr8HBkt"
      }
    },
    {
      "cell_type": "markdown",
      "source": [
        "Answer Here."
      ],
      "metadata": {
        "id": "-7MS06SUHkB-"
      }
    },
    {
      "cell_type": "markdown",
      "source": [
        "### Hypothetical Statement - 1"
      ],
      "metadata": {
        "id": "8yEUt7NnHlrM"
      }
    },
    {
      "cell_type": "markdown",
      "source": [
        "#### 1. State Your research hypothesis as a null hypothesis and alternate hypothesis."
      ],
      "metadata": {
        "id": "tEA2Xm5dHt1r"
      }
    },
    {
      "cell_type": "markdown",
      "source": [
        "Answer Here."
      ],
      "metadata": {
        "id": "HI9ZP0laH0D-"
      }
    },
    {
      "cell_type": "markdown",
      "source": [
        "#### 2. Perform an appropriate statistical test."
      ],
      "metadata": {
        "id": "I79__PHVH19G"
      }
    },
    {
      "cell_type": "code",
      "source": [
        "# Perform Statistical Test to obtain P-Value"
      ],
      "metadata": {
        "id": "oZrfquKtyian"
      },
      "execution_count": 144,
      "outputs": []
    },
    {
      "cell_type": "markdown",
      "source": [
        "##### Which statistical test have you done to obtain P-Value?"
      ],
      "metadata": {
        "id": "Ou-I18pAyIpj"
      }
    },
    {
      "cell_type": "markdown",
      "source": [
        "Answer Here."
      ],
      "metadata": {
        "id": "s2U0kk00ygSB"
      }
    },
    {
      "cell_type": "markdown",
      "source": [
        "##### Why did you choose the specific statistical test?"
      ],
      "metadata": {
        "id": "fF3858GYyt-u"
      }
    },
    {
      "cell_type": "markdown",
      "source": [
        "Answer Here."
      ],
      "metadata": {
        "id": "HO4K0gP5y3B4"
      }
    },
    {
      "cell_type": "markdown",
      "source": [
        "### Hypothetical Statement - 2"
      ],
      "metadata": {
        "id": "4_0_7-oCpUZd"
      }
    },
    {
      "cell_type": "markdown",
      "source": [
        "#### 1. State Your research hypothesis as a null hypothesis and alternate hypothesis."
      ],
      "metadata": {
        "id": "hwyV_J3ipUZe"
      }
    },
    {
      "cell_type": "markdown",
      "source": [
        "Answer Here."
      ],
      "metadata": {
        "id": "FnpLGJ-4pUZe"
      }
    },
    {
      "cell_type": "markdown",
      "source": [
        "#### 2. Perform an appropriate statistical test."
      ],
      "metadata": {
        "id": "3yB-zSqbpUZe"
      }
    },
    {
      "cell_type": "code",
      "source": [
        "# Perform Statistical Test to obtain P-Value"
      ],
      "metadata": {
        "id": "sWxdNTXNpUZe"
      },
      "execution_count": 145,
      "outputs": []
    },
    {
      "cell_type": "markdown",
      "source": [
        "##### Which statistical test have you done to obtain P-Value?"
      ],
      "metadata": {
        "id": "dEUvejAfpUZe"
      }
    },
    {
      "cell_type": "markdown",
      "source": [
        "Answer Here."
      ],
      "metadata": {
        "id": "oLDrPz7HpUZf"
      }
    },
    {
      "cell_type": "markdown",
      "source": [
        "##### Why did you choose the specific statistical test?"
      ],
      "metadata": {
        "id": "Fd15vwWVpUZf"
      }
    },
    {
      "cell_type": "markdown",
      "source": [
        "Answer Here."
      ],
      "metadata": {
        "id": "4xOGYyiBpUZf"
      }
    },
    {
      "cell_type": "markdown",
      "source": [
        "### Hypothetical Statement - 3"
      ],
      "metadata": {
        "id": "bn_IUdTipZyH"
      }
    },
    {
      "cell_type": "markdown",
      "source": [
        "#### 1. State Your research hypothesis as a null hypothesis and alternate hypothesis."
      ],
      "metadata": {
        "id": "49K5P_iCpZyH"
      }
    },
    {
      "cell_type": "markdown",
      "source": [
        "Answer Here."
      ],
      "metadata": {
        "id": "7gWI5rT9pZyH"
      }
    },
    {
      "cell_type": "markdown",
      "source": [
        "#### 2. Perform an appropriate statistical test."
      ],
      "metadata": {
        "id": "Nff-vKELpZyI"
      }
    },
    {
      "cell_type": "code",
      "source": [
        "# Perform Statistical Test to obtain P-Value"
      ],
      "metadata": {
        "id": "s6AnJQjtpZyI"
      },
      "execution_count": 146,
      "outputs": []
    },
    {
      "cell_type": "markdown",
      "source": [
        "##### Which statistical test have you done to obtain P-Value?"
      ],
      "metadata": {
        "id": "kLW572S8pZyI"
      }
    },
    {
      "cell_type": "markdown",
      "source": [
        "Answer Here."
      ],
      "metadata": {
        "id": "ytWJ8v15pZyI"
      }
    },
    {
      "cell_type": "markdown",
      "source": [
        "##### Why did you choose the specific statistical test?"
      ],
      "metadata": {
        "id": "dWbDXHzopZyI"
      }
    },
    {
      "cell_type": "markdown",
      "source": [
        "Answer Here."
      ],
      "metadata": {
        "id": "M99G98V6pZyI"
      }
    },
    {
      "cell_type": "markdown",
      "source": [
        "## ***6. Feature Engineering & Data Pre-processing***"
      ],
      "metadata": {
        "id": "yLjJCtPM0KBk"
      }
    },
    {
      "cell_type": "markdown",
      "source": [
        "### 1. Handling Missing Values"
      ],
      "metadata": {
        "id": "xiyOF9F70UgQ"
      }
    },
    {
      "cell_type": "code",
      "source": [
        "# Handling Missing Values & Missing Value Imputation"
      ],
      "metadata": {
        "id": "iRsAHk1K0fpS"
      },
      "execution_count": 147,
      "outputs": []
    },
    {
      "cell_type": "markdown",
      "source": [
        "#### What all missing value imputation techniques have you used and why did you use those techniques?"
      ],
      "metadata": {
        "id": "7wuGOrhz0itI"
      }
    },
    {
      "cell_type": "markdown",
      "source": [
        "Answer Here."
      ],
      "metadata": {
        "id": "1ixusLtI0pqI"
      }
    },
    {
      "cell_type": "markdown",
      "source": [
        "### 2. Handling Outliers"
      ],
      "metadata": {
        "id": "id1riN9m0vUs"
      }
    },
    {
      "cell_type": "code",
      "source": [
        "# Handling Outliers & Outlier treatments"
      ],
      "metadata": {
        "id": "M6w2CzZf04JK"
      },
      "execution_count": 148,
      "outputs": []
    },
    {
      "cell_type": "markdown",
      "source": [
        "##### What all outlier treatment techniques have you used and why did you use those techniques?"
      ],
      "metadata": {
        "id": "578E2V7j08f6"
      }
    },
    {
      "cell_type": "markdown",
      "source": [
        "Answer Here."
      ],
      "metadata": {
        "id": "uGZz5OrT1HH-"
      }
    },
    {
      "cell_type": "markdown",
      "source": [
        "### 3. Categorical Encoding"
      ],
      "metadata": {
        "id": "89xtkJwZ18nB"
      }
    },
    {
      "cell_type": "code",
      "source": [
        "# Encode your categorical columns"
      ],
      "metadata": {
        "id": "21JmIYMG2hEo"
      },
      "execution_count": 149,
      "outputs": []
    },
    {
      "cell_type": "markdown",
      "source": [
        "#### What all categorical encoding techniques have you used & why did you use those techniques?"
      ],
      "metadata": {
        "id": "67NQN5KX2AMe"
      }
    },
    {
      "cell_type": "markdown",
      "source": [
        "Answer Here."
      ],
      "metadata": {
        "id": "UDaue5h32n_G"
      }
    },
    {
      "cell_type": "markdown",
      "source": [
        "### 4. Textual Data Preprocessing \n",
        "(It's mandatory for textual dataset i.e., NLP, Sentiment Analysis, Text Clustering etc.)"
      ],
      "metadata": {
        "id": "Iwf50b-R2tYG"
      }
    },
    {
      "cell_type": "markdown",
      "source": [
        "#### 1. Expand Contraction"
      ],
      "metadata": {
        "id": "GMQiZwjn3iu7"
      }
    },
    {
      "cell_type": "code",
      "source": [
        "# Expand Contraction"
      ],
      "metadata": {
        "id": "PTouz10C3oNN"
      },
      "execution_count": 150,
      "outputs": []
    },
    {
      "cell_type": "markdown",
      "source": [
        "#### 2. Lower Casing"
      ],
      "metadata": {
        "id": "WVIkgGqN3qsr"
      }
    },
    {
      "cell_type": "code",
      "source": [
        "# Lower Casing"
      ],
      "metadata": {
        "id": "88JnJ1jN3w7j"
      },
      "execution_count": 151,
      "outputs": []
    },
    {
      "cell_type": "markdown",
      "source": [
        "#### 3. Removing Punctuations"
      ],
      "metadata": {
        "id": "XkPnILGE3zoT"
      }
    },
    {
      "cell_type": "code",
      "source": [
        "# Remove Punctuations"
      ],
      "metadata": {
        "id": "vqbBqNaA33c0"
      },
      "execution_count": 152,
      "outputs": []
    },
    {
      "cell_type": "markdown",
      "source": [
        "#### 4. Removing URLs & Removing words and digits contain digits."
      ],
      "metadata": {
        "id": "Hlsf0x5436Go"
      }
    },
    {
      "cell_type": "code",
      "source": [
        "# Remove URLs & Remove words and digits contain digits"
      ],
      "metadata": {
        "id": "2sxKgKxu4Ip3"
      },
      "execution_count": 153,
      "outputs": []
    },
    {
      "cell_type": "markdown",
      "source": [
        "#### 5. Removing Stopwords & Removing White spaces"
      ],
      "metadata": {
        "id": "mT9DMSJo4nBL"
      }
    },
    {
      "cell_type": "code",
      "source": [
        "# Remove Stopwords"
      ],
      "metadata": {
        "id": "T2LSJh154s8W"
      },
      "execution_count": 154,
      "outputs": []
    },
    {
      "cell_type": "code",
      "source": [
        "# Remove White spaces"
      ],
      "metadata": {
        "id": "EgLJGffy4vm0"
      },
      "execution_count": 155,
      "outputs": []
    },
    {
      "cell_type": "markdown",
      "source": [
        "#### 6. Rephrase Text"
      ],
      "metadata": {
        "id": "c49ITxTc407N"
      }
    },
    {
      "cell_type": "code",
      "source": [
        "# Rephrase Text"
      ],
      "metadata": {
        "id": "foqY80Qu48N2"
      },
      "execution_count": 156,
      "outputs": []
    },
    {
      "cell_type": "markdown",
      "source": [
        "#### 7. Tokenization"
      ],
      "metadata": {
        "id": "OeJFEK0N496M"
      }
    },
    {
      "cell_type": "code",
      "source": [
        "# Tokenization"
      ],
      "metadata": {
        "id": "ijx1rUOS5CUU"
      },
      "execution_count": 157,
      "outputs": []
    },
    {
      "cell_type": "markdown",
      "source": [
        "#### 8. Text Normalization"
      ],
      "metadata": {
        "id": "9ExmJH0g5HBk"
      }
    },
    {
      "cell_type": "code",
      "source": [
        "# Normalizing Text (i.e., Stemming, Lemmatization etc.)"
      ],
      "metadata": {
        "id": "AIJ1a-Zc5PY8"
      },
      "execution_count": 158,
      "outputs": []
    },
    {
      "cell_type": "markdown",
      "source": [
        "##### Which text normalization technique have you used and why?"
      ],
      "metadata": {
        "id": "cJNqERVU536h"
      }
    },
    {
      "cell_type": "markdown",
      "source": [
        "Answer Here."
      ],
      "metadata": {
        "id": "Z9jKVxE06BC1"
      }
    },
    {
      "cell_type": "markdown",
      "source": [
        "#### 9. Part of speech tagging"
      ],
      "metadata": {
        "id": "k5UmGsbsOxih"
      }
    },
    {
      "cell_type": "code",
      "source": [
        "# POS Taging"
      ],
      "metadata": {
        "id": "btT3ZJBAO6Ik"
      },
      "execution_count": 159,
      "outputs": []
    },
    {
      "cell_type": "markdown",
      "source": [
        "#### 10. Text Vectorization"
      ],
      "metadata": {
        "id": "T0VqWOYE6DLQ"
      }
    },
    {
      "cell_type": "code",
      "source": [
        "# Vectorizing Text"
      ],
      "metadata": {
        "id": "yBRtdhth6JDE"
      },
      "execution_count": 160,
      "outputs": []
    },
    {
      "cell_type": "markdown",
      "source": [
        "##### Which text vectorization technique have you used and why?"
      ],
      "metadata": {
        "id": "qBMux9mC6MCf"
      }
    },
    {
      "cell_type": "markdown",
      "source": [
        "Answer Here."
      ],
      "metadata": {
        "id": "su2EnbCh6UKQ"
      }
    },
    {
      "cell_type": "markdown",
      "source": [
        "### 4. Feature Manipulation & Selection"
      ],
      "metadata": {
        "id": "-oLEiFgy-5Pf"
      }
    },
    {
      "cell_type": "markdown",
      "source": [
        "#### 1. Feature Manipulation"
      ],
      "metadata": {
        "id": "C74aWNz2AliB"
      }
    },
    {
      "cell_type": "code",
      "source": [
        "# Manipulate Features to minimize feature correlation and create new features"
      ],
      "metadata": {
        "id": "h1qC4yhBApWC"
      },
      "execution_count": 161,
      "outputs": []
    },
    {
      "cell_type": "markdown",
      "source": [
        "#### 2. Feature Selection"
      ],
      "metadata": {
        "id": "2DejudWSA-a0"
      }
    },
    {
      "cell_type": "code",
      "source": [
        "# Select your features wisely to avoid overfitting"
      ],
      "metadata": {
        "id": "YLhe8UmaBCEE"
      },
      "execution_count": 162,
      "outputs": []
    },
    {
      "cell_type": "markdown",
      "source": [
        "##### What all feature selection methods have you used  and why?"
      ],
      "metadata": {
        "id": "pEMng2IbBLp7"
      }
    },
    {
      "cell_type": "markdown",
      "source": [
        "Answer Here."
      ],
      "metadata": {
        "id": "rb2Lh6Z8BgGs"
      }
    },
    {
      "cell_type": "markdown",
      "source": [
        "##### Which all features you found important and why?"
      ],
      "metadata": {
        "id": "rAdphbQ9Bhjc"
      }
    },
    {
      "cell_type": "markdown",
      "source": [
        "Answer Here."
      ],
      "metadata": {
        "id": "fGgaEstsBnaf"
      }
    },
    {
      "cell_type": "markdown",
      "source": [
        "### 5. Data Transformation"
      ],
      "metadata": {
        "id": "TNVZ9zx19K6k"
      }
    },
    {
      "cell_type": "markdown",
      "source": [
        "#### Do you think that your data needs to be transformed? If yes, which transformation have you used. Explain Why?"
      ],
      "metadata": {
        "id": "nqoHp30x9hH9"
      }
    },
    {
      "cell_type": "code",
      "source": [
        "# Transform Your data"
      ],
      "metadata": {
        "id": "I6quWQ1T9rtH"
      },
      "execution_count": 163,
      "outputs": []
    },
    {
      "cell_type": "markdown",
      "source": [
        "### 6. Data Scaling"
      ],
      "metadata": {
        "id": "rMDnDkt2B6du"
      }
    },
    {
      "cell_type": "code",
      "source": [
        "# Scaling your data"
      ],
      "metadata": {
        "id": "dL9LWpySC6x_"
      },
      "execution_count": 164,
      "outputs": []
    },
    {
      "cell_type": "markdown",
      "source": [
        "##### Which method have you used to scale you data and why?"
      ],
      "metadata": {
        "id": "yiiVWRdJDDil"
      }
    },
    {
      "cell_type": "markdown",
      "source": [
        "### 7. Dimesionality Reduction"
      ],
      "metadata": {
        "id": "1UUpS68QDMuG"
      }
    },
    {
      "cell_type": "markdown",
      "source": [
        "##### Do you think that dimensionality reduction is needed? Explain Why?"
      ],
      "metadata": {
        "id": "kexQrXU-DjzY"
      }
    },
    {
      "cell_type": "markdown",
      "source": [
        "Answer Here."
      ],
      "metadata": {
        "id": "GGRlBsSGDtTQ"
      }
    },
    {
      "cell_type": "code",
      "source": [
        "# DImensionality Reduction (If needed)"
      ],
      "metadata": {
        "id": "kQfvxBBHDvCa"
      },
      "execution_count": 165,
      "outputs": []
    },
    {
      "cell_type": "markdown",
      "source": [
        "##### Which dimensionality reduction technique have you used and why? (If dimensionality reduction done on dataset.)"
      ],
      "metadata": {
        "id": "T5CmagL3EC8N"
      }
    },
    {
      "cell_type": "markdown",
      "source": [
        "Answer Here."
      ],
      "metadata": {
        "id": "ZKr75IDuEM7t"
      }
    },
    {
      "cell_type": "markdown",
      "source": [
        "### 8. Data Splitting"
      ],
      "metadata": {
        "id": "BhH2vgX9EjGr"
      }
    },
    {
      "cell_type": "code",
      "source": [
        "# Split your data to train and test. Choose Splitting ratio wisely."
      ],
      "metadata": {
        "id": "0CTyd2UwEyNM"
      },
      "execution_count": 166,
      "outputs": []
    },
    {
      "cell_type": "markdown",
      "source": [
        "##### What data splitting ratio have you used and why? "
      ],
      "metadata": {
        "id": "qjKvONjwE8ra"
      }
    },
    {
      "cell_type": "markdown",
      "source": [
        "Answer Here."
      ],
      "metadata": {
        "id": "Y2lJ8cobFDb_"
      }
    },
    {
      "cell_type": "markdown",
      "source": [
        "### 9. Handling Imbalanced Dataset"
      ],
      "metadata": {
        "id": "P1XJ9OREExlT"
      }
    },
    {
      "cell_type": "markdown",
      "source": [
        "##### Do you think the dataset is imbalanced? Explain Why."
      ],
      "metadata": {
        "id": "VFOzZv6IFROw"
      }
    },
    {
      "cell_type": "markdown",
      "source": [
        "Answer Here."
      ],
      "metadata": {
        "id": "GeKDIv7pFgcC"
      }
    },
    {
      "cell_type": "code",
      "source": [
        "# Handling Imbalanced Dataset (If needed)"
      ],
      "metadata": {
        "id": "nQsRhhZLFiDs"
      },
      "execution_count": 167,
      "outputs": []
    },
    {
      "cell_type": "markdown",
      "source": [
        "##### What technique did you use to handle the imbalance dataset and why? (If needed to be balanced)"
      ],
      "metadata": {
        "id": "TIqpNgepFxVj"
      }
    },
    {
      "cell_type": "markdown",
      "source": [
        "Answer Here."
      ],
      "metadata": {
        "id": "qbet1HwdGDTz"
      }
    },
    {
      "cell_type": "markdown",
      "source": [
        "## ***7. ML Model Implementation***"
      ],
      "metadata": {
        "id": "VfCC591jGiD4"
      }
    },
    {
      "cell_type": "markdown",
      "source": [
        "### ML Model - 1"
      ],
      "metadata": {
        "id": "OB4l2ZhMeS1U"
      }
    },
    {
      "cell_type": "code",
      "source": [
        "# ML Model - 1 Implementation\n",
        "\n",
        "# Fit the Algorithm\n",
        "\n",
        "# Predict on the model"
      ],
      "metadata": {
        "id": "7ebyywQieS1U"
      },
      "execution_count": 168,
      "outputs": []
    },
    {
      "cell_type": "markdown",
      "source": [
        "#### 1. Explain the ML Model used and it's performance using Evaluation metric Score Chart."
      ],
      "metadata": {
        "id": "ArJBuiUVfxKd"
      }
    },
    {
      "cell_type": "code",
      "source": [
        "# Visualizing evaluation Metric Score chart"
      ],
      "metadata": {
        "id": "rqD5ZohzfxKe"
      },
      "execution_count": 169,
      "outputs": []
    },
    {
      "cell_type": "markdown",
      "source": [
        "#### 2. Cross- Validation & Hyperparameter Tuning"
      ],
      "metadata": {
        "id": "4qY1EAkEfxKe"
      }
    },
    {
      "cell_type": "code",
      "source": [
        "# ML Model - 1 Implementation with hyperparameter optimization techniques (i.e., GridSearch CV, RandomSearch CV, Bayesian Optimization etc.)\n",
        "\n",
        "# Fit the Algorithm\n",
        "\n",
        "# Predict on the model"
      ],
      "metadata": {
        "id": "Dy61ujd6fxKe"
      },
      "execution_count": 170,
      "outputs": []
    },
    {
      "cell_type": "markdown",
      "source": [
        "##### Which hyperparameter optimization technique have you used and why?"
      ],
      "metadata": {
        "id": "PiV4Ypx8fxKe"
      }
    },
    {
      "cell_type": "markdown",
      "source": [
        "Answer Here."
      ],
      "metadata": {
        "id": "negyGRa7fxKf"
      }
    },
    {
      "cell_type": "markdown",
      "source": [
        "##### Have you seen any improvement? Note down the improvement with updates Evaluation metric Score Chart."
      ],
      "metadata": {
        "id": "TfvqoZmBfxKf"
      }
    },
    {
      "cell_type": "markdown",
      "source": [
        "Answer Here."
      ],
      "metadata": {
        "id": "OaLui8CcfxKf"
      }
    },
    {
      "cell_type": "markdown",
      "source": [
        "### ML Model - 2"
      ],
      "metadata": {
        "id": "dJ2tPlVmpsJ0"
      }
    },
    {
      "cell_type": "markdown",
      "source": [
        "#### 1. Explain the ML Model used and it's performance using Evaluation metric Score Chart."
      ],
      "metadata": {
        "id": "JWYfwnehpsJ1"
      }
    },
    {
      "cell_type": "code",
      "source": [
        "# Visualizing evaluation Metric Score chart"
      ],
      "metadata": {
        "id": "yEl-hgQWpsJ1"
      },
      "execution_count": 171,
      "outputs": []
    },
    {
      "cell_type": "markdown",
      "source": [
        "#### 2. Cross- Validation & Hyperparameter Tuning"
      ],
      "metadata": {
        "id": "-jK_YjpMpsJ2"
      }
    },
    {
      "cell_type": "code",
      "source": [
        "# ML Model - 1 Implementation with hyperparameter optimization techniques (i.e., GridSearch CV, RandomSearch CV, Bayesian Optimization etc.)\n",
        "\n",
        "# Fit the Algorithm\n",
        "\n",
        "# Predict on the model"
      ],
      "metadata": {
        "id": "Dn0EOfS6psJ2"
      },
      "execution_count": 172,
      "outputs": []
    },
    {
      "cell_type": "markdown",
      "source": [
        "##### Which hyperparameter optimization technique have you used and why?"
      ],
      "metadata": {
        "id": "HAih1iBOpsJ2"
      }
    },
    {
      "cell_type": "markdown",
      "source": [
        "Answer Here."
      ],
      "metadata": {
        "id": "9kBgjYcdpsJ2"
      }
    },
    {
      "cell_type": "markdown",
      "source": [
        "##### Have you seen any improvement? Note down the improvement with updates Evaluation metric Score Chart."
      ],
      "metadata": {
        "id": "zVGeBEFhpsJ2"
      }
    },
    {
      "cell_type": "markdown",
      "source": [
        "Answer Here."
      ],
      "metadata": {
        "id": "74yRdG6UpsJ3"
      }
    },
    {
      "cell_type": "markdown",
      "source": [
        "#### 3. Explain each evaluation metric's indication towards business and the business impact pf the ML model used."
      ],
      "metadata": {
        "id": "bmKjuQ-FpsJ3"
      }
    },
    {
      "cell_type": "markdown",
      "source": [
        "Answer Here."
      ],
      "metadata": {
        "id": "BDKtOrBQpsJ3"
      }
    },
    {
      "cell_type": "markdown",
      "source": [
        "### ML Model - 3"
      ],
      "metadata": {
        "id": "Fze-IPXLpx6K"
      }
    },
    {
      "cell_type": "code",
      "source": [
        "# ML Model - 3 Implementation\n",
        "\n",
        "# Fit the Algorithm\n",
        "\n",
        "# Predict on the model"
      ],
      "metadata": {
        "id": "FFrSXAtrpx6M"
      },
      "execution_count": 173,
      "outputs": []
    },
    {
      "cell_type": "markdown",
      "source": [
        "#### 1. Explain the ML Model used and it's performance using Evaluation metric Score Chart."
      ],
      "metadata": {
        "id": "7AN1z2sKpx6M"
      }
    },
    {
      "cell_type": "code",
      "source": [
        "# Visualizing evaluation Metric Score chart"
      ],
      "metadata": {
        "id": "xIY4lxxGpx6M"
      },
      "execution_count": 174,
      "outputs": []
    },
    {
      "cell_type": "markdown",
      "source": [
        "#### 2. Cross- Validation & Hyperparameter Tuning"
      ],
      "metadata": {
        "id": "9PIHJqyupx6M"
      }
    },
    {
      "cell_type": "code",
      "source": [
        "# ML Model - 3 Implementation with hyperparameter optimization techniques (i.e., GridSearch CV, RandomSearch CV, Bayesian Optimization etc.)\n",
        "\n",
        "# Fit the Algorithm\n",
        "\n",
        "# Predict on the model"
      ],
      "metadata": {
        "id": "eSVXuaSKpx6M"
      },
      "execution_count": 175,
      "outputs": []
    },
    {
      "cell_type": "markdown",
      "source": [
        "##### Which hyperparameter optimization technique have you used and why?"
      ],
      "metadata": {
        "id": "_-qAgymDpx6N"
      }
    },
    {
      "cell_type": "markdown",
      "source": [
        "Answer Here."
      ],
      "metadata": {
        "id": "lQMffxkwpx6N"
      }
    },
    {
      "cell_type": "markdown",
      "source": [
        "##### Have you seen any improvement? Note down the improvement with updates Evaluation metric Score Chart."
      ],
      "metadata": {
        "id": "Z-hykwinpx6N"
      }
    },
    {
      "cell_type": "markdown",
      "source": [
        "Answer Here."
      ],
      "metadata": {
        "id": "MzVzZC6opx6N"
      }
    },
    {
      "cell_type": "markdown",
      "source": [
        "### 1. Which Evaluation metrics did you consider for a positive business impact and why?"
      ],
      "metadata": {
        "id": "h_CCil-SKHpo"
      }
    },
    {
      "cell_type": "markdown",
      "source": [
        "Answer Here."
      ],
      "metadata": {
        "id": "jHVz9hHDKFms"
      }
    },
    {
      "cell_type": "markdown",
      "source": [
        "### 2. Which ML model did you choose from the above created models as your final prediction model and why?"
      ],
      "metadata": {
        "id": "cBFFvTBNJzUa"
      }
    },
    {
      "cell_type": "markdown",
      "source": [
        "Answer Here."
      ],
      "metadata": {
        "id": "6ksF5Q1LKTVm"
      }
    },
    {
      "cell_type": "markdown",
      "source": [
        "### 3. Explain the model which you have used and the feature importance using any model explainability tool?"
      ],
      "metadata": {
        "id": "HvGl1hHyA_VK"
      }
    },
    {
      "cell_type": "markdown",
      "source": [
        "Answer Here."
      ],
      "metadata": {
        "id": "YnvVTiIxBL-C"
      }
    },
    {
      "cell_type": "markdown",
      "source": [
        "## ***8.*** ***Future Work (Optional)***"
      ],
      "metadata": {
        "id": "EyNgTHvd2WFk"
      }
    },
    {
      "cell_type": "markdown",
      "source": [
        "### 1. Save the best performing ml model in a pickle file or joblib file format for deployment process.\n"
      ],
      "metadata": {
        "id": "KH5McJBi2d8v"
      }
    },
    {
      "cell_type": "code",
      "source": [
        "# Save the File"
      ],
      "metadata": {
        "id": "bQIANRl32f4J"
      },
      "execution_count": 176,
      "outputs": []
    },
    {
      "cell_type": "markdown",
      "source": [
        "### 2. Again Load the saved model file and try to predict unseen data for a sanity check.\n"
      ],
      "metadata": {
        "id": "iW_Lq9qf2h6X"
      }
    },
    {
      "cell_type": "code",
      "source": [
        "# Load the File and predict unseen data."
      ],
      "metadata": {
        "id": "oEXk9ydD2nVC"
      },
      "execution_count": 177,
      "outputs": []
    },
    {
      "cell_type": "markdown",
      "source": [
        "### ***Congrats! Your model is successfully created and ready for deployment on a live server for a real user interaction !!!***"
      ],
      "metadata": {
        "id": "-Kee-DAl2viO"
      }
    },
    {
      "cell_type": "markdown",
      "source": [
        "# **Conclusion**"
      ],
      "metadata": {
        "id": "gCX9965dhzqZ"
      }
    },
    {
      "cell_type": "markdown",
      "source": [
        "Write the conclusion here."
      ],
      "metadata": {
        "id": "Fjb1IsQkh3yE"
      }
    },
    {
      "cell_type": "markdown",
      "source": [
        "### ***Hurrah! You have successfully completed your Machine Learning Capstone Project !!!***"
      ],
      "metadata": {
        "id": "gIfDvo9L0UH2"
      }
    }
  ]
}